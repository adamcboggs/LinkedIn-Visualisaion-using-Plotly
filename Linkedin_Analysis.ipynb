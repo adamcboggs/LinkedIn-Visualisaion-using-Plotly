{
  "nbformat": 4,
  "nbformat_minor": 0,
  "metadata": {
    "colab": {
      "name": "Linkedin Analysis",
      "provenance": [],
      "collapsed_sections": []
    },
    "kernelspec": {
      "name": "python3",
      "display_name": "Python 3"
    }
  },
  "cells": [
    {
      "cell_type": "code",
      "metadata": {
        "id": "Rs8Q4Hsl9xOb",
        "colab_type": "code",
        "colab": {}
      },
      "source": [
        "import pandas as pd\n",
        "import seaborn as sns\n",
        "import plotly.express as px\n",
        "import plotly.graph_objects as go"
      ],
      "execution_count": 0,
      "outputs": []
    },
    {
      "cell_type": "code",
      "metadata": {
        "id": "NWU7PYTS-abk",
        "colab_type": "code",
        "colab": {}
      },
      "source": [
        "df = pd.read_csv(\"/content/drive/My Drive/Colab Notebooks/Connections.csv\")"
      ],
      "execution_count": 0,
      "outputs": []
    },
    {
      "cell_type": "code",
      "metadata": {
        "id": "jbKvN0ZT-etq",
        "colab_type": "code",
        "outputId": "ea78890f-86f3-4a93-b1ba-9cc328bb5026",
        "colab": {
          "base_uri": "https://localhost:8080/",
          "height": 111
        }
      },
      "source": [
        "df.head(2)"
      ],
      "execution_count": 0,
      "outputs": [
        {
          "output_type": "execute_result",
          "data": {
            "text/html": [
              "<div>\n",
              "<style scoped>\n",
              "    .dataframe tbody tr th:only-of-type {\n",
              "        vertical-align: middle;\n",
              "    }\n",
              "\n",
              "    .dataframe tbody tr th {\n",
              "        vertical-align: top;\n",
              "    }\n",
              "\n",
              "    .dataframe thead th {\n",
              "        text-align: right;\n",
              "    }\n",
              "</style>\n",
              "<table border=\"1\" class=\"dataframe\">\n",
              "  <thead>\n",
              "    <tr style=\"text-align: right;\">\n",
              "      <th></th>\n",
              "      <th>First Name</th>\n",
              "      <th>Last Name</th>\n",
              "      <th>Email Address</th>\n",
              "      <th>Company</th>\n",
              "      <th>Position</th>\n",
              "      <th>Connected On</th>\n",
              "    </tr>\n",
              "  </thead>\n",
              "  <tbody>\n",
              "    <tr>\n",
              "      <th>0</th>\n",
              "      <td>Nandini</td>\n",
              "      <td>Reddy</td>\n",
              "      <td>NaN</td>\n",
              "      <td>Deloitte India (Offices of the US)</td>\n",
              "      <td>Business Technology Analyst</td>\n",
              "      <td>15 May 2020</td>\n",
              "    </tr>\n",
              "    <tr>\n",
              "      <th>1</th>\n",
              "      <td>Dr. Rishik</td>\n",
              "      <td>Sharma</td>\n",
              "      <td>NaN</td>\n",
              "      <td>Aegis School of Business, Data Science &amp; Telec...</td>\n",
              "      <td>Student</td>\n",
              "      <td>14 May 2020</td>\n",
              "    </tr>\n",
              "  </tbody>\n",
              "</table>\n",
              "</div>"
            ],
            "text/plain": [
              "   First Name Last Name  ...                     Position Connected On\n",
              "0     Nandini     Reddy  ...  Business Technology Analyst  15 May 2020\n",
              "1  Dr. Rishik    Sharma  ...                      Student  14 May 2020\n",
              "\n",
              "[2 rows x 6 columns]"
            ]
          },
          "metadata": {
            "tags": []
          },
          "execution_count": 32
        }
      ]
    },
    {
      "cell_type": "code",
      "metadata": {
        "id": "vcNb_PWNXCAP",
        "colab_type": "code",
        "outputId": "f80c8c45-0d65-413d-cd5c-846ba53c2b22",
        "colab": {
          "base_uri": "https://localhost:8080/",
          "height": 238
        }
      },
      "source": [
        "df.info()"
      ],
      "execution_count": 0,
      "outputs": [
        {
          "output_type": "stream",
          "text": [
            "<class 'pandas.core.frame.DataFrame'>\n",
            "RangeIndex: 336 entries, 0 to 335\n",
            "Data columns (total 6 columns):\n",
            " #   Column         Non-Null Count  Dtype \n",
            "---  ------         --------------  ----- \n",
            " 0   First Name     336 non-null    object\n",
            " 1   Last Name      336 non-null    object\n",
            " 2   Email Address  4 non-null      object\n",
            " 3   Company        247 non-null    object\n",
            " 4   Position       248 non-null    object\n",
            " 5   Connected On   336 non-null    object\n",
            "dtypes: object(6)\n",
            "memory usage: 15.9+ KB\n"
          ],
          "name": "stdout"
        }
      ]
    },
    {
      "cell_type": "code",
      "metadata": {
        "id": "XrVid8WIXCqG",
        "colab_type": "code",
        "colab": {}
      },
      "source": [
        "import datetime\n",
        "def fun(date):    \n",
        "  return datetime.datetime.strptime(date, \"%d %b %Y\").strftime(\"%Y-%m-%d\")\n",
        "\n",
        "df[\"Connected On\"] = df[\"Connected On\"].apply(fun)"
      ],
      "execution_count": 0,
      "outputs": []
    },
    {
      "cell_type": "code",
      "metadata": {
        "id": "JFCWROqTYEFO",
        "colab_type": "code",
        "colab": {}
      },
      "source": [
        "df=df.sort_values(by=\"Connected On\")"
      ],
      "execution_count": 0,
      "outputs": []
    },
    {
      "cell_type": "code",
      "metadata": {
        "id": "8O0Iv7zTY05y",
        "colab_type": "code",
        "outputId": "9960ceaf-319c-4e7f-9b0d-68d248946be7",
        "colab": {
          "base_uri": "https://localhost:8080/",
          "height": 204
        }
      },
      "source": [
        "df.head(5)"
      ],
      "execution_count": 0,
      "outputs": [
        {
          "output_type": "execute_result",
          "data": {
            "text/html": [
              "<div>\n",
              "<style scoped>\n",
              "    .dataframe tbody tr th:only-of-type {\n",
              "        vertical-align: middle;\n",
              "    }\n",
              "\n",
              "    .dataframe tbody tr th {\n",
              "        vertical-align: top;\n",
              "    }\n",
              "\n",
              "    .dataframe thead th {\n",
              "        text-align: right;\n",
              "    }\n",
              "</style>\n",
              "<table border=\"1\" class=\"dataframe\">\n",
              "  <thead>\n",
              "    <tr style=\"text-align: right;\">\n",
              "      <th></th>\n",
              "      <th>First Name</th>\n",
              "      <th>Last Name</th>\n",
              "      <th>Email Address</th>\n",
              "      <th>Company</th>\n",
              "      <th>Position</th>\n",
              "      <th>Connected On</th>\n",
              "    </tr>\n",
              "  </thead>\n",
              "  <tbody>\n",
              "    <tr>\n",
              "      <th>335</th>\n",
              "      <td>Venkatesh</td>\n",
              "      <td>Kali</td>\n",
              "      <td>NaN</td>\n",
              "      <td>NaN</td>\n",
              "      <td>computer servecing</td>\n",
              "      <td>2017-03-22</td>\n",
              "    </tr>\n",
              "    <tr>\n",
              "      <th>329</th>\n",
              "      <td>Srimouli</td>\n",
              "      <td>Borusu</td>\n",
              "      <td>NaN</td>\n",
              "      <td>Netcracker Technology</td>\n",
              "      <td>Software Engineer</td>\n",
              "      <td>2019-01-15</td>\n",
              "    </tr>\n",
              "    <tr>\n",
              "      <th>330</th>\n",
              "      <td>Rishika</td>\n",
              "      <td>Reddy</td>\n",
              "      <td>NaN</td>\n",
              "      <td>AIR Worldwide</td>\n",
              "      <td>Intern</td>\n",
              "      <td>2019-01-15</td>\n",
              "    </tr>\n",
              "    <tr>\n",
              "      <th>334</th>\n",
              "      <td>Sarika</td>\n",
              "      <td>Vishwanatham</td>\n",
              "      <td>NaN</td>\n",
              "      <td>Cisco</td>\n",
              "      <td>Intern</td>\n",
              "      <td>2019-01-15</td>\n",
              "    </tr>\n",
              "    <tr>\n",
              "      <th>332</th>\n",
              "      <td>Ratika</td>\n",
              "      <td>s</td>\n",
              "      <td>NaN</td>\n",
              "      <td>Entrench Electronics</td>\n",
              "      <td>Business Development Manager</td>\n",
              "      <td>2019-01-15</td>\n",
              "    </tr>\n",
              "  </tbody>\n",
              "</table>\n",
              "</div>"
            ],
            "text/plain": [
              "    First Name     Last Name  ...                      Position Connected On\n",
              "335  Venkatesh          Kali  ...            computer servecing   2017-03-22\n",
              "329   Srimouli        Borusu  ...             Software Engineer   2019-01-15\n",
              "330    Rishika         Reddy  ...                        Intern   2019-01-15\n",
              "334     Sarika  Vishwanatham  ...                        Intern   2019-01-15\n",
              "332     Ratika             s  ...  Business Development Manager   2019-01-15\n",
              "\n",
              "[5 rows x 6 columns]"
            ]
          },
          "metadata": {
            "tags": []
          },
          "execution_count": 36
        }
      ]
    },
    {
      "cell_type": "code",
      "metadata": {
        "id": "6tqk8T4-n-Oz",
        "colab_type": "code",
        "colab": {}
      },
      "source": [
        "df.reset_index(inplace=True)\n",
        "df.reset_index(inplace=True)"
      ],
      "execution_count": 0,
      "outputs": []
    },
    {
      "cell_type": "code",
      "metadata": {
        "id": "RUI1g-rfoBrW",
        "colab_type": "code",
        "outputId": "0a4d5ec1-d950-463f-eb11-512a80b41ffd",
        "colab": {
          "base_uri": "https://localhost:8080/",
          "height": 504
        }
      },
      "source": [
        "df"
      ],
      "execution_count": 0,
      "outputs": [
        {
          "output_type": "execute_result",
          "data": {
            "text/html": [
              "<div>\n",
              "<style scoped>\n",
              "    .dataframe tbody tr th:only-of-type {\n",
              "        vertical-align: middle;\n",
              "    }\n",
              "\n",
              "    .dataframe tbody tr th {\n",
              "        vertical-align: top;\n",
              "    }\n",
              "\n",
              "    .dataframe thead th {\n",
              "        text-align: right;\n",
              "    }\n",
              "</style>\n",
              "<table border=\"1\" class=\"dataframe\">\n",
              "  <thead>\n",
              "    <tr style=\"text-align: right;\">\n",
              "      <th></th>\n",
              "      <th>level_0</th>\n",
              "      <th>index</th>\n",
              "      <th>First Name</th>\n",
              "      <th>Last Name</th>\n",
              "      <th>Email Address</th>\n",
              "      <th>Company</th>\n",
              "      <th>Position</th>\n",
              "      <th>Connected On</th>\n",
              "    </tr>\n",
              "  </thead>\n",
              "  <tbody>\n",
              "    <tr>\n",
              "      <th>0</th>\n",
              "      <td>0</td>\n",
              "      <td>335</td>\n",
              "      <td>Venkatesh</td>\n",
              "      <td>Kali</td>\n",
              "      <td>NaN</td>\n",
              "      <td>NaN</td>\n",
              "      <td>computer servecing</td>\n",
              "      <td>2017-03-22</td>\n",
              "    </tr>\n",
              "    <tr>\n",
              "      <th>1</th>\n",
              "      <td>1</td>\n",
              "      <td>329</td>\n",
              "      <td>Srimouli</td>\n",
              "      <td>Borusu</td>\n",
              "      <td>NaN</td>\n",
              "      <td>Netcracker Technology</td>\n",
              "      <td>Software Engineer</td>\n",
              "      <td>2019-01-15</td>\n",
              "    </tr>\n",
              "    <tr>\n",
              "      <th>2</th>\n",
              "      <td>2</td>\n",
              "      <td>330</td>\n",
              "      <td>Rishika</td>\n",
              "      <td>Reddy</td>\n",
              "      <td>NaN</td>\n",
              "      <td>AIR Worldwide</td>\n",
              "      <td>Intern</td>\n",
              "      <td>2019-01-15</td>\n",
              "    </tr>\n",
              "    <tr>\n",
              "      <th>3</th>\n",
              "      <td>3</td>\n",
              "      <td>334</td>\n",
              "      <td>Sarika</td>\n",
              "      <td>Vishwanatham</td>\n",
              "      <td>NaN</td>\n",
              "      <td>Cisco</td>\n",
              "      <td>Intern</td>\n",
              "      <td>2019-01-15</td>\n",
              "    </tr>\n",
              "    <tr>\n",
              "      <th>4</th>\n",
              "      <td>4</td>\n",
              "      <td>332</td>\n",
              "      <td>Ratika</td>\n",
              "      <td>s</td>\n",
              "      <td>NaN</td>\n",
              "      <td>Entrench Electronics</td>\n",
              "      <td>Business Development Manager</td>\n",
              "      <td>2019-01-15</td>\n",
              "    </tr>\n",
              "    <tr>\n",
              "      <th>...</th>\n",
              "      <td>...</td>\n",
              "      <td>...</td>\n",
              "      <td>...</td>\n",
              "      <td>...</td>\n",
              "      <td>...</td>\n",
              "      <td>...</td>\n",
              "      <td>...</td>\n",
              "      <td>...</td>\n",
              "    </tr>\n",
              "    <tr>\n",
              "      <th>331</th>\n",
              "      <td>331</td>\n",
              "      <td>4</td>\n",
              "      <td>Prudhvi</td>\n",
              "      <td>Potuganti</td>\n",
              "      <td>NaN</td>\n",
              "      <td>Avani.ai</td>\n",
              "      <td>Founder | Data Scientist</td>\n",
              "      <td>2020-05-11</td>\n",
              "    </tr>\n",
              "    <tr>\n",
              "      <th>332</th>\n",
              "      <td>332</td>\n",
              "      <td>3</td>\n",
              "      <td>madhu sudhan</td>\n",
              "      <td>Kannan</td>\n",
              "      <td>NaN</td>\n",
              "      <td>Deloitte Digital</td>\n",
              "      <td>Intern</td>\n",
              "      <td>2020-05-11</td>\n",
              "    </tr>\n",
              "    <tr>\n",
              "      <th>333</th>\n",
              "      <td>333</td>\n",
              "      <td>2</td>\n",
              "      <td>Yenson</td>\n",
              "      <td>Lau</td>\n",
              "      <td>NaN</td>\n",
              "      <td>Layer 6 AI</td>\n",
              "      <td>ML Scientist</td>\n",
              "      <td>2020-05-13</td>\n",
              "    </tr>\n",
              "    <tr>\n",
              "      <th>334</th>\n",
              "      <td>334</td>\n",
              "      <td>1</td>\n",
              "      <td>Dr. Rishik</td>\n",
              "      <td>Sharma</td>\n",
              "      <td>NaN</td>\n",
              "      <td>Aegis School of Business, Data Science &amp; Telec...</td>\n",
              "      <td>Student</td>\n",
              "      <td>2020-05-14</td>\n",
              "    </tr>\n",
              "    <tr>\n",
              "      <th>335</th>\n",
              "      <td>335</td>\n",
              "      <td>0</td>\n",
              "      <td>Nandini</td>\n",
              "      <td>Reddy</td>\n",
              "      <td>NaN</td>\n",
              "      <td>Deloitte India (Offices of the US)</td>\n",
              "      <td>Business Technology Analyst</td>\n",
              "      <td>2020-05-15</td>\n",
              "    </tr>\n",
              "  </tbody>\n",
              "</table>\n",
              "<p>336 rows × 8 columns</p>\n",
              "</div>"
            ],
            "text/plain": [
              "     level_0  index  ...                      Position Connected On\n",
              "0          0    335  ...            computer servecing   2017-03-22\n",
              "1          1    329  ...             Software Engineer   2019-01-15\n",
              "2          2    330  ...                        Intern   2019-01-15\n",
              "3          3    334  ...                        Intern   2019-01-15\n",
              "4          4    332  ...  Business Development Manager   2019-01-15\n",
              "..       ...    ...  ...                           ...          ...\n",
              "331      331      4  ...      Founder | Data Scientist   2020-05-11\n",
              "332      332      3  ...                        Intern   2020-05-11\n",
              "333      333      2  ...                  ML Scientist   2020-05-13\n",
              "334      334      1  ...                       Student   2020-05-14\n",
              "335      335      0  ...   Business Technology Analyst   2020-05-15\n",
              "\n",
              "[336 rows x 8 columns]"
            ]
          },
          "metadata": {
            "tags": []
          },
          "execution_count": 38
        }
      ]
    },
    {
      "cell_type": "code",
      "metadata": {
        "id": "e6s3tXNBoCWQ",
        "colab_type": "code",
        "colab": {}
      },
      "source": [
        "df.drop(columns=\"index\",inplace=True)\n",
        "df.rename(columns={\"level_0\":\"number\"},inplace=True)"
      ],
      "execution_count": 0,
      "outputs": []
    },
    {
      "cell_type": "code",
      "metadata": {
        "id": "LYSiu_bvsz26",
        "colab_type": "code",
        "colab": {}
      },
      "source": [
        ""
      ],
      "execution_count": 0,
      "outputs": []
    },
    {
      "cell_type": "code",
      "metadata": {
        "id": "M4ZGWt2Dotjk",
        "colab_type": "code",
        "outputId": "95493741-e6e6-43b8-b511-0465b40baefb",
        "colab": {
          "base_uri": "https://localhost:8080/",
          "height": 542
        }
      },
      "source": [
        "connections_line = px.line(df, x=\"Connected On\", y=\"number\", title='My Connections')\n",
        "connections_line.show()"
      ],
      "execution_count": 0,
      "outputs": [
        {
          "output_type": "display_data",
          "data": {
            "text/html": [
              "<html>\n",
              "<head><meta charset=\"utf-8\" /></head>\n",
              "<body>\n",
              "    <div>\n",
              "            <script src=\"https://cdnjs.cloudflare.com/ajax/libs/mathjax/2.7.5/MathJax.js?config=TeX-AMS-MML_SVG\"></script><script type=\"text/javascript\">if (window.MathJax) {MathJax.Hub.Config({SVG: {font: \"STIX-Web\"}});}</script>\n",
              "                <script type=\"text/javascript\">window.PlotlyConfig = {MathJaxConfig: 'local'};</script>\n",
              "        <script src=\"https://cdn.plot.ly/plotly-latest.min.js\"></script>    \n",
              "            <div id=\"c881b892-f332-459c-b83b-028e53faebfd\" class=\"plotly-graph-div\" style=\"height:525px; width:100%;\"></div>\n",
              "            <script type=\"text/javascript\">\n",
              "                \n",
              "                    window.PLOTLYENV=window.PLOTLYENV || {};\n",
              "                    \n",
              "                if (document.getElementById(\"c881b892-f332-459c-b83b-028e53faebfd\")) {\n",
              "                    Plotly.newPlot(\n",
              "                        'c881b892-f332-459c-b83b-028e53faebfd',\n",
              "                        [{\"hoverlabel\": {\"namelength\": 0}, \"hovertemplate\": \"Connected On=%{x}<br>number=%{y}\", \"legendgroup\": \"\", \"line\": {\"color\": \"#636efa\", \"dash\": \"solid\"}, \"mode\": \"lines\", \"name\": \"\", \"showlegend\": false, \"type\": \"scatter\", \"x\": [\"2017-03-22\", \"2019-01-15\", \"2019-01-15\", \"2019-01-15\", \"2019-01-15\", \"2019-01-15\", \"2019-01-15\", \"2019-01-17\", \"2019-02-03\", \"2019-02-03\", \"2019-02-03\", \"2019-02-03\", \"2019-02-03\", \"2019-02-03\", \"2019-02-03\", \"2019-02-03\", \"2019-02-05\", \"2019-02-14\", \"2019-02-14\", \"2019-02-18\", \"2019-03-01\", \"2019-03-17\", \"2019-03-18\", \"2019-03-28\", \"2019-05-16\", \"2019-06-30\", \"2019-07-01\", \"2019-07-01\", \"2019-07-03\", \"2019-07-20\", \"2019-10-18\", \"2019-10-18\", \"2019-10-19\", \"2019-10-19\", \"2019-10-19\", \"2019-10-19\", \"2019-10-19\", \"2019-10-19\", \"2019-10-19\", \"2019-10-19\", \"2019-10-19\", \"2019-10-19\", \"2019-10-19\", \"2019-10-20\", \"2019-10-21\", \"2019-10-23\", \"2019-10-24\", \"2019-10-25\", \"2019-10-25\", \"2019-10-25\", \"2019-10-25\", \"2019-10-25\", \"2019-10-25\", \"2019-10-25\", \"2019-10-25\", \"2019-10-25\", \"2019-10-25\", \"2019-10-25\", \"2019-10-26\", \"2019-10-26\", \"2019-10-26\", \"2019-10-26\", \"2019-10-26\", \"2019-10-26\", \"2019-10-26\", \"2019-10-26\", \"2019-10-26\", \"2019-10-26\", \"2019-10-26\", \"2019-10-27\", \"2019-10-27\", \"2019-10-27\", \"2019-10-27\", \"2019-10-28\", \"2019-10-28\", \"2019-10-28\", \"2019-10-28\", \"2019-10-28\", \"2019-10-28\", \"2019-10-28\", \"2019-10-28\", \"2019-10-28\", \"2019-10-28\", \"2019-10-28\", \"2019-10-28\", \"2019-10-28\", \"2019-10-29\", \"2019-10-29\", \"2019-10-29\", \"2019-10-29\", \"2019-10-30\", \"2019-10-30\", \"2019-10-30\", \"2019-10-30\", \"2019-10-30\", \"2019-10-30\", \"2019-10-30\", \"2019-10-30\", \"2019-10-30\", \"2019-10-31\", \"2019-10-31\", \"2019-10-31\", \"2019-10-31\", \"2019-10-31\", \"2019-10-31\", \"2019-10-31\", \"2019-11-02\", \"2019-11-02\", \"2019-11-03\", \"2019-11-03\", \"2019-11-03\", \"2019-11-04\", \"2019-11-04\", \"2019-11-05\", \"2019-11-06\", \"2019-11-06\", \"2019-11-06\", \"2019-11-07\", \"2019-11-07\", \"2019-11-08\", \"2019-11-09\", \"2019-11-09\", \"2019-11-12\", \"2019-11-12\", \"2019-11-12\", \"2019-11-13\", \"2019-11-14\", \"2019-11-18\", \"2019-11-18\", \"2019-11-20\", \"2019-11-21\", \"2019-11-21\", \"2019-11-21\", \"2019-11-23\", \"2019-11-23\", \"2019-11-26\", \"2019-11-27\", \"2019-11-27\", \"2019-11-29\", \"2019-11-30\", \"2019-12-03\", \"2019-12-04\", \"2019-12-04\", \"2019-12-05\", \"2019-12-05\", \"2019-12-07\", \"2019-12-07\", \"2019-12-07\", \"2019-12-08\", \"2019-12-09\", \"2019-12-14\", \"2019-12-15\", \"2019-12-17\", \"2019-12-17\", \"2019-12-19\", \"2019-12-20\", \"2019-12-25\", \"2019-12-26\", \"2019-12-26\", \"2019-12-27\", \"2019-12-27\", \"2019-12-29\", \"2019-12-31\", \"2020-01-01\", \"2020-01-04\", \"2020-01-07\", \"2020-01-10\", \"2020-01-12\", \"2020-01-13\", \"2020-01-14\", \"2020-01-20\", \"2020-01-20\", \"2020-01-21\", \"2020-01-21\", \"2020-01-21\", \"2020-01-21\", \"2020-01-22\", \"2020-01-23\", \"2020-01-24\", \"2020-01-24\", \"2020-01-24\", \"2020-01-24\", \"2020-01-25\", \"2020-01-26\", \"2020-01-27\", \"2020-01-27\", \"2020-01-28\", \"2020-01-29\", \"2020-01-29\", \"2020-01-30\", \"2020-01-30\", \"2020-01-30\", \"2020-01-30\", \"2020-01-30\", \"2020-01-30\", \"2020-01-30\", \"2020-01-30\", \"2020-01-30\", \"2020-01-31\", \"2020-01-31\", \"2020-02-01\", \"2020-02-02\", \"2020-02-03\", \"2020-02-03\", \"2020-02-03\", \"2020-02-04\", \"2020-02-04\", \"2020-02-05\", \"2020-02-05\", \"2020-02-05\", \"2020-02-05\", \"2020-02-06\", \"2020-02-06\", \"2020-02-06\", \"2020-02-06\", \"2020-02-06\", \"2020-02-07\", \"2020-02-07\", \"2020-02-07\", \"2020-02-08\", \"2020-02-09\", \"2020-02-12\", \"2020-02-12\", \"2020-02-13\", \"2020-02-16\", \"2020-02-17\", \"2020-02-17\", \"2020-02-17\", \"2020-02-18\", \"2020-02-18\", \"2020-02-18\", \"2020-02-18\", \"2020-02-18\", \"2020-02-19\", \"2020-02-20\", \"2020-02-20\", \"2020-02-22\", \"2020-02-22\", \"2020-02-22\", \"2020-02-22\", \"2020-02-23\", \"2020-02-23\", \"2020-02-24\", \"2020-02-25\", \"2020-02-25\", \"2020-02-26\", \"2020-02-26\", \"2020-02-26\", \"2020-02-29\", \"2020-03-02\", \"2020-03-03\", \"2020-03-04\", \"2020-03-04\", \"2020-03-04\", \"2020-03-05\", \"2020-03-06\", \"2020-03-06\", \"2020-03-06\", \"2020-03-06\", \"2020-03-06\", \"2020-03-07\", \"2020-03-11\", \"2020-03-12\", \"2020-03-17\", \"2020-03-18\", \"2020-03-20\", \"2020-03-21\", \"2020-03-24\", \"2020-03-24\", \"2020-03-24\", \"2020-03-24\", \"2020-03-29\", \"2020-03-31\", \"2020-03-31\", \"2020-03-31\", \"2020-03-31\", \"2020-04-01\", \"2020-04-01\", \"2020-04-02\", \"2020-04-02\", \"2020-04-02\", \"2020-04-02\", \"2020-04-03\", \"2020-04-03\", \"2020-04-05\", \"2020-04-06\", \"2020-04-06\", \"2020-04-07\", \"2020-04-07\", \"2020-04-08\", \"2020-04-10\", \"2020-04-11\", \"2020-04-14\", \"2020-04-15\", \"2020-04-15\", \"2020-04-15\", \"2020-04-16\", \"2020-04-16\", \"2020-04-17\", \"2020-04-19\", \"2020-04-20\", \"2020-04-23\", \"2020-04-26\", \"2020-04-28\", \"2020-04-28\", \"2020-04-28\", \"2020-04-29\", \"2020-04-29\", \"2020-04-29\", \"2020-04-29\", \"2020-04-29\", \"2020-04-29\", \"2020-04-29\", \"2020-04-29\", \"2020-04-29\", \"2020-04-29\", \"2020-04-29\", \"2020-04-29\", \"2020-04-29\", \"2020-04-29\", \"2020-04-30\", \"2020-04-30\", \"2020-05-01\", \"2020-05-01\", \"2020-05-01\", \"2020-05-04\", \"2020-05-06\", \"2020-05-06\", \"2020-05-08\", \"2020-05-09\", \"2020-05-11\", \"2020-05-11\", \"2020-05-11\", \"2020-05-13\", \"2020-05-14\", \"2020-05-15\"], \"xaxis\": \"x\", \"y\": [0, 1, 2, 3, 4, 5, 6, 7, 8, 9, 10, 11, 12, 13, 14, 15, 16, 17, 18, 19, 20, 21, 22, 23, 24, 25, 26, 27, 28, 29, 30, 31, 32, 33, 34, 35, 36, 37, 38, 39, 40, 41, 42, 43, 44, 45, 46, 47, 48, 49, 50, 51, 52, 53, 54, 55, 56, 57, 58, 59, 60, 61, 62, 63, 64, 65, 66, 67, 68, 69, 70, 71, 72, 73, 74, 75, 76, 77, 78, 79, 80, 81, 82, 83, 84, 85, 86, 87, 88, 89, 90, 91, 92, 93, 94, 95, 96, 97, 98, 99, 100, 101, 102, 103, 104, 105, 106, 107, 108, 109, 110, 111, 112, 113, 114, 115, 116, 117, 118, 119, 120, 121, 122, 123, 124, 125, 126, 127, 128, 129, 130, 131, 132, 133, 134, 135, 136, 137, 138, 139, 140, 141, 142, 143, 144, 145, 146, 147, 148, 149, 150, 151, 152, 153, 154, 155, 156, 157, 158, 159, 160, 161, 162, 163, 164, 165, 166, 167, 168, 169, 170, 171, 172, 173, 174, 175, 176, 177, 178, 179, 180, 181, 182, 183, 184, 185, 186, 187, 188, 189, 190, 191, 192, 193, 194, 195, 196, 197, 198, 199, 200, 201, 202, 203, 204, 205, 206, 207, 208, 209, 210, 211, 212, 213, 214, 215, 216, 217, 218, 219, 220, 221, 222, 223, 224, 225, 226, 227, 228, 229, 230, 231, 232, 233, 234, 235, 236, 237, 238, 239, 240, 241, 242, 243, 244, 245, 246, 247, 248, 249, 250, 251, 252, 253, 254, 255, 256, 257, 258, 259, 260, 261, 262, 263, 264, 265, 266, 267, 268, 269, 270, 271, 272, 273, 274, 275, 276, 277, 278, 279, 280, 281, 282, 283, 284, 285, 286, 287, 288, 289, 290, 291, 292, 293, 294, 295, 296, 297, 298, 299, 300, 301, 302, 303, 304, 305, 306, 307, 308, 309, 310, 311, 312, 313, 314, 315, 316, 317, 318, 319, 320, 321, 322, 323, 324, 325, 326, 327, 328, 329, 330, 331, 332, 333, 334, 335], \"yaxis\": \"y\"}],\n",
              "                        {\"legend\": {\"tracegroupgap\": 0}, \"template\": {\"data\": {\"bar\": [{\"error_x\": {\"color\": \"#2a3f5f\"}, \"error_y\": {\"color\": \"#2a3f5f\"}, \"marker\": {\"line\": {\"color\": \"#E5ECF6\", \"width\": 0.5}}, \"type\": \"bar\"}], \"barpolar\": [{\"marker\": {\"line\": {\"color\": \"#E5ECF6\", \"width\": 0.5}}, \"type\": \"barpolar\"}], \"carpet\": [{\"aaxis\": {\"endlinecolor\": \"#2a3f5f\", \"gridcolor\": \"white\", \"linecolor\": \"white\", \"minorgridcolor\": \"white\", \"startlinecolor\": \"#2a3f5f\"}, \"baxis\": {\"endlinecolor\": \"#2a3f5f\", \"gridcolor\": \"white\", \"linecolor\": \"white\", \"minorgridcolor\": \"white\", \"startlinecolor\": \"#2a3f5f\"}, \"type\": \"carpet\"}], \"choropleth\": [{\"colorbar\": {\"outlinewidth\": 0, \"ticks\": \"\"}, \"type\": \"choropleth\"}], \"contour\": [{\"colorbar\": {\"outlinewidth\": 0, \"ticks\": \"\"}, \"colorscale\": [[0.0, \"#0d0887\"], [0.1111111111111111, \"#46039f\"], [0.2222222222222222, \"#7201a8\"], [0.3333333333333333, \"#9c179e\"], [0.4444444444444444, \"#bd3786\"], [0.5555555555555556, \"#d8576b\"], [0.6666666666666666, \"#ed7953\"], [0.7777777777777778, \"#fb9f3a\"], [0.8888888888888888, \"#fdca26\"], [1.0, \"#f0f921\"]], \"type\": \"contour\"}], \"contourcarpet\": [{\"colorbar\": {\"outlinewidth\": 0, \"ticks\": \"\"}, \"type\": \"contourcarpet\"}], \"heatmap\": [{\"colorbar\": {\"outlinewidth\": 0, \"ticks\": \"\"}, \"colorscale\": [[0.0, \"#0d0887\"], [0.1111111111111111, \"#46039f\"], [0.2222222222222222, \"#7201a8\"], [0.3333333333333333, \"#9c179e\"], [0.4444444444444444, \"#bd3786\"], [0.5555555555555556, \"#d8576b\"], [0.6666666666666666, \"#ed7953\"], [0.7777777777777778, \"#fb9f3a\"], [0.8888888888888888, \"#fdca26\"], [1.0, \"#f0f921\"]], \"type\": \"heatmap\"}], \"heatmapgl\": [{\"colorbar\": {\"outlinewidth\": 0, \"ticks\": \"\"}, \"colorscale\": [[0.0, \"#0d0887\"], [0.1111111111111111, \"#46039f\"], [0.2222222222222222, \"#7201a8\"], [0.3333333333333333, \"#9c179e\"], [0.4444444444444444, \"#bd3786\"], [0.5555555555555556, \"#d8576b\"], [0.6666666666666666, \"#ed7953\"], [0.7777777777777778, \"#fb9f3a\"], [0.8888888888888888, \"#fdca26\"], [1.0, \"#f0f921\"]], \"type\": \"heatmapgl\"}], \"histogram\": [{\"marker\": {\"colorbar\": {\"outlinewidth\": 0, \"ticks\": \"\"}}, \"type\": \"histogram\"}], \"histogram2d\": [{\"colorbar\": {\"outlinewidth\": 0, \"ticks\": \"\"}, \"colorscale\": [[0.0, \"#0d0887\"], [0.1111111111111111, \"#46039f\"], [0.2222222222222222, \"#7201a8\"], [0.3333333333333333, \"#9c179e\"], [0.4444444444444444, \"#bd3786\"], [0.5555555555555556, \"#d8576b\"], [0.6666666666666666, \"#ed7953\"], [0.7777777777777778, \"#fb9f3a\"], [0.8888888888888888, \"#fdca26\"], [1.0, \"#f0f921\"]], \"type\": \"histogram2d\"}], \"histogram2dcontour\": [{\"colorbar\": {\"outlinewidth\": 0, \"ticks\": \"\"}, \"colorscale\": [[0.0, \"#0d0887\"], [0.1111111111111111, \"#46039f\"], [0.2222222222222222, \"#7201a8\"], [0.3333333333333333, \"#9c179e\"], [0.4444444444444444, \"#bd3786\"], [0.5555555555555556, \"#d8576b\"], [0.6666666666666666, \"#ed7953\"], [0.7777777777777778, \"#fb9f3a\"], [0.8888888888888888, \"#fdca26\"], [1.0, \"#f0f921\"]], \"type\": \"histogram2dcontour\"}], \"mesh3d\": [{\"colorbar\": {\"outlinewidth\": 0, \"ticks\": \"\"}, \"type\": \"mesh3d\"}], \"parcoords\": [{\"line\": {\"colorbar\": {\"outlinewidth\": 0, \"ticks\": \"\"}}, \"type\": \"parcoords\"}], \"pie\": [{\"automargin\": true, \"type\": \"pie\"}], \"scatter\": [{\"marker\": {\"colorbar\": {\"outlinewidth\": 0, \"ticks\": \"\"}}, \"type\": \"scatter\"}], \"scatter3d\": [{\"line\": {\"colorbar\": {\"outlinewidth\": 0, \"ticks\": \"\"}}, \"marker\": {\"colorbar\": {\"outlinewidth\": 0, \"ticks\": \"\"}}, \"type\": \"scatter3d\"}], \"scattercarpet\": [{\"marker\": {\"colorbar\": {\"outlinewidth\": 0, \"ticks\": \"\"}}, \"type\": \"scattercarpet\"}], \"scattergeo\": [{\"marker\": {\"colorbar\": {\"outlinewidth\": 0, \"ticks\": \"\"}}, \"type\": \"scattergeo\"}], \"scattergl\": [{\"marker\": {\"colorbar\": {\"outlinewidth\": 0, \"ticks\": \"\"}}, \"type\": \"scattergl\"}], \"scattermapbox\": [{\"marker\": {\"colorbar\": {\"outlinewidth\": 0, \"ticks\": \"\"}}, \"type\": \"scattermapbox\"}], \"scatterpolar\": [{\"marker\": {\"colorbar\": {\"outlinewidth\": 0, \"ticks\": \"\"}}, \"type\": \"scatterpolar\"}], \"scatterpolargl\": [{\"marker\": {\"colorbar\": {\"outlinewidth\": 0, \"ticks\": \"\"}}, \"type\": \"scatterpolargl\"}], \"scatterternary\": [{\"marker\": {\"colorbar\": {\"outlinewidth\": 0, \"ticks\": \"\"}}, \"type\": \"scatterternary\"}], \"surface\": [{\"colorbar\": {\"outlinewidth\": 0, \"ticks\": \"\"}, \"colorscale\": [[0.0, \"#0d0887\"], [0.1111111111111111, \"#46039f\"], [0.2222222222222222, \"#7201a8\"], [0.3333333333333333, \"#9c179e\"], [0.4444444444444444, \"#bd3786\"], [0.5555555555555556, \"#d8576b\"], [0.6666666666666666, \"#ed7953\"], [0.7777777777777778, \"#fb9f3a\"], [0.8888888888888888, \"#fdca26\"], [1.0, \"#f0f921\"]], \"type\": \"surface\"}], \"table\": [{\"cells\": {\"fill\": {\"color\": \"#EBF0F8\"}, \"line\": {\"color\": \"white\"}}, \"header\": {\"fill\": {\"color\": \"#C8D4E3\"}, \"line\": {\"color\": \"white\"}}, \"type\": \"table\"}]}, \"layout\": {\"annotationdefaults\": {\"arrowcolor\": \"#2a3f5f\", \"arrowhead\": 0, \"arrowwidth\": 1}, \"coloraxis\": {\"colorbar\": {\"outlinewidth\": 0, \"ticks\": \"\"}}, \"colorscale\": {\"diverging\": [[0, \"#8e0152\"], [0.1, \"#c51b7d\"], [0.2, \"#de77ae\"], [0.3, \"#f1b6da\"], [0.4, \"#fde0ef\"], [0.5, \"#f7f7f7\"], [0.6, \"#e6f5d0\"], [0.7, \"#b8e186\"], [0.8, \"#7fbc41\"], [0.9, \"#4d9221\"], [1, \"#276419\"]], \"sequential\": [[0.0, \"#0d0887\"], [0.1111111111111111, \"#46039f\"], [0.2222222222222222, \"#7201a8\"], [0.3333333333333333, \"#9c179e\"], [0.4444444444444444, \"#bd3786\"], [0.5555555555555556, \"#d8576b\"], [0.6666666666666666, \"#ed7953\"], [0.7777777777777778, \"#fb9f3a\"], [0.8888888888888888, \"#fdca26\"], [1.0, \"#f0f921\"]], \"sequentialminus\": [[0.0, \"#0d0887\"], [0.1111111111111111, \"#46039f\"], [0.2222222222222222, \"#7201a8\"], [0.3333333333333333, \"#9c179e\"], [0.4444444444444444, \"#bd3786\"], [0.5555555555555556, \"#d8576b\"], [0.6666666666666666, \"#ed7953\"], [0.7777777777777778, \"#fb9f3a\"], [0.8888888888888888, \"#fdca26\"], [1.0, \"#f0f921\"]]}, \"colorway\": [\"#636efa\", \"#EF553B\", \"#00cc96\", \"#ab63fa\", \"#FFA15A\", \"#19d3f3\", \"#FF6692\", \"#B6E880\", \"#FF97FF\", \"#FECB52\"], \"font\": {\"color\": \"#2a3f5f\"}, \"geo\": {\"bgcolor\": \"white\", \"lakecolor\": \"white\", \"landcolor\": \"#E5ECF6\", \"showlakes\": true, \"showland\": true, \"subunitcolor\": \"white\"}, \"hoverlabel\": {\"align\": \"left\"}, \"hovermode\": \"closest\", \"mapbox\": {\"style\": \"light\"}, \"paper_bgcolor\": \"white\", \"plot_bgcolor\": \"#E5ECF6\", \"polar\": {\"angularaxis\": {\"gridcolor\": \"white\", \"linecolor\": \"white\", \"ticks\": \"\"}, \"bgcolor\": \"#E5ECF6\", \"radialaxis\": {\"gridcolor\": \"white\", \"linecolor\": \"white\", \"ticks\": \"\"}}, \"scene\": {\"xaxis\": {\"backgroundcolor\": \"#E5ECF6\", \"gridcolor\": \"white\", \"gridwidth\": 2, \"linecolor\": \"white\", \"showbackground\": true, \"ticks\": \"\", \"zerolinecolor\": \"white\"}, \"yaxis\": {\"backgroundcolor\": \"#E5ECF6\", \"gridcolor\": \"white\", \"gridwidth\": 2, \"linecolor\": \"white\", \"showbackground\": true, \"ticks\": \"\", \"zerolinecolor\": \"white\"}, \"zaxis\": {\"backgroundcolor\": \"#E5ECF6\", \"gridcolor\": \"white\", \"gridwidth\": 2, \"linecolor\": \"white\", \"showbackground\": true, \"ticks\": \"\", \"zerolinecolor\": \"white\"}}, \"shapedefaults\": {\"line\": {\"color\": \"#2a3f5f\"}}, \"ternary\": {\"aaxis\": {\"gridcolor\": \"white\", \"linecolor\": \"white\", \"ticks\": \"\"}, \"baxis\": {\"gridcolor\": \"white\", \"linecolor\": \"white\", \"ticks\": \"\"}, \"bgcolor\": \"#E5ECF6\", \"caxis\": {\"gridcolor\": \"white\", \"linecolor\": \"white\", \"ticks\": \"\"}}, \"title\": {\"x\": 0.05}, \"xaxis\": {\"automargin\": true, \"gridcolor\": \"white\", \"linecolor\": \"white\", \"ticks\": \"\", \"title\": {\"standoff\": 15}, \"zerolinecolor\": \"white\", \"zerolinewidth\": 2}, \"yaxis\": {\"automargin\": true, \"gridcolor\": \"white\", \"linecolor\": \"white\", \"ticks\": \"\", \"title\": {\"standoff\": 15}, \"zerolinecolor\": \"white\", \"zerolinewidth\": 2}}}, \"title\": {\"text\": \"My Connections\"}, \"xaxis\": {\"anchor\": \"y\", \"domain\": [0.0, 1.0], \"title\": {\"text\": \"Connected On\"}}, \"yaxis\": {\"anchor\": \"x\", \"domain\": [0.0, 1.0], \"title\": {\"text\": \"number\"}}},\n",
              "                        {\"responsive\": true}\n",
              "                    ).then(function(){\n",
              "                            \n",
              "var gd = document.getElementById('c881b892-f332-459c-b83b-028e53faebfd');\n",
              "var x = new MutationObserver(function (mutations, observer) {{\n",
              "        var display = window.getComputedStyle(gd).display;\n",
              "        if (!display || display === 'none') {{\n",
              "            console.log([gd, 'removed!']);\n",
              "            Plotly.purge(gd);\n",
              "            observer.disconnect();\n",
              "        }}\n",
              "}});\n",
              "\n",
              "// Listen for the removal of the full notebook cells\n",
              "var notebookContainer = gd.closest('#notebook-container');\n",
              "if (notebookContainer) {{\n",
              "    x.observe(notebookContainer, {childList: true});\n",
              "}}\n",
              "\n",
              "// Listen for the clearing of the current output cell\n",
              "var outputEl = gd.closest('.output');\n",
              "if (outputEl) {{\n",
              "    x.observe(outputEl, {childList: true});\n",
              "}}\n",
              "\n",
              "                        })\n",
              "                };\n",
              "                \n",
              "            </script>\n",
              "        </div>\n",
              "</body>\n",
              "</html>"
            ]
          },
          "metadata": {
            "tags": []
          }
        }
      ]
    },
    {
      "cell_type": "code",
      "metadata": {
        "id": "sIRq7mee-j76",
        "colab_type": "code",
        "outputId": "a776fad3-3957-4c0d-e8b3-d6e35627b085",
        "colab": {
          "base_uri": "https://localhost:8080/",
          "height": 347
        }
      },
      "source": [
        "sns.heatmap(df.isnull())"
      ],
      "execution_count": 0,
      "outputs": [
        {
          "output_type": "execute_result",
          "data": {
            "text/plain": [
              "<matplotlib.axes._subplots.AxesSubplot at 0x7fc2b67fe400>"
            ]
          },
          "metadata": {
            "tags": []
          },
          "execution_count": 41
        },
        {
          "output_type": "display_data",
          "data": {
            "image/png": "[encoded data removed]",
            "text/plain": [
              "<Figure size 432x288 with 2 Axes>"
            ]
          },
          "metadata": {
            "tags": [],
            "needs_background": "light"
          }
        }
      ]
    },
    {
      "cell_type": "code",
      "metadata": {
        "id": "l5ANKEWI-vKz",
        "colab_type": "code",
        "colab": {}
      },
      "source": [
        "df.drop(columns='Email Address',inplace=True)"
      ],
      "execution_count": 0,
      "outputs": []
    },
    {
      "cell_type": "code",
      "metadata": {
        "id": "aGvvilYUCv_t",
        "colab_type": "code",
        "colab": {}
      },
      "source": [
        "df=df.dropna()"
      ],
      "execution_count": 0,
      "outputs": []
    },
    {
      "cell_type": "code",
      "metadata": {
        "id": "zsYnB7N3-4xB",
        "colab_type": "code",
        "outputId": "8ec71bd4-bdbf-4030-ba7a-8ecddb865138",
        "colab": {
          "base_uri": "https://localhost:8080/",
          "height": 173
        }
      },
      "source": [
        "df.loc[df['Position'].str.contains('Intern'), 'Position'] = \"Intern\""
      ],
      "execution_count": 0,
      "outputs": [
        {
          "output_type": "stream",
          "text": [
            "/usr/local/lib/python3.6/dist-packages/pandas/core/indexing.py:966: SettingWithCopyWarning:\n",
            "\n",
            "\n",
            "A value is trying to be set on a copy of a slice from a DataFrame.\n",
            "Try using .loc[row_indexer,col_indexer] = value instead\n",
            "\n",
            "See the caveats in the documentation: https://pandas.pydata.org/pandas-docs/stable/user_guide/indexing.html#returning-a-view-versus-a-copy\n",
            "\n"
          ],
          "name": "stderr"
        }
      ]
    },
    {
      "cell_type": "code",
      "metadata": {
        "id": "MDhrOGzyycxj",
        "colab_type": "code",
        "outputId": "466b27d0-c2df-498e-ae0f-f40431e6d0c8",
        "colab": {
          "base_uri": "https://localhost:8080/",
          "height": 204
        }
      },
      "source": [
        "df.head()"
      ],
      "execution_count": 0,
      "outputs": [
        {
          "output_type": "execute_result",
          "data": {
            "text/html": [
              "<div>\n",
              "<style scoped>\n",
              "    .dataframe tbody tr th:only-of-type {\n",
              "        vertical-align: middle;\n",
              "    }\n",
              "\n",
              "    .dataframe tbody tr th {\n",
              "        vertical-align: top;\n",
              "    }\n",
              "\n",
              "    .dataframe thead th {\n",
              "        text-align: right;\n",
              "    }\n",
              "</style>\n",
              "<table border=\"1\" class=\"dataframe\">\n",
              "  <thead>\n",
              "    <tr style=\"text-align: right;\">\n",
              "      <th></th>\n",
              "      <th>number</th>\n",
              "      <th>First Name</th>\n",
              "      <th>Last Name</th>\n",
              "      <th>Company</th>\n",
              "      <th>Position</th>\n",
              "      <th>Connected On</th>\n",
              "    </tr>\n",
              "  </thead>\n",
              "  <tbody>\n",
              "    <tr>\n",
              "      <th>1</th>\n",
              "      <td>1</td>\n",
              "      <td>Srimouli</td>\n",
              "      <td>Borusu</td>\n",
              "      <td>Netcracker Technology</td>\n",
              "      <td>Software Engineer</td>\n",
              "      <td>2019-01-15</td>\n",
              "    </tr>\n",
              "    <tr>\n",
              "      <th>2</th>\n",
              "      <td>2</td>\n",
              "      <td>Rishika</td>\n",
              "      <td>Reddy</td>\n",
              "      <td>AIR Worldwide</td>\n",
              "      <td>Intern</td>\n",
              "      <td>2019-01-15</td>\n",
              "    </tr>\n",
              "    <tr>\n",
              "      <th>3</th>\n",
              "      <td>3</td>\n",
              "      <td>Sarika</td>\n",
              "      <td>Vishwanatham</td>\n",
              "      <td>Cisco</td>\n",
              "      <td>Intern</td>\n",
              "      <td>2019-01-15</td>\n",
              "    </tr>\n",
              "    <tr>\n",
              "      <th>4</th>\n",
              "      <td>4</td>\n",
              "      <td>Ratika</td>\n",
              "      <td>s</td>\n",
              "      <td>Entrench Electronics</td>\n",
              "      <td>Business Development Manager</td>\n",
              "      <td>2019-01-15</td>\n",
              "    </tr>\n",
              "    <tr>\n",
              "      <th>5</th>\n",
              "      <td>5</td>\n",
              "      <td>Aakarsh</td>\n",
              "      <td>Yelisetty</td>\n",
              "      <td>Tata Consultancy Services</td>\n",
              "      <td>Intern</td>\n",
              "      <td>2019-01-15</td>\n",
              "    </tr>\n",
              "  </tbody>\n",
              "</table>\n",
              "</div>"
            ],
            "text/plain": [
              "   number First Name  ...                      Position Connected On\n",
              "1       1   Srimouli  ...             Software Engineer   2019-01-15\n",
              "2       2    Rishika  ...                        Intern   2019-01-15\n",
              "3       3     Sarika  ...                        Intern   2019-01-15\n",
              "4       4     Ratika  ...  Business Development Manager   2019-01-15\n",
              "5       5    Aakarsh  ...                        Intern   2019-01-15\n",
              "\n",
              "[5 rows x 6 columns]"
            ]
          },
          "metadata": {
            "tags": []
          },
          "execution_count": 45
        }
      ]
    },
    {
      "cell_type": "code",
      "metadata": {
        "id": "exi-eJN4Bww0",
        "colab_type": "code",
        "colab": {}
      },
      "source": [
        "  Companies = df['Company']"
      ],
      "execution_count": 0,
      "outputs": []
    },
    {
      "cell_type": "code",
      "metadata": {
        "id": "ULxf8JNzpErL",
        "colab_type": "code",
        "outputId": "ac911b0f-0f50-43da-9b00-03bed8d1306d",
        "colab": {
          "base_uri": "https://localhost:8080/",
          "height": 542
        }
      },
      "source": [
        "hist_company = go.Figure()\n",
        "hist_company.add_trace(go.Histogram(histfunc=\"count\",  x=df[\"Company\"]),)\n",
        "hist_company.show()"
      ],
      "execution_count": 0,
      "outputs": [
        {
          "output_type": "display_data",
          "data": {
            "text/html": [
              "<html>\n",
              "<head><meta charset=\"utf-8\" /></head>\n",
              "<body>\n",
              "    <div>\n",
              "            <script src=\"https://cdnjs.cloudflare.com/ajax/libs/mathjax/2.7.5/MathJax.js?config=TeX-AMS-MML_SVG\"></script><script type=\"text/javascript\">if (window.MathJax) {MathJax.Hub.Config({SVG: {font: \"STIX-Web\"}});}</script>\n",
              "                <script type=\"text/javascript\">window.PlotlyConfig = {MathJaxConfig: 'local'};</script>\n",
              "        <script src=\"https://cdn.plot.ly/plotly-latest.min.js\"></script>    \n",
              "            <div id=\"ee0bffc7-c6b5-47dd-8400-4a4d7a76647f\" class=\"plotly-graph-div\" style=\"height:525px; width:100%;\"></div>\n",
              "            <script type=\"text/javascript\">\n",
              "                \n",
              "                    window.PLOTLYENV=window.PLOTLYENV || {};\n",
              "                    \n",
              "                if (document.getElementById(\"ee0bffc7-c6b5-47dd-8400-4a4d7a76647f\")) {\n",
              "                    Plotly.newPlot(\n",
              "                        'ee0bffc7-c6b5-47dd-8400-4a4d7a76647f',\n",
              "                        [{\"histfunc\": \"count\", \"type\": \"histogram\", \"x\": [\"Netcracker Technology\", \"AIR Worldwide\", \"Cisco\", \"Entrench Electronics\", \"Tata Consultancy Services\", \"Virtual Labs\", \"NCR Corporation\", \"ServiceNow\", \"Microsoft\", \"CMA Consulting\", \"Oracle\", \"Teradata\", \"Paperpile\", \"National Institute of Technology Raipur\", \"Self-employed\", \"Amazon\", \"Navaratan Technologies\", \"Swarajya\", \"EduRidge India\", \"Qualcomm\", \"Streamline CPQ\", \"NCR Corporation\", \"Accolite \", \"Halya Agro Technologies Pvt Ltd\", \"Oracle\", \"BACTOLAC Formulations\", \"Unicorn Industries Company\", \"EY\", \"Oracle\", \"Cisco\", \"ServiceNow\", \"Inncircles Technologies Private Limited\", \"Cotiviti\", \"Tata Consultancy Services\", \"Bank of America\", \"Qualcomm\", \"Gemba Concepts\", \"Cotiviti\", \"Clemson University\", \"Cotiviti\", \"RailTel Corporation of India Ltd\", \"Tata Consultancy Services\", \"AMAZON DEVELOPMENT CENTRE (INDIA) PRIVATE LIMITED\", \"Accenture\", \"Indian Institute of Space Science and Technology\", \"Progress\", \"Terribly Tiny Tales\", \"NCR Corporation\", \"AIR Worldwide\", \"TEKsystems\", \"NCR Corporation\", \"G K Builders\", \"Oracle\", \"ServiceNow\", \"Bank of America\", \"Deloitte India (Offices of the US)\", \"University of North Texas\", \"Deloitte India (Offices of the US)\", \"ServiceNow\", \"Oracle india pvt Ltd \", \"Amazon\", \"Salesforce\", \"ServiceNow\", \"Amazon\", \"Inncircles Technologies Private Limited\", \"Research Centre Imarat (RCI), A Part Of Drdo\", \"Accolite\", \"Caliber Technologies Pvt Ltd\", \"Oracle\", \"Paperpile\", \"Zaloni\", \"Inncircles Technologies Private Limited\", \"Delta Dental of Michigan\", \"Harvard US India Initiative\", \"Vasavi College of Engg\", \"TSYS\", \"Infosys\", \"NCR Corporation\", \"Caravel.AI\", \"Amazon\", \"MTX Group Inc\", \"ServiceNow\", \"Amazon\", \"Vasavi College of Engineering\", \"Oracle\", \"Cognizant\", \"Deloitte India (Offices of the US)\", \"Ashoka Builders & Developers - India\", \"Qualcomm\", \"Intel Corporation\", \"Internshala\", \"University of Florida\", \"Inncircles Technologies Private Limited\", \"Areteans\", \"Oracle\", \"NCR Corporation\", \"Indian Institute of Technology, Roorkee\", \"Oracle\", \"FactSet\", \"Accolite\", \"Developer Student Clubs\", \"Amazon\", \"BlueBell Educational Tours\", \"JPMorgan Chase & Co.\", \"Oracle\", \"Amazon\", \"IRIS 2020 - IIM Indore\", \"Adsiduous Media\", \"NCR Corporation\", \"Oracle\", \"OpenText\", \"Cognizant\", \"OpenText\", \"Oracle\", \"NCR Corporation\", \"Oracle\", \"NCR Corporation\", \"University of Houston-Clear Lake\", \"Vasavi College of Engineering\", \"Vaasvi College of Engineering\", \"EY\", \"Ernst & Young\", \"Cognizant\", \"Salesforce\", \"NCR Corporation\", \"Cotiviti\", \"NCR Corporation\", \"NCR Corporation\", \"UnitedHealth Group\", \"The Trade Guru\", \"Defence Research and Development Laboratory (DRDL) - DRDO\", \"SWAYAM\", \"Host Analytics Inc\", \"Cotiviti\", \"Host Analytics Inc\", \"Silicon Labs\", \"Cotiviti\", \"EPAM Systems\", \"Cotiviti\", \"Cotiviti\", \"Oracle india pvt Ltd \", \"SWAYAM ED-CELL,VCE\", \"Cotiviti\", \"Cotiviti\", \"ZestIOT - IOT/AI powered aviation platform\", \"SVKM's Narsee Monjee Institute of Management Studies (NMIMS)\", \"Cotiviti\", \"Defense Research and Development Laboratory - Ministry of Defense\", \"Infopercept Consulting\", \"Infosys\", \"Microsoft\", \"Vasavi College of Engg\", \"Infosys\", \"Cotiviti\", \"Cotiviti\", \"Cotiviti\", \"Inncircles Technologies Private Limited\", \"Accenture in India\", \"Dell\", \"WOIR Software India Pvt. Ltd.\", \"Apxor\", \"Thalia Labh Group\", \"Smartbridge\", \"Q-connect\", \"Tata Consultancy Services - Bank of America\", \"Tower Research Capital\", \"Qualcomm\", \"Turvo Inc.\", \"Tata Consultancy Services\", \"Innominds\", \"Ivy Comptech\", \"Oracle\", \"NCR Corporation\", \"Cotiviti\", \"Oracle\", \"NCR Corporation\", \"Krisow\", \"SocioHub\", \"Cisco\", \"Wipro Limited\", \"Salesforce\", \"Trainee at TalentSprint WE program\", \"Internshala\", \"Oracle India Pvt. Ltd\", \"FactSet\", \"Cotiviti Labs\", \"Sri Radhika Tubes\", \"Neo-Hire services\", \"Blu\", \"Colorado State University\", \"Navaratan Technologies\", \"Olam\", \"LogisoftTechnologies Inc\", \"Pegasystems\", \"www.call2ask.com\", \"Script Foundation\", \"Cotiviti\", \"Deloitte India (Offices of the US)\", \"Kingmaker world org.\", \"Cotiviti\", \"Vasavi College of Engineering\", \"Inderprastha Engineering College\", \"Cotiviti\", \"ValueLabs\", \"Sahaya Society\", \"Molecular Connections\", \"BNY Mellon\", \"WOMENforINDIA\", \"Cashapona Technologies Private Limited\", \"Oracle\", \"SS&C Technologies\", \"Hoopy\", \"Cotiviti\", \"Cisco\", \"Cognizant\", \"WSP USA\", \"Tata Consultancy Services\", \"Temple University\", \"Cotiviti\", \"IBI Group\", \"Microsoft\", \"Pegasystems\", \"Mk academy\", \"Infosys\", \"Accure AI Inc.\", \"Pegasystems\", \"Deloitte India (Offices of the US)\", \"AMD\", \"Voltas Limited - A TATA Enterprise\", \"Oracle\", \"Bank of America\", \"GreyCampus\", \"Oracle\", \"Tata Consultancy Services\", \"Pegasystems\", \"Amazon\", \"Accenture\", \"EY\", \"HashedIn\", \"George Mason University\", \"EnergyTech Global\", \"Deloitte India (Offices of the US)\", \"Avani.ai\", \"Deloitte Digital\", \"Layer 6 AI\", \"Aegis School of Business, Data Science & Telecommunication\", \"Deloitte India (Offices of the US)\"]}],\n",
              "                        {\"template\": {\"data\": {\"bar\": [{\"error_x\": {\"color\": \"#2a3f5f\"}, \"error_y\": {\"color\": \"#2a3f5f\"}, \"marker\": {\"line\": {\"color\": \"#E5ECF6\", \"width\": 0.5}}, \"type\": \"bar\"}], \"barpolar\": [{\"marker\": {\"line\": {\"color\": \"#E5ECF6\", \"width\": 0.5}}, \"type\": \"barpolar\"}], \"carpet\": [{\"aaxis\": {\"endlinecolor\": \"#2a3f5f\", \"gridcolor\": \"white\", \"linecolor\": \"white\", \"minorgridcolor\": \"white\", \"startlinecolor\": \"#2a3f5f\"}, \"baxis\": {\"endlinecolor\": \"#2a3f5f\", \"gridcolor\": \"white\", \"linecolor\": \"white\", \"minorgridcolor\": \"white\", \"startlinecolor\": \"#2a3f5f\"}, \"type\": \"carpet\"}], \"choropleth\": [{\"colorbar\": {\"outlinewidth\": 0, \"ticks\": \"\"}, \"type\": \"choropleth\"}], \"contour\": [{\"colorbar\": {\"outlinewidth\": 0, \"ticks\": \"\"}, \"colorscale\": [[0.0, \"#0d0887\"], [0.1111111111111111, \"#46039f\"], [0.2222222222222222, \"#7201a8\"], [0.3333333333333333, \"#9c179e\"], [0.4444444444444444, \"#bd3786\"], [0.5555555555555556, \"#d8576b\"], [0.6666666666666666, \"#ed7953\"], [0.7777777777777778, \"#fb9f3a\"], [0.8888888888888888, \"#fdca26\"], [1.0, \"#f0f921\"]], \"type\": \"contour\"}], \"contourcarpet\": [{\"colorbar\": {\"outlinewidth\": 0, \"ticks\": \"\"}, \"type\": \"contourcarpet\"}], \"heatmap\": [{\"colorbar\": {\"outlinewidth\": 0, \"ticks\": \"\"}, \"colorscale\": [[0.0, \"#0d0887\"], [0.1111111111111111, \"#46039f\"], [0.2222222222222222, \"#7201a8\"], [0.3333333333333333, \"#9c179e\"], [0.4444444444444444, \"#bd3786\"], [0.5555555555555556, \"#d8576b\"], [0.6666666666666666, \"#ed7953\"], [0.7777777777777778, \"#fb9f3a\"], [0.8888888888888888, \"#fdca26\"], [1.0, \"#f0f921\"]], \"type\": \"heatmap\"}], \"heatmapgl\": [{\"colorbar\": {\"outlinewidth\": 0, \"ticks\": \"\"}, \"colorscale\": [[0.0, \"#0d0887\"], [0.1111111111111111, \"#46039f\"], [0.2222222222222222, \"#7201a8\"], [0.3333333333333333, \"#9c179e\"], [0.4444444444444444, \"#bd3786\"], [0.5555555555555556, \"#d8576b\"], [0.6666666666666666, \"#ed7953\"], [0.7777777777777778, \"#fb9f3a\"], [0.8888888888888888, \"#fdca26\"], [1.0, \"#f0f921\"]], \"type\": \"heatmapgl\"}], \"histogram\": [{\"marker\": {\"colorbar\": {\"outlinewidth\": 0, \"ticks\": \"\"}}, \"type\": \"histogram\"}], \"histogram2d\": [{\"colorbar\": {\"outlinewidth\": 0, \"ticks\": \"\"}, \"colorscale\": [[0.0, \"#0d0887\"], [0.1111111111111111, \"#46039f\"], [0.2222222222222222, \"#7201a8\"], [0.3333333333333333, \"#9c179e\"], [0.4444444444444444, \"#bd3786\"], [0.5555555555555556, \"#d8576b\"], [0.6666666666666666, \"#ed7953\"], [0.7777777777777778, \"#fb9f3a\"], [0.8888888888888888, \"#fdca26\"], [1.0, \"#f0f921\"]], \"type\": \"histogram2d\"}], \"histogram2dcontour\": [{\"colorbar\": {\"outlinewidth\": 0, \"ticks\": \"\"}, \"colorscale\": [[0.0, \"#0d0887\"], [0.1111111111111111, \"#46039f\"], [0.2222222222222222, \"#7201a8\"], [0.3333333333333333, \"#9c179e\"], [0.4444444444444444, \"#bd3786\"], [0.5555555555555556, \"#d8576b\"], [0.6666666666666666, \"#ed7953\"], [0.7777777777777778, \"#fb9f3a\"], [0.8888888888888888, \"#fdca26\"], [1.0, \"#f0f921\"]], \"type\": \"histogram2dcontour\"}], \"mesh3d\": [{\"colorbar\": {\"outlinewidth\": 0, \"ticks\": \"\"}, \"type\": \"mesh3d\"}], \"parcoords\": [{\"line\": {\"colorbar\": {\"outlinewidth\": 0, \"ticks\": \"\"}}, \"type\": \"parcoords\"}], \"pie\": [{\"automargin\": true, \"type\": \"pie\"}], \"scatter\": [{\"marker\": {\"colorbar\": {\"outlinewidth\": 0, \"ticks\": \"\"}}, \"type\": \"scatter\"}], \"scatter3d\": [{\"line\": {\"colorbar\": {\"outlinewidth\": 0, \"ticks\": \"\"}}, \"marker\": {\"colorbar\": {\"outlinewidth\": 0, \"ticks\": \"\"}}, \"type\": \"scatter3d\"}], \"scattercarpet\": [{\"marker\": {\"colorbar\": {\"outlinewidth\": 0, \"ticks\": \"\"}}, \"type\": \"scattercarpet\"}], \"scattergeo\": [{\"marker\": {\"colorbar\": {\"outlinewidth\": 0, \"ticks\": \"\"}}, \"type\": \"scattergeo\"}], \"scattergl\": [{\"marker\": {\"colorbar\": {\"outlinewidth\": 0, \"ticks\": \"\"}}, \"type\": \"scattergl\"}], \"scattermapbox\": [{\"marker\": {\"colorbar\": {\"outlinewidth\": 0, \"ticks\": \"\"}}, \"type\": \"scattermapbox\"}], \"scatterpolar\": [{\"marker\": {\"colorbar\": {\"outlinewidth\": 0, \"ticks\": \"\"}}, \"type\": \"scatterpolar\"}], \"scatterpolargl\": [{\"marker\": {\"colorbar\": {\"outlinewidth\": 0, \"ticks\": \"\"}}, \"type\": \"scatterpolargl\"}], \"scatterternary\": [{\"marker\": {\"colorbar\": {\"outlinewidth\": 0, \"ticks\": \"\"}}, \"type\": \"scatterternary\"}], \"surface\": [{\"colorbar\": {\"outlinewidth\": 0, \"ticks\": \"\"}, \"colorscale\": [[0.0, \"#0d0887\"], [0.1111111111111111, \"#46039f\"], [0.2222222222222222, \"#7201a8\"], [0.3333333333333333, \"#9c179e\"], [0.4444444444444444, \"#bd3786\"], [0.5555555555555556, \"#d8576b\"], [0.6666666666666666, \"#ed7953\"], [0.7777777777777778, \"#fb9f3a\"], [0.8888888888888888, \"#fdca26\"], [1.0, \"#f0f921\"]], \"type\": \"surface\"}], \"table\": [{\"cells\": {\"fill\": {\"color\": \"#EBF0F8\"}, \"line\": {\"color\": \"white\"}}, \"header\": {\"fill\": {\"color\": \"#C8D4E3\"}, \"line\": {\"color\": \"white\"}}, \"type\": \"table\"}]}, \"layout\": {\"annotationdefaults\": {\"arrowcolor\": \"#2a3f5f\", \"arrowhead\": 0, \"arrowwidth\": 1}, \"coloraxis\": {\"colorbar\": {\"outlinewidth\": 0, \"ticks\": \"\"}}, \"colorscale\": {\"diverging\": [[0, \"#8e0152\"], [0.1, \"#c51b7d\"], [0.2, \"#de77ae\"], [0.3, \"#f1b6da\"], [0.4, \"#fde0ef\"], [0.5, \"#f7f7f7\"], [0.6, \"#e6f5d0\"], [0.7, \"#b8e186\"], [0.8, \"#7fbc41\"], [0.9, \"#4d9221\"], [1, \"#276419\"]], \"sequential\": [[0.0, \"#0d0887\"], [0.1111111111111111, \"#46039f\"], [0.2222222222222222, \"#7201a8\"], [0.3333333333333333, \"#9c179e\"], [0.4444444444444444, \"#bd3786\"], [0.5555555555555556, \"#d8576b\"], [0.6666666666666666, \"#ed7953\"], [0.7777777777777778, \"#fb9f3a\"], [0.8888888888888888, \"#fdca26\"], [1.0, \"#f0f921\"]], \"sequentialminus\": [[0.0, \"#0d0887\"], [0.1111111111111111, \"#46039f\"], [0.2222222222222222, \"#7201a8\"], [0.3333333333333333, \"#9c179e\"], [0.4444444444444444, \"#bd3786\"], [0.5555555555555556, \"#d8576b\"], [0.6666666666666666, \"#ed7953\"], [0.7777777777777778, \"#fb9f3a\"], [0.8888888888888888, \"#fdca26\"], [1.0, \"#f0f921\"]]}, \"colorway\": [\"#636efa\", \"#EF553B\", \"#00cc96\", \"#ab63fa\", \"#FFA15A\", \"#19d3f3\", \"#FF6692\", \"#B6E880\", \"#FF97FF\", \"#FECB52\"], \"font\": {\"color\": \"#2a3f5f\"}, \"geo\": {\"bgcolor\": \"white\", \"lakecolor\": \"white\", \"landcolor\": \"#E5ECF6\", \"showlakes\": true, \"showland\": true, \"subunitcolor\": \"white\"}, \"hoverlabel\": {\"align\": \"left\"}, \"hovermode\": \"closest\", \"mapbox\": {\"style\": \"light\"}, \"paper_bgcolor\": \"white\", \"plot_bgcolor\": \"#E5ECF6\", \"polar\": {\"angularaxis\": {\"gridcolor\": \"white\", \"linecolor\": \"white\", \"ticks\": \"\"}, \"bgcolor\": \"#E5ECF6\", \"radialaxis\": {\"gridcolor\": \"white\", \"linecolor\": \"white\", \"ticks\": \"\"}}, \"scene\": {\"xaxis\": {\"backgroundcolor\": \"#E5ECF6\", \"gridcolor\": \"white\", \"gridwidth\": 2, \"linecolor\": \"white\", \"showbackground\": true, \"ticks\": \"\", \"zerolinecolor\": \"white\"}, \"yaxis\": {\"backgroundcolor\": \"#E5ECF6\", \"gridcolor\": \"white\", \"gridwidth\": 2, \"linecolor\": \"white\", \"showbackground\": true, \"ticks\": \"\", \"zerolinecolor\": \"white\"}, \"zaxis\": {\"backgroundcolor\": \"#E5ECF6\", \"gridcolor\": \"white\", \"gridwidth\": 2, \"linecolor\": \"white\", \"showbackground\": true, \"ticks\": \"\", \"zerolinecolor\": \"white\"}}, \"shapedefaults\": {\"line\": {\"color\": \"#2a3f5f\"}}, \"ternary\": {\"aaxis\": {\"gridcolor\": \"white\", \"linecolor\": \"white\", \"ticks\": \"\"}, \"baxis\": {\"gridcolor\": \"white\", \"linecolor\": \"white\", \"ticks\": \"\"}, \"bgcolor\": \"#E5ECF6\", \"caxis\": {\"gridcolor\": \"white\", \"linecolor\": \"white\", \"ticks\": \"\"}}, \"title\": {\"x\": 0.05}, \"xaxis\": {\"automargin\": true, \"gridcolor\": \"white\", \"linecolor\": \"white\", \"ticks\": \"\", \"title\": {\"standoff\": 15}, \"zerolinecolor\": \"white\", \"zerolinewidth\": 2}, \"yaxis\": {\"automargin\": true, \"gridcolor\": \"white\", \"linecolor\": \"white\", \"ticks\": \"\", \"title\": {\"standoff\": 15}, \"zerolinecolor\": \"white\", \"zerolinewidth\": 2}}}},\n",
              "                        {\"responsive\": true}\n",
              "                    ).then(function(){\n",
              "                            \n",
              "var gd = document.getElementById('ee0bffc7-c6b5-47dd-8400-4a4d7a76647f');\n",
              "var x = new MutationObserver(function (mutations, observer) {{\n",
              "        var display = window.getComputedStyle(gd).display;\n",
              "        if (!display || display === 'none') {{\n",
              "            console.log([gd, 'removed!']);\n",
              "            Plotly.purge(gd);\n",
              "            observer.disconnect();\n",
              "        }}\n",
              "}});\n",
              "\n",
              "// Listen for the removal of the full notebook cells\n",
              "var notebookContainer = gd.closest('#notebook-container');\n",
              "if (notebookContainer) {{\n",
              "    x.observe(notebookContainer, {childList: true});\n",
              "}}\n",
              "\n",
              "// Listen for the clearing of the current output cell\n",
              "var outputEl = gd.closest('.output');\n",
              "if (outputEl) {{\n",
              "    x.observe(outputEl, {childList: true});\n",
              "}}\n",
              "\n",
              "                        })\n",
              "                };\n",
              "                \n",
              "            </script>\n",
              "        </div>\n",
              "</body>\n",
              "</html>"
            ]
          },
          "metadata": {
            "tags": []
          }
        }
      ]
    },
    {
      "cell_type": "code",
      "metadata": {
        "id": "FNZ08Kdeonkn",
        "colab_type": "code",
        "outputId": "19febbb9-5609-4d11-b4dd-5e78a9be8a3a",
        "colab": {
          "base_uri": "https://localhost:8080/",
          "height": 542
        }
      },
      "source": [
        "fig = go.Figure()\n",
        "fig.add_trace(go.Histogram(histfunc=\"count\",  x=df[\"Position\"]))\n",
        "fig.show()"
      ],
      "execution_count": 0,
      "outputs": [
        {
          "output_type": "display_data",
          "data": {
            "text/html": [
              "<html>\n",
              "<head><meta charset=\"utf-8\" /></head>\n",
              "<body>\n",
              "    <div>\n",
              "            <script src=\"https://cdnjs.cloudflare.com/ajax/libs/mathjax/2.7.5/MathJax.js?config=TeX-AMS-MML_SVG\"></script><script type=\"text/javascript\">if (window.MathJax) {MathJax.Hub.Config({SVG: {font: \"STIX-Web\"}});}</script>\n",
              "                <script type=\"text/javascript\">window.PlotlyConfig = {MathJaxConfig: 'local'};</script>\n",
              "        <script src=\"https://cdn.plot.ly/plotly-latest.min.js\"></script>    \n",
              "            <div id=\"cede1681-fbed-43a9-8b0f-5b314869e051\" class=\"plotly-graph-div\" style=\"height:525px; width:100%;\"></div>\n",
              "            <script type=\"text/javascript\">\n",
              "                \n",
              "                    window.PLOTLYENV=window.PLOTLYENV || {};\n",
              "                    \n",
              "                if (document.getElementById(\"cede1681-fbed-43a9-8b0f-5b314869e051\")) {\n",
              "                    Plotly.newPlot(\n",
              "                        'cede1681-fbed-43a9-8b0f-5b314869e051',\n",
              "                        [{\"histfunc\": \"count\", \"type\": \"histogram\", \"x\": [\"Software Engineer\", \"Intern\", \"Intern\", \"Business Development Manager\", \"Intern\", \"Project Engineer\", \"Intern\", \"Associate Software Engineer\", \"Mentee\", \"Sr. Java Developer\", \"Intern\", \"Staff Cloud DevOps Engineer\", \"JavaScript Engineer\", \"Studying\", \"Student\", \"software development engineer\", \"Intern\", \"Columnist\", \"Social media associate\", \"Associate System Analyst\", \"Intern\", \"Intern\", \"Intern\", \"CTO\", \"Software Developer\", \"Microbiologist\", \"Intern\", \"Assurance Associate\", \"project intern\", \"Consulting Engineer\", \"Developer\", \"Product developer intern\", \"Recruiter\", \"Assosiate PEGA developer\", \"Senior Tech Associate/ Apprentice\", \"Associate System Analyst\", \"Intern\", \"Project intern\", \"Graduate Research Assistant\", \"Intern\", \"Intern\", \"Assistant System Engineer\", \"Process Associate\", \"Associate Software Engineer\", \"Intern\", \"Software Engineer\", \"community curator\", \"Intern\", \"Intern\", \"Software Engineer\", \"Software Engineer 1\", \"Civil Engineer\", \"Intern\", \"Associate Software Engineer\", \"Apprentice\", \"Business Technology Analyst\", \"Teaching Assistant\", \"Business Technology Analyst\", \"Associate DevOps Engineer\", \"Cloud DevOps Engineer\", \"Intern\", \"Associate success agent\", \"Associate Software Engineer\", \"SDE\", \"Intern\", \"Technical Apprentice\", \"Senior Software Development Engineer\", \"Intern\", \"Application Developer\", \"Javascript Engineer\", \"Senior Software Engineer\", \"Product Developer\", \"Senior Software Engineer\", \"India Organising Committee at Harvard US-India Initiative\", \"Bachelor of Engineering \", \"Business Analyst II\", \"Associate Business Analyst\", \"Software Engineer\", \"Intern\", \"3D Support\", \"Artificial Intelligence Consultant\", \"Associate Software Engineer\", \"Sr. Manager, Finance\", \"Assistant Professor - Dept of ECE\", \"Intern\", \"Senior Consultant CRM\", \"Business Technology Analyst\", \"Intern\", \"Associate IT Engineer\", \"Intern\", \"internshala\", \"Software Engineer\", \"Full Stack Developer\", \"Consultant\", \"Application Developer\", \"SW Engineer\", \"Research Student\", \"Intern\", \"FIX Certification Engineer\", \"Software Developer lntern\", \"Member\", \"SDE\", \"Co-Founder\", \"Software Engineer\", \"Intern\", \"Intern\", \"Senior Coordinator - Drona Event\", \"Performance Media Buyer\", \"Intern\", \"Intern\", \"Software Engineer\", \"Intern\", \"Intern\", \"Associate Performance Engineer\", \"Production Supervisor\", \"Intern\", \"Intern\", \"Graduate Teaching Assistant\", \"Professor Assistant\", \"Professor\", \"Assurance Associate\", \"Assurance Associate\", \"Programmer Analyst Trainee\", \"associate success agent\", \"Software Engineer\", \"Technical Team Lead\", \"Intern\", \"Intern\", \"Software Engineer\", \"Founder and CEO\", \"Intern\", \"Marketing Manager\", \"Software Development Engineer\", \"Intern\", \"Intern\", \"Intern\", \"Intern\", \"Agile Project Manager\", \"Product Owner\", \"Software Developer\", \"Intern\", \"Head of Event Management\", \"Vice President, Human Resource\", \"Human Resources Generalist\", \"Intern\", \"Sales And Service Specialist\", \"Technical Lead\", \"Intern\", \"SOC Analyst\", \"Associate Business Analyst\", \"Software Engineer 2\", \"Student\", \"Senior System Engineer\", \"Senior Quality Assurance Engineer\", \"Sr. Lead Business Analyst\", \"Technical Lead\", \"Full-stack Developer\", \"Associate Application Developer\", \"Scrum Master\", \"Intern\", \"Software Engineer\", \"Graduate Engineering Trainee\", \"Software Engineer\", \"Customer Service Executive\", \"Technical Team Lead\", \"Software Developer II\", \"Programmer Analyst\", \"Software Engineer\", \"Intern\", \"Data Scientist- Big Data and Analytics \", \"Trainee Software Engineer\", \"Intern\", \"Intern\", \"Lead UX Designer\", \"Project intern\", \"Intern\", \"Sales Executive\", \"Marketing Trainee\", \"Intern\", \"Lead Consultant\", \"Product Support Engineer\", \"Student and a trainee\", \"Leading Training Content Development (aka Teacher) \", \"Senior Software Engineer\", \"Intern\", \"Senior Developer\", \"Operations and Customer Relations Supervisor\", \"Account Manager\", \"Senior Data Scientist\", \"Graduate Teaching Assistant\", \"Intern\", \"Management Trainee\", \"Manager IT Project Sales\", \"Associate Technical Solutions Engineer\", \"Project Business Analyst & Management Head\", \"Program Manager\", \"Lead Business Analyst/ Product owner\", \"Business Technology Analyst\", \"Founder\", \"Associate Software Engineer\", \"Asst.Professor\", \"student\", \"SAFe Release Train Engineer and Agile Coach\", \"ETL Developer\", \"Volunteer\", \"Frontend Developer\", \"DevOps Engineer\", \"Intern\", \"Intern\", \"Intern\", \"Business Operations Associate\", \"Intern\", \"Technical Architect\", \"Intern\", \"Programmer analyst\", \"Supervising Travel Demand Modeler\", \"Associate Consultant\", \"Student Consultant\", \"Assistant Vice President - Enterprise IT Engineering\", \"Intern\", \"Data Scientist\", \"Associate Software Engineer\", \"Mathematics Tutor\", \"System Engineer - SOC Analyst\", \"Graduate Data Science Consultant\", \"Associate Solutions Engineer\", \"Business Technology Analyst\", \"Compiler Engineer\", \"Intern\", \"Intern\", \"Apprentice/ Senior Technical Associate\", \"Intern\", \"Intern\", \"Software Engineer\", \"Associate Software Engineer\", \"SDE 2\", \"Application Development Associate\", \"Intern\", \"Software Engineer\", \"Student\", \"Software Analyst\", \"Senior Consultant\", \"Founder | Data Scientist\", \"Intern\", \"ML Scientist\", \"Student\", \"Business Technology Analyst\"]}],\n",
              "                        {\"template\": {\"data\": {\"bar\": [{\"error_x\": {\"color\": \"#2a3f5f\"}, \"error_y\": {\"color\": \"#2a3f5f\"}, \"marker\": {\"line\": {\"color\": \"#E5ECF6\", \"width\": 0.5}}, \"type\": \"bar\"}], \"barpolar\": [{\"marker\": {\"line\": {\"color\": \"#E5ECF6\", \"width\": 0.5}}, \"type\": \"barpolar\"}], \"carpet\": [{\"aaxis\": {\"endlinecolor\": \"#2a3f5f\", \"gridcolor\": \"white\", \"linecolor\": \"white\", \"minorgridcolor\": \"white\", \"startlinecolor\": \"#2a3f5f\"}, \"baxis\": {\"endlinecolor\": \"#2a3f5f\", \"gridcolor\": \"white\", \"linecolor\": \"white\", \"minorgridcolor\": \"white\", \"startlinecolor\": \"#2a3f5f\"}, \"type\": \"carpet\"}], \"choropleth\": [{\"colorbar\": {\"outlinewidth\": 0, \"ticks\": \"\"}, \"type\": \"choropleth\"}], \"contour\": [{\"colorbar\": {\"outlinewidth\": 0, \"ticks\": \"\"}, \"colorscale\": [[0.0, \"#0d0887\"], [0.1111111111111111, \"#46039f\"], [0.2222222222222222, \"#7201a8\"], [0.3333333333333333, \"#9c179e\"], [0.4444444444444444, \"#bd3786\"], [0.5555555555555556, \"#d8576b\"], [0.6666666666666666, \"#ed7953\"], [0.7777777777777778, \"#fb9f3a\"], [0.8888888888888888, \"#fdca26\"], [1.0, \"#f0f921\"]], \"type\": \"contour\"}], \"contourcarpet\": [{\"colorbar\": {\"outlinewidth\": 0, \"ticks\": \"\"}, \"type\": \"contourcarpet\"}], \"heatmap\": [{\"colorbar\": {\"outlinewidth\": 0, \"ticks\": \"\"}, \"colorscale\": [[0.0, \"#0d0887\"], [0.1111111111111111, \"#46039f\"], [0.2222222222222222, \"#7201a8\"], [0.3333333333333333, \"#9c179e\"], [0.4444444444444444, \"#bd3786\"], [0.5555555555555556, \"#d8576b\"], [0.6666666666666666, \"#ed7953\"], [0.7777777777777778, \"#fb9f3a\"], [0.8888888888888888, \"#fdca26\"], [1.0, \"#f0f921\"]], \"type\": \"heatmap\"}], \"heatmapgl\": [{\"colorbar\": {\"outlinewidth\": 0, \"ticks\": \"\"}, \"colorscale\": [[0.0, \"#0d0887\"], [0.1111111111111111, \"#46039f\"], [0.2222222222222222, \"#7201a8\"], [0.3333333333333333, \"#9c179e\"], [0.4444444444444444, \"#bd3786\"], [0.5555555555555556, \"#d8576b\"], [0.6666666666666666, \"#ed7953\"], [0.7777777777777778, \"#fb9f3a\"], [0.8888888888888888, \"#fdca26\"], [1.0, \"#f0f921\"]], \"type\": \"heatmapgl\"}], \"histogram\": [{\"marker\": {\"colorbar\": {\"outlinewidth\": 0, \"ticks\": \"\"}}, \"type\": \"histogram\"}], \"histogram2d\": [{\"colorbar\": {\"outlinewidth\": 0, \"ticks\": \"\"}, \"colorscale\": [[0.0, \"#0d0887\"], [0.1111111111111111, \"#46039f\"], [0.2222222222222222, \"#7201a8\"], [0.3333333333333333, \"#9c179e\"], [0.4444444444444444, \"#bd3786\"], [0.5555555555555556, \"#d8576b\"], [0.6666666666666666, \"#ed7953\"], [0.7777777777777778, \"#fb9f3a\"], [0.8888888888888888, \"#fdca26\"], [1.0, \"#f0f921\"]], \"type\": \"histogram2d\"}], \"histogram2dcontour\": [{\"colorbar\": {\"outlinewidth\": 0, \"ticks\": \"\"}, \"colorscale\": [[0.0, \"#0d0887\"], [0.1111111111111111, \"#46039f\"], [0.2222222222222222, \"#7201a8\"], [0.3333333333333333, \"#9c179e\"], [0.4444444444444444, \"#bd3786\"], [0.5555555555555556, \"#d8576b\"], [0.6666666666666666, \"#ed7953\"], [0.7777777777777778, \"#fb9f3a\"], [0.8888888888888888, \"#fdca26\"], [1.0, \"#f0f921\"]], \"type\": \"histogram2dcontour\"}], \"mesh3d\": [{\"colorbar\": {\"outlinewidth\": 0, \"ticks\": \"\"}, \"type\": \"mesh3d\"}], \"parcoords\": [{\"line\": {\"colorbar\": {\"outlinewidth\": 0, \"ticks\": \"\"}}, \"type\": \"parcoords\"}], \"pie\": [{\"automargin\": true, \"type\": \"pie\"}], \"scatter\": [{\"marker\": {\"colorbar\": {\"outlinewidth\": 0, \"ticks\": \"\"}}, \"type\": \"scatter\"}], \"scatter3d\": [{\"line\": {\"colorbar\": {\"outlinewidth\": 0, \"ticks\": \"\"}}, \"marker\": {\"colorbar\": {\"outlinewidth\": 0, \"ticks\": \"\"}}, \"type\": \"scatter3d\"}], \"scattercarpet\": [{\"marker\": {\"colorbar\": {\"outlinewidth\": 0, \"ticks\": \"\"}}, \"type\": \"scattercarpet\"}], \"scattergeo\": [{\"marker\": {\"colorbar\": {\"outlinewidth\": 0, \"ticks\": \"\"}}, \"type\": \"scattergeo\"}], \"scattergl\": [{\"marker\": {\"colorbar\": {\"outlinewidth\": 0, \"ticks\": \"\"}}, \"type\": \"scattergl\"}], \"scattermapbox\": [{\"marker\": {\"colorbar\": {\"outlinewidth\": 0, \"ticks\": \"\"}}, \"type\": \"scattermapbox\"}], \"scatterpolar\": [{\"marker\": {\"colorbar\": {\"outlinewidth\": 0, \"ticks\": \"\"}}, \"type\": \"scatterpolar\"}], \"scatterpolargl\": [{\"marker\": {\"colorbar\": {\"outlinewidth\": 0, \"ticks\": \"\"}}, \"type\": \"scatterpolargl\"}], \"scatterternary\": [{\"marker\": {\"colorbar\": {\"outlinewidth\": 0, \"ticks\": \"\"}}, \"type\": \"scatterternary\"}], \"surface\": [{\"colorbar\": {\"outlinewidth\": 0, \"ticks\": \"\"}, \"colorscale\": [[0.0, \"#0d0887\"], [0.1111111111111111, \"#46039f\"], [0.2222222222222222, \"#7201a8\"], [0.3333333333333333, \"#9c179e\"], [0.4444444444444444, \"#bd3786\"], [0.5555555555555556, \"#d8576b\"], [0.6666666666666666, \"#ed7953\"], [0.7777777777777778, \"#fb9f3a\"], [0.8888888888888888, \"#fdca26\"], [1.0, \"#f0f921\"]], \"type\": \"surface\"}], \"table\": [{\"cells\": {\"fill\": {\"color\": \"#EBF0F8\"}, \"line\": {\"color\": \"white\"}}, \"header\": {\"fill\": {\"color\": \"#C8D4E3\"}, \"line\": {\"color\": \"white\"}}, \"type\": \"table\"}]}, \"layout\": {\"annotationdefaults\": {\"arrowcolor\": \"#2a3f5f\", \"arrowhead\": 0, \"arrowwidth\": 1}, \"coloraxis\": {\"colorbar\": {\"outlinewidth\": 0, \"ticks\": \"\"}}, \"colorscale\": {\"diverging\": [[0, \"#8e0152\"], [0.1, \"#c51b7d\"], [0.2, \"#de77ae\"], [0.3, \"#f1b6da\"], [0.4, \"#fde0ef\"], [0.5, \"#f7f7f7\"], [0.6, \"#e6f5d0\"], [0.7, \"#b8e186\"], [0.8, \"#7fbc41\"], [0.9, \"#4d9221\"], [1, \"#276419\"]], \"sequential\": [[0.0, \"#0d0887\"], [0.1111111111111111, \"#46039f\"], [0.2222222222222222, \"#7201a8\"], [0.3333333333333333, \"#9c179e\"], [0.4444444444444444, \"#bd3786\"], [0.5555555555555556, \"#d8576b\"], [0.6666666666666666, \"#ed7953\"], [0.7777777777777778, \"#fb9f3a\"], [0.8888888888888888, \"#fdca26\"], [1.0, \"#f0f921\"]], \"sequentialminus\": [[0.0, \"#0d0887\"], [0.1111111111111111, \"#46039f\"], [0.2222222222222222, \"#7201a8\"], [0.3333333333333333, \"#9c179e\"], [0.4444444444444444, \"#bd3786\"], [0.5555555555555556, \"#d8576b\"], [0.6666666666666666, \"#ed7953\"], [0.7777777777777778, \"#fb9f3a\"], [0.8888888888888888, \"#fdca26\"], [1.0, \"#f0f921\"]]}, \"colorway\": [\"#636efa\", \"#EF553B\", \"#00cc96\", \"#ab63fa\", \"#FFA15A\", \"#19d3f3\", \"#FF6692\", \"#B6E880\", \"#FF97FF\", \"#FECB52\"], \"font\": {\"color\": \"#2a3f5f\"}, \"geo\": {\"bgcolor\": \"white\", \"lakecolor\": \"white\", \"landcolor\": \"#E5ECF6\", \"showlakes\": true, \"showland\": true, \"subunitcolor\": \"white\"}, \"hoverlabel\": {\"align\": \"left\"}, \"hovermode\": \"closest\", \"mapbox\": {\"style\": \"light\"}, \"paper_bgcolor\": \"white\", \"plot_bgcolor\": \"#E5ECF6\", \"polar\": {\"angularaxis\": {\"gridcolor\": \"white\", \"linecolor\": \"white\", \"ticks\": \"\"}, \"bgcolor\": \"#E5ECF6\", \"radialaxis\": {\"gridcolor\": \"white\", \"linecolor\": \"white\", \"ticks\": \"\"}}, \"scene\": {\"xaxis\": {\"backgroundcolor\": \"#E5ECF6\", \"gridcolor\": \"white\", \"gridwidth\": 2, \"linecolor\": \"white\", \"showbackground\": true, \"ticks\": \"\", \"zerolinecolor\": \"white\"}, \"yaxis\": {\"backgroundcolor\": \"#E5ECF6\", \"gridcolor\": \"white\", \"gridwidth\": 2, \"linecolor\": \"white\", \"showbackground\": true, \"ticks\": \"\", \"zerolinecolor\": \"white\"}, \"zaxis\": {\"backgroundcolor\": \"#E5ECF6\", \"gridcolor\": \"white\", \"gridwidth\": 2, \"linecolor\": \"white\", \"showbackground\": true, \"ticks\": \"\", \"zerolinecolor\": \"white\"}}, \"shapedefaults\": {\"line\": {\"color\": \"#2a3f5f\"}}, \"ternary\": {\"aaxis\": {\"gridcolor\": \"white\", \"linecolor\": \"white\", \"ticks\": \"\"}, \"baxis\": {\"gridcolor\": \"white\", \"linecolor\": \"white\", \"ticks\": \"\"}, \"bgcolor\": \"#E5ECF6\", \"caxis\": {\"gridcolor\": \"white\", \"linecolor\": \"white\", \"ticks\": \"\"}}, \"title\": {\"x\": 0.05}, \"xaxis\": {\"automargin\": true, \"gridcolor\": \"white\", \"linecolor\": \"white\", \"ticks\": \"\", \"title\": {\"standoff\": 15}, \"zerolinecolor\": \"white\", \"zerolinewidth\": 2}, \"yaxis\": {\"automargin\": true, \"gridcolor\": \"white\", \"linecolor\": \"white\", \"ticks\": \"\", \"title\": {\"standoff\": 15}, \"zerolinecolor\": \"white\", \"zerolinewidth\": 2}}}},\n",
              "                        {\"responsive\": true}\n",
              "                    ).then(function(){\n",
              "                            \n",
              "var gd = document.getElementById('cede1681-fbed-43a9-8b0f-5b314869e051');\n",
              "var x = new MutationObserver(function (mutations, observer) {{\n",
              "        var display = window.getComputedStyle(gd).display;\n",
              "        if (!display || display === 'none') {{\n",
              "            console.log([gd, 'removed!']);\n",
              "            Plotly.purge(gd);\n",
              "            observer.disconnect();\n",
              "        }}\n",
              "}});\n",
              "\n",
              "// Listen for the removal of the full notebook cells\n",
              "var notebookContainer = gd.closest('#notebook-container');\n",
              "if (notebookContainer) {{\n",
              "    x.observe(notebookContainer, {childList: true});\n",
              "}}\n",
              "\n",
              "// Listen for the clearing of the current output cell\n",
              "var outputEl = gd.closest('.output');\n",
              "if (outputEl) {{\n",
              "    x.observe(outputEl, {childList: true});\n",
              "}}\n",
              "\n",
              "                        })\n",
              "                };\n",
              "                \n",
              "            </script>\n",
              "        </div>\n",
              "</body>\n",
              "</html>"
            ]
          },
          "metadata": {
            "tags": []
          }
        }
      ]
    },
    {
      "cell_type": "code",
      "metadata": {
        "id": "UHpgmoOIAelM",
        "colab_type": "code",
        "outputId": "1251ae39-0ba8-4be8-8674-825b440cdc85",
        "colab": {
          "base_uri": "https://localhost:8080/",
          "height": 173
        }
      },
      "source": [
        "df['My Network']= 'My Network'"
      ],
      "execution_count": 0,
      "outputs": [
        {
          "output_type": "stream",
          "text": [
            "/usr/local/lib/python3.6/dist-packages/ipykernel_launcher.py:1: SettingWithCopyWarning:\n",
            "\n",
            "\n",
            "A value is trying to be set on a copy of a slice from a DataFrame.\n",
            "Try using .loc[row_indexer,col_indexer] = value instead\n",
            "\n",
            "See the caveats in the documentation: https://pandas.pydata.org/pandas-docs/stable/user_guide/indexing.html#returning-a-view-versus-a-copy\n",
            "\n"
          ],
          "name": "stderr"
        }
      ]
    },
    {
      "cell_type": "code",
      "metadata": {
        "id": "bCRH2sMTARX2",
        "colab_type": "code",
        "outputId": "9d94b0d0-acda-4b3c-bf7c-3d136d2a1aa7",
        "colab": {
          "base_uri": "https://localhost:8080/",
          "height": 68
        }
      },
      "source": [
        "!pip install plotly==4.5.1"
      ],
      "execution_count": 0,
      "outputs": [
        {
          "output_type": "stream",
          "text": [
            "Requirement already satisfied: plotly==4.5.1 in /usr/local/lib/python3.6/dist-packages (4.5.1)\n",
            "Requirement already satisfied: six in /usr/local/lib/python3.6/dist-packages (from plotly==4.5.1) (1.12.0)\n",
            "Requirement already satisfied: retrying>=1.3.3 in /usr/local/lib/python3.6/dist-packages (from plotly==4.5.1) (1.3.3)\n"
          ],
          "name": "stdout"
        }
      ]
    },
    {
      "cell_type": "code",
      "metadata": {
        "id": "-Zw8EPeR_Ec2",
        "colab_type": "code",
        "outputId": "6b92ed12-eb08-4048-ffa7-be90423809e5",
        "colab": {
          "base_uri": "https://localhost:8080/",
          "height": 1000
        }
      },
      "source": [
        "position_tree_map = px.treemap(df, path=['My Network', 'Position', 'Company'], width=1000, height=1000)\n",
        "position_tree_map.show()"
      ],
      "execution_count": 0,
      "outputs": [
        {
          "output_type": "display_data",
          "data": {
            "text/html": [
              "<html>\n",
              "<head><meta charset=\"utf-8\" /></head>\n",
              "<body>\n",
              "    <div>\n",
              "            <script src=\"https://cdnjs.cloudflare.com/ajax/libs/mathjax/2.7.5/MathJax.js?config=TeX-AMS-MML_SVG\"></script><script type=\"text/javascript\">if (window.MathJax) {MathJax.Hub.Config({SVG: {font: \"STIX-Web\"}});}</script>\n",
              "                <script type=\"text/javascript\">window.PlotlyConfig = {MathJaxConfig: 'local'};</script>\n",
              "        <script src=\"https://cdn.plot.ly/plotly-latest.min.js\"></script>    \n",
              "            <div id=\"0569a9cf-a8da-4633-a22d-e9c4927b22f7\" class=\"plotly-graph-div\" style=\"height:1000px; width:1000px;\"></div>\n",
              "            <script type=\"text/javascript\">\n",
              "                \n",
              "                    window.PLOTLYENV=window.PLOTLYENV || {};\n",
              "                    \n",
              "                if (document.getElementById(\"0569a9cf-a8da-4633-a22d-e9c4927b22f7\")) {\n",
              "                    Plotly.newPlot(\n",
              "                        '0569a9cf-a8da-4633-a22d-e9c4927b22f7',\n",
              "                        [{\"branchvalues\": \"total\", \"domain\": {\"x\": [0.0, 1.0], \"y\": [0.0, 1.0]}, \"hoverlabel\": {\"namelength\": 0}, \"hovertemplate\": \"labels=%{label}<br>count=%{value}<br>parent=%{parent}<br>id=%{id}\", \"ids\": [\"My Network/Intern/AIR Worldwide\", \"My Network/Process Associate/AMAZON DEVELOPMENT CENTRE (INDIA) PRIVATE LIMITED\", \"My Network/Compiler Engineer/AMD\", \"My Network/Application Development Associate/Accenture\", \"My Network/Associate Software Engineer/Accenture\", \"My Network/Associate Application Developer/Accenture in India\", \"My Network/Senior Software Development Engineer/Accolite\", \"My Network/Software Developer lntern/Accolite\", \"My Network/Intern/Accolite \", \"My Network/Graduate Data Science Consultant/Accure AI Inc.\", \"My Network/Performance Media Buyer/Adsiduous Media\", \"My Network/Student/Aegis School of Business, Data Science & Telecommunication\", \"My Network/3D Support/Amazon\", \"My Network/Intern/Amazon\", \"My Network/SDE/Amazon\", \"My Network/SDE 2/Amazon\", \"My Network/Sr. Manager, Finance/Amazon\", \"My Network/software development engineer/Amazon\", \"My Network/Software Engineer/Apxor\", \"My Network/Consultant/Areteans\", \"My Network/Intern/Ashoka Builders & Developers - India\", \"My Network/Founder | Data Scientist/Avani.ai\", \"My Network/Microbiologist/BACTOLAC Formulations\", \"My Network/DevOps Engineer/BNY Mellon\", \"My Network/Apprentice/Bank of America\", \"My Network/Apprentice/ Senior Technical Associate/Bank of America\", \"My Network/Senior Tech Associate/ Apprentice/Bank of America\", \"My Network/Senior Data Scientist/Blu\", \"My Network/Co-Founder/BlueBell Educational Tours\", \"My Network/Sr. Java Developer/CMA Consulting\", \"My Network/Intern/Caliber Technologies Pvt Ltd\", \"My Network/Intern/Caravel.AI\", \"My Network/Intern/Cashapona Technologies Private Limited\", \"My Network/Consulting Engineer/Cisco\", \"My Network/Intern/Cisco\", \"My Network/Graduate Research Assistant/Clemson University\", \"My Network/Intern/Cognizant\", \"My Network/Programmer Analyst Trainee/Cognizant\", \"My Network/Programmer analyst/Cognizant\", \"My Network/Senior Consultant CRM/Cognizant\", \"My Network/Graduate Teaching Assistant/Colorado State University\", \"My Network/Assistant Vice President - Enterprise IT Engineering/Cotiviti\", \"My Network/Associate Software Engineer/Cotiviti\", \"My Network/Human Resources Generalist/Cotiviti\", \"My Network/Intern/Cotiviti\", \"My Network/Lead Business Analyst/ Product owner/Cotiviti\", \"My Network/Lead UX Designer/Cotiviti\", \"My Network/Product Owner/Cotiviti\", \"My Network/Project intern/Cotiviti\", \"My Network/Recruiter/Cotiviti\", \"My Network/SAFe Release Train Engineer and Agile Coach/Cotiviti\", \"My Network/Senior Quality Assurance Engineer/Cotiviti\", \"My Network/Software Developer/Cotiviti\", \"My Network/Sr. Lead Business Analyst/Cotiviti\", \"My Network/Technical Architect/Cotiviti\", \"My Network/Technical Lead/Cotiviti\", \"My Network/Technical Team Lead/Cotiviti\", \"My Network/Vice President, Human Resource/Cotiviti\", \"My Network/Senior Developer/Cotiviti Labs\", \"My Network/Intern/Defence Research and Development Laboratory (DRDL) - DRDO\", \"My Network/Intern/Defense Research and Development Laboratory - Ministry of Defense\", \"My Network/Scrum Master/Dell\", \"My Network/Intern/Deloitte Digital\", \"My Network/Business Technology Analyst/Deloitte India (Offices of the US)\", \"My Network/Senior Consultant/Deloitte India (Offices of the US)\", \"My Network/Senior Software Engineer/Delta Dental of Michigan\", \"My Network/Member/Developer Student Clubs\", \"My Network/Agile Project Manager/EPAM Systems\", \"My Network/Assurance Associate/EY\", \"My Network/Intern/EY\", \"My Network/Social media associate/EduRidge India\", \"My Network/Software Analyst/EnergyTech Global\", \"My Network/Business Development Manager/Entrench Electronics\", \"My Network/Assurance Associate/Ernst & Young\", \"My Network/FIX Certification Engineer/FactSet\", \"My Network/Intern/FactSet\", \"My Network/Civil Engineer/G K Builders\", \"My Network/Intern/Gemba Concepts\", \"My Network/Student/George Mason University\", \"My Network/Intern/GreyCampus\", \"My Network/CTO/Halya Agro Technologies Pvt Ltd\", \"My Network/India Organising Committee at Harvard US-India Initiative/Harvard US India Initiative\", \"My Network/Software Engineer/HashedIn\", \"My Network/Intern/Hoopy\", \"My Network/Intern/Host Analytics Inc\", \"My Network/Software Development Engineer/Host Analytics Inc\", \"My Network/Intern/IBI Group\", \"My Network/Senior Coordinator - Drona Event/IRIS 2020 - IIM Indore\", \"My Network/student/Inderprastha Engineering College\", \"My Network/Intern/Indian Institute of Space Science and Technology\", \"My Network/Research Student/Indian Institute of Technology, Roorkee\", \"My Network/SOC Analyst/Infopercept Consulting\", \"My Network/Associate Business Analyst/Infosys\", \"My Network/Senior System Engineer/Infosys\", \"My Network/System Engineer - SOC Analyst/Infosys\", \"My Network/Full Stack Developer/Inncircles Technologies Private Limited\", \"My Network/Full-stack Developer/Inncircles Technologies Private Limited\", \"My Network/Intern/Inncircles Technologies Private Limited\", \"My Network/Product Developer/Inncircles Technologies Private Limited\", \"My Network/Product developer intern/Inncircles Technologies Private Limited\", \"My Network/Data Scientist- Big Data and Analytics /Innominds\", \"My Network/Intern/Intel Corporation\", \"My Network/Leading Training Content Development (aka Teacher) /Internshala\", \"My Network/internshala/Internshala\", \"My Network/Trainee Software Engineer/Ivy Comptech\", \"My Network/Software Engineer/JPMorgan Chase & Co.\", \"My Network/Founder/Kingmaker world org.\", \"My Network/Sales Executive/Krisow\", \"My Network/ML Scientist/Layer 6 AI\", \"My Network/Manager IT Project Sales/LogisoftTechnologies Inc\", \"My Network/Artificial Intelligence Consultant/MTX Group Inc\", \"My Network/Data Scientist/Microsoft\", \"My Network/Mentee/Microsoft\", \"My Network/Software Engineer 2/Microsoft\", \"My Network/Mathematics Tutor/Mk academy\", \"My Network/Frontend Developer/Molecular Connections\", \"My Network/Intern/NCR Corporation\", \"My Network/Production Supervisor/NCR Corporation\", \"My Network/SW Engineer/NCR Corporation\", \"My Network/Software Engineer/NCR Corporation\", \"My Network/Software Engineer 1/NCR Corporation\", \"My Network/Studying/National Institute of Technology Raipur\", \"My Network/Intern/Navaratan Technologies\", \"My Network/Account Manager/Neo-Hire services\", \"My Network/Software Engineer/Netcracker Technology\", \"My Network/Management Trainee/Olam\", \"My Network/Intern/OpenText\", \"My Network/Software Engineer/OpenText\", \"My Network/Application Developer/Oracle\", \"My Network/Associate Performance Engineer/Oracle\", \"My Network/Intern/Oracle\", \"My Network/Project intern/Oracle\", \"My Network/Software Developer/Oracle\", \"My Network/project intern/Oracle\", \"My Network/Senior Software Engineer/Oracle India Pvt. Ltd\", \"My Network/Cloud DevOps Engineer/Oracle india pvt Ltd \", \"My Network/Intern/Oracle india pvt Ltd \", \"My Network/JavaScript Engineer/Paperpile\", \"My Network/Javascript Engineer/Paperpile\", \"My Network/Associate Software Engineer/Pegasystems\", \"My Network/Associate Solutions Engineer/Pegasystems\", \"My Network/Associate Technical Solutions Engineer/Pegasystems\", \"My Network/Software Engineer/Progress\", \"My Network/Customer Service Executive/Q-connect\", \"My Network/Associate IT Engineer/Qualcomm\", \"My Network/Associate System Analyst/Qualcomm\", \"My Network/Programmer Analyst/Qualcomm\", \"My Network/Intern/RailTel Corporation of India Ltd\", \"My Network/Technical Apprentice/Research Centre Imarat (RCI), A Part Of Drdo\", \"My Network/Business Operations Associate/SS&C Technologies\", \"My Network/Sales And Service Specialist/SVKM's Narsee Monjee Institute of Management Studies (NMIMS)\", \"My Network/Marketing Manager/SWAYAM\", \"My Network/Head of Event Management/SWAYAM ED-CELL,VCE\", \"My Network/Volunteer/Sahaya Society\", \"My Network/Associate success agent/Salesforce\", \"My Network/Product Support Engineer/Salesforce\", \"My Network/associate success agent/Salesforce\", \"My Network/Program Manager/Script Foundation\", \"My Network/Student/Self-employed\", \"My Network/Associate DevOps Engineer/ServiceNow\", \"My Network/Associate Software Engineer/ServiceNow\", \"My Network/Developer/ServiceNow\", \"My Network/Intern/Silicon Labs\", \"My Network/Software Engineer/Smartbridge\", \"My Network/Marketing Trainee/SocioHub\", \"My Network/Operations and Customer Relations Supervisor/Sri Radhika Tubes\", \"My Network/Intern/Streamline CPQ\", \"My Network/Columnist/Swarajya\", \"My Network/Software Engineer/TEKsystems\", \"My Network/Business Analyst II/TSYS\", \"My Network/Assistant System Engineer/Tata Consultancy Services\", \"My Network/Associate Consultant/Tata Consultancy Services\", \"My Network/Assosiate PEGA developer/Tata Consultancy Services\", \"My Network/Intern/Tata Consultancy Services\", \"My Network/Software Engineer/Tata Consultancy Services\", \"My Network/Technical Team Lead/Tata Consultancy Services - Bank of America\", \"My Network/Student Consultant/Temple University\", \"My Network/Staff Cloud DevOps Engineer/Teradata\", \"My Network/community curator/Terribly Tiny Tales\", \"My Network/Graduate Engineering Trainee/Thalia Labh Group\", \"My Network/Founder and CEO/The Trade Guru\", \"My Network/Software Developer II/Tower Research Capital\", \"My Network/Student and a trainee/Trainee at TalentSprint WE program\", \"My Network/Software Engineer/Turvo Inc.\", \"My Network/Intern/Unicorn Industries Company\", \"My Network/Software Engineer/UnitedHealth Group\", \"My Network/Software Engineer/University of Florida\", \"My Network/Graduate Teaching Assistant/University of Houston-Clear Lake\", \"My Network/Teaching Assistant/University of North Texas\", \"My Network/Professor/Vaasvi College of Engineering\", \"My Network/ETL Developer/ValueLabs\", \"My Network/Bachelor of Engineering /Vasavi College of Engg\", \"My Network/Student/Vasavi College of Engg\", \"My Network/Assistant Professor - Dept of ECE/Vasavi College of Engineering\", \"My Network/Asst.Professor/Vasavi College of Engineering\", \"My Network/Professor Assistant/Vasavi College of Engineering\", \"My Network/Project Engineer/Virtual Labs\", \"My Network/Intern/Voltas Limited - A TATA Enterprise\", \"My Network/Intern/WOIR Software India Pvt. Ltd.\", \"My Network/Intern/WOMENforINDIA\", \"My Network/Supervising Travel Demand Modeler/WSP USA\", \"My Network/Lead Consultant/Wipro Limited\", \"My Network/Senior Software Engineer/Zaloni\", \"My Network/Intern/ZestIOT - IOT/AI powered aviation platform\", \"My Network/Project Business Analyst & Management Head/www.call2ask.com\", \"My Network/3D Support\", \"My Network/Account Manager\", \"My Network/Agile Project Manager\", \"My Network/Application Developer\", \"My Network/Application Development Associate\", \"My Network/Apprentice\", \"My Network/Apprentice/ Senior Technical Associate\", \"My Network/Artificial Intelligence Consultant\", \"My Network/Assistant Professor - Dept of ECE\", \"My Network/Assistant System Engineer\", \"My Network/Assistant Vice President - Enterprise IT Engineering\", \"My Network/Associate Application Developer\", \"My Network/Associate Business Analyst\", \"My Network/Associate Consultant\", \"My Network/Associate DevOps Engineer\", \"My Network/Associate IT Engineer\", \"My Network/Associate Performance Engineer\", \"My Network/Associate Software Engineer\", \"My Network/Associate Solutions Engineer\", \"My Network/Associate System Analyst\", \"My Network/Associate Technical Solutions Engineer\", \"My Network/Associate success agent\", \"My Network/Assosiate PEGA developer\", \"My Network/Asst.Professor\", \"My Network/Assurance Associate\", \"My Network/Bachelor of Engineering \", \"My Network/Business Analyst II\", \"My Network/Business Development Manager\", \"My Network/Business Operations Associate\", \"My Network/Business Technology Analyst\", \"My Network/CTO\", \"My Network/Civil Engineer\", \"My Network/Cloud DevOps Engineer\", \"My Network/Co-Founder\", \"My Network/Columnist\", \"My Network/Compiler Engineer\", \"My Network/Consultant\", \"My Network/Consulting Engineer\", \"My Network/Customer Service Executive\", \"My Network/Data Scientist\", \"My Network/Data Scientist- Big Data and Analytics \", \"My Network/DevOps Engineer\", \"My Network/Developer\", \"My Network/ETL Developer\", \"My Network/FIX Certification Engineer\", \"My Network/Founder\", \"My Network/Founder and CEO\", \"My Network/Founder | Data Scientist\", \"My Network/Frontend Developer\", \"My Network/Full Stack Developer\", \"My Network/Full-stack Developer\", \"My Network/Graduate Data Science Consultant\", \"My Network/Graduate Engineering Trainee\", \"My Network/Graduate Research Assistant\", \"My Network/Graduate Teaching Assistant\", \"My Network/Head of Event Management\", \"My Network/Human Resources Generalist\", \"My Network/India Organising Committee at Harvard US-India Initiative\", \"My Network/Intern\", \"My Network/JavaScript Engineer\", \"My Network/Javascript Engineer\", \"My Network/Lead Business Analyst/ Product owner\", \"My Network/Lead Consultant\", \"My Network/Lead UX Designer\", \"My Network/Leading Training Content Development (aka Teacher) \", \"My Network/ML Scientist\", \"My Network/Management Trainee\", \"My Network/Manager IT Project Sales\", \"My Network/Marketing Manager\", \"My Network/Marketing Trainee\", \"My Network/Mathematics Tutor\", \"My Network/Member\", \"My Network/Mentee\", \"My Network/Microbiologist\", \"My Network/Operations and Customer Relations Supervisor\", \"My Network/Performance Media Buyer\", \"My Network/Process Associate\", \"My Network/Product Developer\", \"My Network/Product Owner\", \"My Network/Product Support Engineer\", \"My Network/Product developer intern\", \"My Network/Production Supervisor\", \"My Network/Professor\", \"My Network/Professor Assistant\", \"My Network/Program Manager\", \"My Network/Programmer Analyst\", \"My Network/Programmer Analyst Trainee\", \"My Network/Programmer analyst\", \"My Network/Project Business Analyst & Management Head\", \"My Network/Project Engineer\", \"My Network/Project intern\", \"My Network/Recruiter\", \"My Network/Research Student\", \"My Network/SAFe Release Train Engineer and Agile Coach\", \"My Network/SDE\", \"My Network/SDE 2\", \"My Network/SOC Analyst\", \"My Network/SW Engineer\", \"My Network/Sales And Service Specialist\", \"My Network/Sales Executive\", \"My Network/Scrum Master\", \"My Network/Senior Consultant\", \"My Network/Senior Consultant CRM\", \"My Network/Senior Coordinator - Drona Event\", \"My Network/Senior Data Scientist\", \"My Network/Senior Developer\", \"My Network/Senior Quality Assurance Engineer\", \"My Network/Senior Software Development Engineer\", \"My Network/Senior Software Engineer\", \"My Network/Senior System Engineer\", \"My Network/Senior Tech Associate/ Apprentice\", \"My Network/Social media associate\", \"My Network/Software Analyst\", \"My Network/Software Developer\", \"My Network/Software Developer II\", \"My Network/Software Developer lntern\", \"My Network/Software Development Engineer\", \"My Network/Software Engineer\", \"My Network/Software Engineer 1\", \"My Network/Software Engineer 2\", \"My Network/Sr. Java Developer\", \"My Network/Sr. Lead Business Analyst\", \"My Network/Sr. Manager, Finance\", \"My Network/Staff Cloud DevOps Engineer\", \"My Network/Student\", \"My Network/Student Consultant\", \"My Network/Student and a trainee\", \"My Network/Studying\", \"My Network/Supervising Travel Demand Modeler\", \"My Network/System Engineer - SOC Analyst\", \"My Network/Teaching Assistant\", \"My Network/Technical Apprentice\", \"My Network/Technical Architect\", \"My Network/Technical Lead\", \"My Network/Technical Team Lead\", \"My Network/Trainee Software Engineer\", \"My Network/Vice President, Human Resource\", \"My Network/Volunteer\", \"My Network/associate success agent\", \"My Network/community curator\", \"My Network/internshala\", \"My Network/project intern\", \"My Network/software development engineer\", \"My Network/student\", \"My Network\"], \"labels\": [\"AIR Worldwide\", \"AMAZON DEVELOPMENT CENTRE (INDIA) PRIVATE LIMITED\", \"AMD\", \"Accenture\", \"Accenture\", \"Accenture in India\", \"Accolite\", \"Accolite\", \"Accolite \", \"Accure AI Inc.\", \"Adsiduous Media\", \"Aegis School of Business, Data Science & Telecommunication\", \"Amazon\", \"Amazon\", \"Amazon\", \"Amazon\", \"Amazon\", \"Amazon\", \"Apxor\", \"Areteans\", \"Ashoka Builders & Developers - India\", \"Avani.ai\", \"BACTOLAC Formulations\", \"BNY Mellon\", \"Bank of America\", \"Bank of America\", \"Bank of America\", \"Blu\", \"BlueBell Educational Tours\", \"CMA Consulting\", \"Caliber Technologies Pvt Ltd\", \"Caravel.AI\", \"Cashapona Technologies Private Limited\", \"Cisco\", \"Cisco\", \"Clemson University\", \"Cognizant\", \"Cognizant\", \"Cognizant\", \"Cognizant\", \"Colorado State University\", \"Cotiviti\", \"Cotiviti\", \"Cotiviti\", \"Cotiviti\", \"Cotiviti\", \"Cotiviti\", \"Cotiviti\", \"Cotiviti\", \"Cotiviti\", \"Cotiviti\", \"Cotiviti\", \"Cotiviti\", \"Cotiviti\", \"Cotiviti\", \"Cotiviti\", \"Cotiviti\", \"Cotiviti\", \"Cotiviti Labs\", \"Defence Research and Development Laboratory (DRDL) - DRDO\", \"Defense Research and Development Laboratory - Ministry of Defense\", \"Dell\", \"Deloitte Digital\", \"Deloitte India (Offices of the US)\", \"Deloitte India (Offices of the US)\", \"Delta Dental of Michigan\", \"Developer Student Clubs\", \"EPAM Systems\", \"EY\", \"EY\", \"EduRidge India\", \"EnergyTech Global\", \"Entrench Electronics\", \"Ernst & Young\", \"FactSet\", \"FactSet\", \"G K Builders\", \"Gemba Concepts\", \"George Mason University\", \"GreyCampus\", \"Halya Agro Technologies Pvt Ltd\", \"Harvard US India Initiative\", \"HashedIn\", \"Hoopy\", \"Host Analytics Inc\", \"Host Analytics Inc\", \"IBI Group\", \"IRIS 2020 - IIM Indore\", \"Inderprastha Engineering College\", \"Indian Institute of Space Science and Technology\", \"Indian Institute of Technology, Roorkee\", \"Infopercept Consulting\", \"Infosys\", \"Infosys\", \"Infosys\", \"Inncircles Technologies Private Limited\", \"Inncircles Technologies Private Limited\", \"Inncircles Technologies Private Limited\", \"Inncircles Technologies Private Limited\", \"Inncircles Technologies Private Limited\", \"Innominds\", \"Intel Corporation\", \"Internshala\", \"Internshala\", \"Ivy Comptech\", \"JPMorgan Chase & Co.\", \"Kingmaker world org.\", \"Krisow\", \"Layer 6 AI\", \"LogisoftTechnologies Inc\", \"MTX Group Inc\", \"Microsoft\", \"Microsoft\", \"Microsoft\", \"Mk academy\", \"Molecular Connections\", \"NCR Corporation\", \"NCR Corporation\", \"NCR Corporation\", \"NCR Corporation\", \"NCR Corporation\", \"National Institute of Technology Raipur\", \"Navaratan Technologies\", \"Neo-Hire services\", \"Netcracker Technology\", \"Olam\", \"OpenText\", \"OpenText\", \"Oracle\", \"Oracle\", \"Oracle\", \"Oracle\", \"Oracle\", \"Oracle\", \"Oracle India Pvt. Ltd\", \"Oracle india pvt Ltd \", \"Oracle india pvt Ltd \", \"Paperpile\", \"Paperpile\", \"Pegasystems\", \"Pegasystems\", \"Pegasystems\", \"Progress\", \"Q-connect\", \"Qualcomm\", \"Qualcomm\", \"Qualcomm\", \"RailTel Corporation of India Ltd\", \"Research Centre Imarat (RCI), A Part Of Drdo\", \"SS&C Technologies\", \"SVKM's Narsee Monjee Institute of Management Studies (NMIMS)\", \"SWAYAM\", \"SWAYAM ED-CELL,VCE\", \"Sahaya Society\", \"Salesforce\", \"Salesforce\", \"Salesforce\", \"Script Foundation\", \"Self-employed\", \"ServiceNow\", \"ServiceNow\", \"ServiceNow\", \"Silicon Labs\", \"Smartbridge\", \"SocioHub\", \"Sri Radhika Tubes\", \"Streamline CPQ\", \"Swarajya\", \"TEKsystems\", \"TSYS\", \"Tata Consultancy Services\", \"Tata Consultancy Services\", \"Tata Consultancy Services\", \"Tata Consultancy Services\", \"Tata Consultancy Services\", \"Tata Consultancy Services - Bank of America\", \"Temple University\", \"Teradata\", \"Terribly Tiny Tales\", \"Thalia Labh Group\", \"The Trade Guru\", \"Tower Research Capital\", \"Trainee at TalentSprint WE program\", \"Turvo Inc.\", \"Unicorn Industries Company\", \"UnitedHealth Group\", \"University of Florida\", \"University of Houston-Clear Lake\", \"University of North Texas\", \"Vaasvi College of Engineering\", \"ValueLabs\", \"Vasavi College of Engg\", \"Vasavi College of Engg\", \"Vasavi College of Engineering\", \"Vasavi College of Engineering\", \"Vasavi College of Engineering\", \"Virtual Labs\", \"Voltas Limited - A TATA Enterprise\", \"WOIR Software India Pvt. Ltd.\", \"WOMENforINDIA\", \"WSP USA\", \"Wipro Limited\", \"Zaloni\", \"ZestIOT - IOT/AI powered aviation platform\", \"www.call2ask.com\", \"3D Support\", \"Account Manager\", \"Agile Project Manager\", \"Application Developer\", \"Application Development Associate\", \"Apprentice\", \"Apprentice/ Senior Technical Associate\", \"Artificial Intelligence Consultant\", \"Assistant Professor - Dept of ECE\", \"Assistant System Engineer\", \"Assistant Vice President - Enterprise IT Engineering\", \"Associate Application Developer\", \"Associate Business Analyst\", \"Associate Consultant\", \"Associate DevOps Engineer\", \"Associate IT Engineer\", \"Associate Performance Engineer\", \"Associate Software Engineer\", \"Associate Solutions Engineer\", \"Associate System Analyst\", \"Associate Technical Solutions Engineer\", \"Associate success agent\", \"Assosiate PEGA developer\", \"Asst.Professor\", \"Assurance Associate\", \"Bachelor of Engineering \", \"Business Analyst II\", \"Business Development Manager\", \"Business Operations Associate\", \"Business Technology Analyst\", \"CTO\", \"Civil Engineer\", \"Cloud DevOps Engineer\", \"Co-Founder\", \"Columnist\", \"Compiler Engineer\", \"Consultant\", \"Consulting Engineer\", \"Customer Service Executive\", \"Data Scientist\", \"Data Scientist- Big Data and Analytics \", \"DevOps Engineer\", \"Developer\", \"ETL Developer\", \"FIX Certification Engineer\", \"Founder\", \"Founder and CEO\", \"Founder | Data Scientist\", \"Frontend Developer\", \"Full Stack Developer\", \"Full-stack Developer\", \"Graduate Data Science Consultant\", \"Graduate Engineering Trainee\", \"Graduate Research Assistant\", \"Graduate Teaching Assistant\", \"Head of Event Management\", \"Human Resources Generalist\", \"India Organising Committee at Harvard US-India Initiative\", \"Intern\", \"JavaScript Engineer\", \"Javascript Engineer\", \"Lead Business Analyst/ Product owner\", \"Lead Consultant\", \"Lead UX Designer\", \"Leading Training Content Development (aka Teacher) \", \"ML Scientist\", \"Management Trainee\", \"Manager IT Project Sales\", \"Marketing Manager\", \"Marketing Trainee\", \"Mathematics Tutor\", \"Member\", \"Mentee\", \"Microbiologist\", \"Operations and Customer Relations Supervisor\", \"Performance Media Buyer\", \"Process Associate\", \"Product Developer\", \"Product Owner\", \"Product Support Engineer\", \"Product developer intern\", \"Production Supervisor\", \"Professor\", \"Professor Assistant\", \"Program Manager\", \"Programmer Analyst\", \"Programmer Analyst Trainee\", \"Programmer analyst\", \"Project Business Analyst & Management Head\", \"Project Engineer\", \"Project intern\", \"Recruiter\", \"Research Student\", \"SAFe Release Train Engineer and Agile Coach\", \"SDE\", \"SDE 2\", \"SOC Analyst\", \"SW Engineer\", \"Sales And Service Specialist\", \"Sales Executive\", \"Scrum Master\", \"Senior Consultant\", \"Senior Consultant CRM\", \"Senior Coordinator - Drona Event\", \"Senior Data Scientist\", \"Senior Developer\", \"Senior Quality Assurance Engineer\", \"Senior Software Development Engineer\", \"Senior Software Engineer\", \"Senior System Engineer\", \"Senior Tech Associate/ Apprentice\", \"Social media associate\", \"Software Analyst\", \"Software Developer\", \"Software Developer II\", \"Software Developer lntern\", \"Software Development Engineer\", \"Software Engineer\", \"Software Engineer 1\", \"Software Engineer 2\", \"Sr. Java Developer\", \"Sr. Lead Business Analyst\", \"Sr. Manager, Finance\", \"Staff Cloud DevOps Engineer\", \"Student\", \"Student Consultant\", \"Student and a trainee\", \"Studying\", \"Supervising Travel Demand Modeler\", \"System Engineer - SOC Analyst\", \"Teaching Assistant\", \"Technical Apprentice\", \"Technical Architect\", \"Technical Lead\", \"Technical Team Lead\", \"Trainee Software Engineer\", \"Vice President, Human Resource\", \"Volunteer\", \"associate success agent\", \"community curator\", \"internshala\", \"project intern\", \"software development engineer\", \"student\", \"My Network\"], \"name\": \"\", \"parents\": [\"My Network/Intern\", \"My Network/Process Associate\", \"My Network/Compiler Engineer\", \"My Network/Application Development Associate\", \"My Network/Associate Software Engineer\", \"My Network/Associate Application Developer\", \"My Network/Senior Software Development Engineer\", \"My Network/Software Developer lntern\", \"My Network/Intern\", \"My Network/Graduate Data Science Consultant\", \"My Network/Performance Media Buyer\", \"My Network/Student\", \"My Network/3D Support\", \"My Network/Intern\", \"My Network/SDE\", \"My Network/SDE 2\", \"My Network/Sr. Manager, Finance\", \"My Network/software development engineer\", \"My Network/Software Engineer\", \"My Network/Consultant\", \"My Network/Intern\", \"My Network/Founder | Data Scientist\", \"My Network/Microbiologist\", \"My Network/DevOps Engineer\", \"My Network/Apprentice\", \"My Network/Apprentice/ Senior Technical Associate\", \"My Network/Senior Tech Associate/ Apprentice\", \"My Network/Senior Data Scientist\", \"My Network/Co-Founder\", \"My Network/Sr. Java Developer\", \"My Network/Intern\", \"My Network/Intern\", \"My Network/Intern\", \"My Network/Consulting Engineer\", \"My Network/Intern\", \"My Network/Graduate Research Assistant\", \"My Network/Intern\", \"My Network/Programmer Analyst Trainee\", \"My Network/Programmer analyst\", \"My Network/Senior Consultant CRM\", \"My Network/Graduate Teaching Assistant\", \"My Network/Assistant Vice President - Enterprise IT Engineering\", \"My Network/Associate Software Engineer\", \"My Network/Human Resources Generalist\", \"My Network/Intern\", \"My Network/Lead Business Analyst/ Product owner\", \"My Network/Lead UX Designer\", \"My Network/Product Owner\", \"My Network/Project intern\", \"My Network/Recruiter\", \"My Network/SAFe Release Train Engineer and Agile Coach\", \"My Network/Senior Quality Assurance Engineer\", \"My Network/Software Developer\", \"My Network/Sr. Lead Business Analyst\", \"My Network/Technical Architect\", \"My Network/Technical Lead\", \"My Network/Technical Team Lead\", \"My Network/Vice President, Human Resource\", \"My Network/Senior Developer\", \"My Network/Intern\", \"My Network/Intern\", \"My Network/Scrum Master\", \"My Network/Intern\", \"My Network/Business Technology Analyst\", \"My Network/Senior Consultant\", \"My Network/Senior Software Engineer\", \"My Network/Member\", \"My Network/Agile Project Manager\", \"My Network/Assurance Associate\", \"My Network/Intern\", \"My Network/Social media associate\", \"My Network/Software Analyst\", \"My Network/Business Development Manager\", \"My Network/Assurance Associate\", \"My Network/FIX Certification Engineer\", \"My Network/Intern\", \"My Network/Civil Engineer\", \"My Network/Intern\", \"My Network/Student\", \"My Network/Intern\", \"My Network/CTO\", \"My Network/India Organising Committee at Harvard US-India Initiative\", \"My Network/Software Engineer\", \"My Network/Intern\", \"My Network/Intern\", \"My Network/Software Development Engineer\", \"My Network/Intern\", \"My Network/Senior Coordinator - Drona Event\", \"My Network/student\", \"My Network/Intern\", \"My Network/Research Student\", \"My Network/SOC Analyst\", \"My Network/Associate Business Analyst\", \"My Network/Senior System Engineer\", \"My Network/System Engineer - SOC Analyst\", \"My Network/Full Stack Developer\", \"My Network/Full-stack Developer\", \"My Network/Intern\", \"My Network/Product Developer\", \"My Network/Product developer intern\", \"My Network/Data Scientist- Big Data and Analytics \", \"My Network/Intern\", \"My Network/Leading Training Content Development (aka Teacher) \", \"My Network/internshala\", \"My Network/Trainee Software Engineer\", \"My Network/Software Engineer\", \"My Network/Founder\", \"My Network/Sales Executive\", \"My Network/ML Scientist\", \"My Network/Manager IT Project Sales\", \"My Network/Artificial Intelligence Consultant\", \"My Network/Data Scientist\", \"My Network/Mentee\", \"My Network/Software Engineer 2\", \"My Network/Mathematics Tutor\", \"My Network/Frontend Developer\", \"My Network/Intern\", \"My Network/Production Supervisor\", \"My Network/SW Engineer\", \"My Network/Software Engineer\", \"My Network/Software Engineer 1\", \"My Network/Studying\", \"My Network/Intern\", \"My Network/Account Manager\", \"My Network/Software Engineer\", \"My Network/Management Trainee\", \"My Network/Intern\", \"My Network/Software Engineer\", \"My Network/Application Developer\", \"My Network/Associate Performance Engineer\", \"My Network/Intern\", \"My Network/Project intern\", \"My Network/Software Developer\", \"My Network/project intern\", \"My Network/Senior Software Engineer\", \"My Network/Cloud DevOps Engineer\", \"My Network/Intern\", \"My Network/JavaScript Engineer\", \"My Network/Javascript Engineer\", \"My Network/Associate Software Engineer\", \"My Network/Associate Solutions Engineer\", \"My Network/Associate Technical Solutions Engineer\", \"My Network/Software Engineer\", \"My Network/Customer Service Executive\", \"My Network/Associate IT Engineer\", \"My Network/Associate System Analyst\", \"My Network/Programmer Analyst\", \"My Network/Intern\", \"My Network/Technical Apprentice\", \"My Network/Business Operations Associate\", \"My Network/Sales And Service Specialist\", \"My Network/Marketing Manager\", \"My Network/Head of Event Management\", \"My Network/Volunteer\", \"My Network/Associate success agent\", \"My Network/Product Support Engineer\", \"My Network/associate success agent\", \"My Network/Program Manager\", \"My Network/Student\", \"My Network/Associate DevOps Engineer\", \"My Network/Associate Software Engineer\", \"My Network/Developer\", \"My Network/Intern\", \"My Network/Software Engineer\", \"My Network/Marketing Trainee\", \"My Network/Operations and Customer Relations Supervisor\", \"My Network/Intern\", \"My Network/Columnist\", \"My Network/Software Engineer\", \"My Network/Business Analyst II\", \"My Network/Assistant System Engineer\", \"My Network/Associate Consultant\", \"My Network/Assosiate PEGA developer\", \"My Network/Intern\", \"My Network/Software Engineer\", \"My Network/Technical Team Lead\", \"My Network/Student Consultant\", \"My Network/Staff Cloud DevOps Engineer\", \"My Network/community curator\", \"My Network/Graduate Engineering Trainee\", \"My Network/Founder and CEO\", \"My Network/Software Developer II\", \"My Network/Student and a trainee\", \"My Network/Software Engineer\", \"My Network/Intern\", \"My Network/Software Engineer\", \"My Network/Software Engineer\", \"My Network/Graduate Teaching Assistant\", \"My Network/Teaching Assistant\", \"My Network/Professor\", \"My Network/ETL Developer\", \"My Network/Bachelor of Engineering \", \"My Network/Student\", \"My Network/Assistant Professor - Dept of ECE\", \"My Network/Asst.Professor\", \"My Network/Professor Assistant\", \"My Network/Project Engineer\", \"My Network/Intern\", \"My Network/Intern\", \"My Network/Intern\", \"My Network/Supervising Travel Demand Modeler\", \"My Network/Lead Consultant\", \"My Network/Senior Software Engineer\", \"My Network/Intern\", \"My Network/Project Business Analyst & Management Head\", \"My Network\", \"My Network\", \"My Network\", \"My Network\", \"My Network\", \"My Network\", \"My Network\", \"My Network\", \"My Network\", \"My Network\", \"My Network\", \"My Network\", \"My Network\", \"My Network\", \"My Network\", \"My Network\", \"My Network\", \"My Network\", \"My Network\", \"My Network\", \"My Network\", \"My Network\", \"My Network\", \"My Network\", \"My Network\", \"My Network\", \"My Network\", \"My Network\", \"My Network\", \"My Network\", \"My Network\", \"My Network\", \"My Network\", \"My Network\", \"My Network\", \"My Network\", \"My Network\", \"My Network\", \"My Network\", \"My Network\", \"My Network\", \"My Network\", \"My Network\", \"My Network\", \"My Network\", \"My Network\", \"My Network\", \"My Network\", \"My Network\", \"My Network\", \"My Network\", \"My Network\", \"My Network\", \"My Network\", \"My Network\", \"My Network\", \"My Network\", \"My Network\", \"My Network\", \"My Network\", \"My Network\", \"My Network\", \"My Network\", \"My Network\", \"My Network\", \"My Network\", \"My Network\", \"My Network\", \"My Network\", \"My Network\", \"My Network\", \"My Network\", \"My Network\", \"My Network\", \"My Network\", \"My Network\", \"My Network\", \"My Network\", \"My Network\", \"My Network\", \"My Network\", \"My Network\", \"My Network\", \"My Network\", \"My Network\", \"My Network\", \"My Network\", \"My Network\", \"My Network\", \"My Network\", \"My Network\", \"My Network\", \"My Network\", \"My Network\", \"My Network\", \"My Network\", \"My Network\", \"My Network\", \"My Network\", \"My Network\", \"My Network\", \"My Network\", \"My Network\", \"My Network\", \"My Network\", \"My Network\", \"My Network\", \"My Network\", \"My Network\", \"My Network\", \"My Network\", \"My Network\", \"My Network\", \"My Network\", \"My Network\", \"My Network\", \"My Network\", \"My Network\", \"My Network\", \"My Network\", \"My Network\", \"My Network\", \"My Network\", \"My Network\", \"My Network\", \"My Network\", \"My Network\", \"My Network\", \"My Network\", \"My Network\", \"My Network\", \"My Network\", \"My Network\", \"My Network\", \"My Network\", \"My Network\", \"My Network\", \"My Network\", \"My Network\", \"My Network\", \"My Network\", \"My Network\", \"My Network\", \"My Network\", \"\"], \"type\": \"treemap\", \"values\": [2, 1, 1, 1, 1, 1, 1, 1, 1, 1, 1, 1, 1, 2, 2, 1, 1, 1, 1, 1, 1, 1, 1, 1, 1, 1, 1, 1, 1, 1, 1, 1, 1, 1, 3, 1, 1, 1, 1, 1, 1, 1, 1, 1, 3, 1, 1, 1, 1, 1, 1, 1, 1, 1, 1, 2, 1, 1, 1, 1, 1, 1, 1, 6, 1, 1, 1, 1, 2, 1, 1, 1, 1, 1, 1, 1, 1, 1, 1, 1, 1, 1, 1, 1, 1, 1, 1, 1, 1, 1, 1, 1, 2, 1, 1, 1, 1, 1, 1, 1, 1, 1, 1, 1, 1, 1, 1, 1, 1, 1, 1, 1, 1, 1, 1, 1, 9, 1, 1, 2, 1, 1, 2, 1, 1, 1, 1, 1, 2, 1, 11, 1, 1, 1, 1, 1, 1, 1, 1, 2, 1, 1, 1, 1, 1, 2, 1, 1, 1, 1, 1, 1, 1, 1, 1, 1, 1, 1, 1, 1, 4, 1, 1, 1, 1, 1, 1, 1, 1, 1, 1, 1, 1, 2, 1, 1, 1, 1, 1, 1, 1, 1, 1, 1, 1, 1, 1, 1, 1, 1, 1, 1, 1, 1, 1, 1, 1, 1, 1, 1, 1, 1, 1, 1, 1, 1, 1, 1, 2, 1, 1, 1, 1, 1, 1, 1, 1, 2, 1, 1, 1, 1, 8, 1, 2, 1, 1, 1, 1, 3, 1, 1, 1, 1, 6, 1, 1, 1, 1, 1, 1, 1, 1, 1, 1, 1, 1, 1, 1, 1, 1, 1, 1, 1, 1, 1, 1, 1, 1, 2, 1, 1, 1, 63, 1, 1, 1, 1, 1, 1, 1, 1, 1, 1, 1, 1, 1, 1, 1, 1, 1, 1, 1, 1, 1, 1, 1, 1, 1, 1, 1, 1, 1, 1, 1, 2, 1, 1, 1, 2, 1, 1, 1, 1, 1, 1, 1, 1, 1, 1, 1, 1, 1, 3, 1, 1, 1, 1, 2, 1, 1, 1, 14, 1, 1, 1, 1, 1, 1, 4, 1, 1, 1, 1, 1, 1, 1, 1, 2, 2, 1, 1, 1, 1, 1, 1, 1, 1, 1, 247]}],\n",
              "                        {\"height\": 1000, \"legend\": {\"tracegroupgap\": 0}, \"margin\": {\"t\": 60}, \"template\": {\"data\": {\"bar\": [{\"error_x\": {\"color\": \"#2a3f5f\"}, \"error_y\": {\"color\": \"#2a3f5f\"}, \"marker\": {\"line\": {\"color\": \"#E5ECF6\", \"width\": 0.5}}, \"type\": \"bar\"}], \"barpolar\": [{\"marker\": {\"line\": {\"color\": \"#E5ECF6\", \"width\": 0.5}}, \"type\": \"barpolar\"}], \"carpet\": [{\"aaxis\": {\"endlinecolor\": \"#2a3f5f\", \"gridcolor\": \"white\", \"linecolor\": \"white\", \"minorgridcolor\": \"white\", \"startlinecolor\": \"#2a3f5f\"}, \"baxis\": {\"endlinecolor\": \"#2a3f5f\", \"gridcolor\": \"white\", \"linecolor\": \"white\", \"minorgridcolor\": \"white\", \"startlinecolor\": \"#2a3f5f\"}, \"type\": \"carpet\"}], \"choropleth\": [{\"colorbar\": {\"outlinewidth\": 0, \"ticks\": \"\"}, \"type\": \"choropleth\"}], \"contour\": [{\"colorbar\": {\"outlinewidth\": 0, \"ticks\": \"\"}, \"colorscale\": [[0.0, \"#0d0887\"], [0.1111111111111111, \"#46039f\"], [0.2222222222222222, \"#7201a8\"], [0.3333333333333333, \"#9c179e\"], [0.4444444444444444, \"#bd3786\"], [0.5555555555555556, \"#d8576b\"], [0.6666666666666666, \"#ed7953\"], [0.7777777777777778, \"#fb9f3a\"], [0.8888888888888888, \"#fdca26\"], [1.0, \"#f0f921\"]], \"type\": \"contour\"}], \"contourcarpet\": [{\"colorbar\": {\"outlinewidth\": 0, \"ticks\": \"\"}, \"type\": \"contourcarpet\"}], \"heatmap\": [{\"colorbar\": {\"outlinewidth\": 0, \"ticks\": \"\"}, \"colorscale\": [[0.0, \"#0d0887\"], [0.1111111111111111, \"#46039f\"], [0.2222222222222222, \"#7201a8\"], [0.3333333333333333, \"#9c179e\"], [0.4444444444444444, \"#bd3786\"], [0.5555555555555556, \"#d8576b\"], [0.6666666666666666, \"#ed7953\"], [0.7777777777777778, \"#fb9f3a\"], [0.8888888888888888, \"#fdca26\"], [1.0, \"#f0f921\"]], \"type\": \"heatmap\"}], \"heatmapgl\": [{\"colorbar\": {\"outlinewidth\": 0, \"ticks\": \"\"}, \"colorscale\": [[0.0, \"#0d0887\"], [0.1111111111111111, \"#46039f\"], [0.2222222222222222, \"#7201a8\"], [0.3333333333333333, \"#9c179e\"], [0.4444444444444444, \"#bd3786\"], [0.5555555555555556, \"#d8576b\"], [0.6666666666666666, \"#ed7953\"], [0.7777777777777778, \"#fb9f3a\"], [0.8888888888888888, \"#fdca26\"], [1.0, \"#f0f921\"]], \"type\": \"heatmapgl\"}], \"histogram\": [{\"marker\": {\"colorbar\": {\"outlinewidth\": 0, \"ticks\": \"\"}}, \"type\": \"histogram\"}], \"histogram2d\": [{\"colorbar\": {\"outlinewidth\": 0, \"ticks\": \"\"}, \"colorscale\": [[0.0, \"#0d0887\"], [0.1111111111111111, \"#46039f\"], [0.2222222222222222, \"#7201a8\"], [0.3333333333333333, \"#9c179e\"], [0.4444444444444444, \"#bd3786\"], [0.5555555555555556, \"#d8576b\"], [0.6666666666666666, \"#ed7953\"], [0.7777777777777778, \"#fb9f3a\"], [0.8888888888888888, \"#fdca26\"], [1.0, \"#f0f921\"]], \"type\": \"histogram2d\"}], \"histogram2dcontour\": [{\"colorbar\": {\"outlinewidth\": 0, \"ticks\": \"\"}, \"colorscale\": [[0.0, \"#0d0887\"], [0.1111111111111111, \"#46039f\"], [0.2222222222222222, \"#7201a8\"], [0.3333333333333333, \"#9c179e\"], [0.4444444444444444, \"#bd3786\"], [0.5555555555555556, \"#d8576b\"], [0.6666666666666666, \"#ed7953\"], [0.7777777777777778, \"#fb9f3a\"], [0.8888888888888888, \"#fdca26\"], [1.0, \"#f0f921\"]], \"type\": \"histogram2dcontour\"}], \"mesh3d\": [{\"colorbar\": {\"outlinewidth\": 0, \"ticks\": \"\"}, \"type\": \"mesh3d\"}], \"parcoords\": [{\"line\": {\"colorbar\": {\"outlinewidth\": 0, \"ticks\": \"\"}}, \"type\": \"parcoords\"}], \"pie\": [{\"automargin\": true, \"type\": \"pie\"}], \"scatter\": [{\"marker\": {\"colorbar\": {\"outlinewidth\": 0, \"ticks\": \"\"}}, \"type\": \"scatter\"}], \"scatter3d\": [{\"line\": {\"colorbar\": {\"outlinewidth\": 0, \"ticks\": \"\"}}, \"marker\": {\"colorbar\": {\"outlinewidth\": 0, \"ticks\": \"\"}}, \"type\": \"scatter3d\"}], \"scattercarpet\": [{\"marker\": {\"colorbar\": {\"outlinewidth\": 0, \"ticks\": \"\"}}, \"type\": \"scattercarpet\"}], \"scattergeo\": [{\"marker\": {\"colorbar\": {\"outlinewidth\": 0, \"ticks\": \"\"}}, \"type\": \"scattergeo\"}], \"scattergl\": [{\"marker\": {\"colorbar\": {\"outlinewidth\": 0, \"ticks\": \"\"}}, \"type\": \"scattergl\"}], \"scattermapbox\": [{\"marker\": {\"colorbar\": {\"outlinewidth\": 0, \"ticks\": \"\"}}, \"type\": \"scattermapbox\"}], \"scatterpolar\": [{\"marker\": {\"colorbar\": {\"outlinewidth\": 0, \"ticks\": \"\"}}, \"type\": \"scatterpolar\"}], \"scatterpolargl\": [{\"marker\": {\"colorbar\": {\"outlinewidth\": 0, \"ticks\": \"\"}}, \"type\": \"scatterpolargl\"}], \"scatterternary\": [{\"marker\": {\"colorbar\": {\"outlinewidth\": 0, \"ticks\": \"\"}}, \"type\": \"scatterternary\"}], \"surface\": [{\"colorbar\": {\"outlinewidth\": 0, \"ticks\": \"\"}, \"colorscale\": [[0.0, \"#0d0887\"], [0.1111111111111111, \"#46039f\"], [0.2222222222222222, \"#7201a8\"], [0.3333333333333333, \"#9c179e\"], [0.4444444444444444, \"#bd3786\"], [0.5555555555555556, \"#d8576b\"], [0.6666666666666666, \"#ed7953\"], [0.7777777777777778, \"#fb9f3a\"], [0.8888888888888888, \"#fdca26\"], [1.0, \"#f0f921\"]], \"type\": \"surface\"}], \"table\": [{\"cells\": {\"fill\": {\"color\": \"#EBF0F8\"}, \"line\": {\"color\": \"white\"}}, \"header\": {\"fill\": {\"color\": \"#C8D4E3\"}, \"line\": {\"color\": \"white\"}}, \"type\": \"table\"}]}, \"layout\": {\"annotationdefaults\": {\"arrowcolor\": \"#2a3f5f\", \"arrowhead\": 0, \"arrowwidth\": 1}, \"coloraxis\": {\"colorbar\": {\"outlinewidth\": 0, \"ticks\": \"\"}}, \"colorscale\": {\"diverging\": [[0, \"#8e0152\"], [0.1, \"#c51b7d\"], [0.2, \"#de77ae\"], [0.3, \"#f1b6da\"], [0.4, \"#fde0ef\"], [0.5, \"#f7f7f7\"], [0.6, \"#e6f5d0\"], [0.7, \"#b8e186\"], [0.8, \"#7fbc41\"], [0.9, \"#4d9221\"], [1, \"#276419\"]], \"sequential\": [[0.0, \"#0d0887\"], [0.1111111111111111, \"#46039f\"], [0.2222222222222222, \"#7201a8\"], [0.3333333333333333, \"#9c179e\"], [0.4444444444444444, \"#bd3786\"], [0.5555555555555556, \"#d8576b\"], [0.6666666666666666, \"#ed7953\"], [0.7777777777777778, \"#fb9f3a\"], [0.8888888888888888, \"#fdca26\"], [1.0, \"#f0f921\"]], \"sequentialminus\": [[0.0, \"#0d0887\"], [0.1111111111111111, \"#46039f\"], [0.2222222222222222, \"#7201a8\"], [0.3333333333333333, \"#9c179e\"], [0.4444444444444444, \"#bd3786\"], [0.5555555555555556, \"#d8576b\"], [0.6666666666666666, \"#ed7953\"], [0.7777777777777778, \"#fb9f3a\"], [0.8888888888888888, \"#fdca26\"], [1.0, \"#f0f921\"]]}, \"colorway\": [\"#636efa\", \"#EF553B\", \"#00cc96\", \"#ab63fa\", \"#FFA15A\", \"#19d3f3\", \"#FF6692\", \"#B6E880\", \"#FF97FF\", \"#FECB52\"], \"font\": {\"color\": \"#2a3f5f\"}, \"geo\": {\"bgcolor\": \"white\", \"lakecolor\": \"white\", \"landcolor\": \"#E5ECF6\", \"showlakes\": true, \"showland\": true, \"subunitcolor\": \"white\"}, \"hoverlabel\": {\"align\": \"left\"}, \"hovermode\": \"closest\", \"mapbox\": {\"style\": \"light\"}, \"paper_bgcolor\": \"white\", \"plot_bgcolor\": \"#E5ECF6\", \"polar\": {\"angularaxis\": {\"gridcolor\": \"white\", \"linecolor\": \"white\", \"ticks\": \"\"}, \"bgcolor\": \"#E5ECF6\", \"radialaxis\": {\"gridcolor\": \"white\", \"linecolor\": \"white\", \"ticks\": \"\"}}, \"scene\": {\"xaxis\": {\"backgroundcolor\": \"#E5ECF6\", \"gridcolor\": \"white\", \"gridwidth\": 2, \"linecolor\": \"white\", \"showbackground\": true, \"ticks\": \"\", \"zerolinecolor\": \"white\"}, \"yaxis\": {\"backgroundcolor\": \"#E5ECF6\", \"gridcolor\": \"white\", \"gridwidth\": 2, \"linecolor\": \"white\", \"showbackground\": true, \"ticks\": \"\", \"zerolinecolor\": \"white\"}, \"zaxis\": {\"backgroundcolor\": \"#E5ECF6\", \"gridcolor\": \"white\", \"gridwidth\": 2, \"linecolor\": \"white\", \"showbackground\": true, \"ticks\": \"\", \"zerolinecolor\": \"white\"}}, \"shapedefaults\": {\"line\": {\"color\": \"#2a3f5f\"}}, \"ternary\": {\"aaxis\": {\"gridcolor\": \"white\", \"linecolor\": \"white\", \"ticks\": \"\"}, \"baxis\": {\"gridcolor\": \"white\", \"linecolor\": \"white\", \"ticks\": \"\"}, \"bgcolor\": \"#E5ECF6\", \"caxis\": {\"gridcolor\": \"white\", \"linecolor\": \"white\", \"ticks\": \"\"}}, \"title\": {\"x\": 0.05}, \"xaxis\": {\"automargin\": true, \"gridcolor\": \"white\", \"linecolor\": \"white\", \"ticks\": \"\", \"title\": {\"standoff\": 15}, \"zerolinecolor\": \"white\", \"zerolinewidth\": 2}, \"yaxis\": {\"automargin\": true, \"gridcolor\": \"white\", \"linecolor\": \"white\", \"ticks\": \"\", \"title\": {\"standoff\": 15}, \"zerolinecolor\": \"white\", \"zerolinewidth\": 2}}}, \"width\": 1000},\n",
              "                        {\"responsive\": true}\n",
              "                    ).then(function(){\n",
              "                            \n",
              "var gd = document.getElementById('0569a9cf-a8da-4633-a22d-e9c4927b22f7');\n",
              "var x = new MutationObserver(function (mutations, observer) {{\n",
              "        var display = window.getComputedStyle(gd).display;\n",
              "        if (!display || display === 'none') {{\n",
              "            console.log([gd, 'removed!']);\n",
              "            Plotly.purge(gd);\n",
              "            observer.disconnect();\n",
              "        }}\n",
              "}});\n",
              "\n",
              "// Listen for the removal of the full notebook cells\n",
              "var notebookContainer = gd.closest('#notebook-container');\n",
              "if (notebookContainer) {{\n",
              "    x.observe(notebookContainer, {childList: true});\n",
              "}}\n",
              "\n",
              "// Listen for the clearing of the current output cell\n",
              "var outputEl = gd.closest('.output');\n",
              "if (outputEl) {{\n",
              "    x.observe(outputEl, {childList: true});\n",
              "}}\n",
              "\n",
              "                        })\n",
              "                };\n",
              "                \n",
              "            </script>\n",
              "        </div>\n",
              "</body>\n",
              "</html>"
            ]
          },
          "metadata": {
            "tags": []
          }
        }
      ]
    },
    {
      "cell_type": "code",
      "metadata": {
        "id": "TTsWGyaj_X64",
        "colab_type": "code",
        "outputId": "2bf50c8a-8c99-40cf-f65a-97663abce34b",
        "colab": {
          "base_uri": "https://localhost:8080/",
          "height": 1000
        }
      },
      "source": [
        "company_tree_map = px.treemap(df, path=['My Network', 'Company', 'Position'], width=1000, height=1000)\n",
        "company_tree_map.show()"
      ],
      "execution_count": 0,
      "outputs": [
        {
          "output_type": "display_data",
          "data": {
            "text/html": [
              "<html>\n",
              "<head><meta charset=\"utf-8\" /></head>\n",
              "<body>\n",
              "    <div>\n",
              "            <script src=\"https://cdnjs.cloudflare.com/ajax/libs/mathjax/2.7.5/MathJax.js?config=TeX-AMS-MML_SVG\"></script><script type=\"text/javascript\">if (window.MathJax) {MathJax.Hub.Config({SVG: {font: \"STIX-Web\"}});}</script>\n",
              "                <script type=\"text/javascript\">window.PlotlyConfig = {MathJaxConfig: 'local'};</script>\n",
              "        <script src=\"https://cdn.plot.ly/plotly-latest.min.js\"></script>    \n",
              "            <div id=\"a610ecd6-9311-4754-b3f9-36679e40b64c\" class=\"plotly-graph-div\" style=\"height:1000px; width:1000px;\"></div>\n",
              "            <script type=\"text/javascript\">\n",
              "                \n",
              "                    window.PLOTLYENV=window.PLOTLYENV || {};\n",
              "                    \n",
              "                if (document.getElementById(\"a610ecd6-9311-4754-b3f9-36679e40b64c\")) {\n",
              "                    Plotly.newPlot(\n",
              "                        'a610ecd6-9311-4754-b3f9-36679e40b64c',\n",
              "                        [{\"branchvalues\": \"total\", \"domain\": {\"x\": [0.0, 1.0], \"y\": [0.0, 1.0]}, \"hoverlabel\": {\"namelength\": 0}, \"hovertemplate\": \"labels=%{label}<br>count=%{value}<br>parent=%{parent}<br>id=%{id}\", \"ids\": [\"My Network/Amazon/3D Support\", \"My Network/Neo-Hire services/Account Manager\", \"My Network/EPAM Systems/Agile Project Manager\", \"My Network/Oracle/Application Developer\", \"My Network/Accenture/Application Development Associate\", \"My Network/Bank of America/Apprentice\", \"My Network/Bank of America/Apprentice/ Senior Technical Associate\", \"My Network/MTX Group Inc/Artificial Intelligence Consultant\", \"My Network/Vasavi College of Engineering/Assistant Professor - Dept of ECE\", \"My Network/Tata Consultancy Services/Assistant System Engineer\", \"My Network/Cotiviti/Assistant Vice President - Enterprise IT Engineering\", \"My Network/Accenture in India/Associate Application Developer\", \"My Network/Infosys/Associate Business Analyst\", \"My Network/Tata Consultancy Services/Associate Consultant\", \"My Network/ServiceNow/Associate DevOps Engineer\", \"My Network/Qualcomm/Associate IT Engineer\", \"My Network/Oracle/Associate Performance Engineer\", \"My Network/Accenture/Associate Software Engineer\", \"My Network/Cotiviti/Associate Software Engineer\", \"My Network/Pegasystems/Associate Software Engineer\", \"My Network/ServiceNow/Associate Software Engineer\", \"My Network/Pegasystems/Associate Solutions Engineer\", \"My Network/Qualcomm/Associate System Analyst\", \"My Network/Pegasystems/Associate Technical Solutions Engineer\", \"My Network/Salesforce/Associate success agent\", \"My Network/Tata Consultancy Services/Assosiate PEGA developer\", \"My Network/Vasavi College of Engineering/Asst.Professor\", \"My Network/EY/Assurance Associate\", \"My Network/Ernst & Young/Assurance Associate\", \"My Network/Vasavi College of Engg/Bachelor of Engineering \", \"My Network/TSYS/Business Analyst II\", \"My Network/Entrench Electronics/Business Development Manager\", \"My Network/SS&C Technologies/Business Operations Associate\", \"My Network/Deloitte India (Offices of the US)/Business Technology Analyst\", \"My Network/Halya Agro Technologies Pvt Ltd/CTO\", \"My Network/G K Builders/Civil Engineer\", \"My Network/Oracle india pvt Ltd /Cloud DevOps Engineer\", \"My Network/BlueBell Educational Tours/Co-Founder\", \"My Network/Swarajya/Columnist\", \"My Network/AMD/Compiler Engineer\", \"My Network/Areteans/Consultant\", \"My Network/Cisco/Consulting Engineer\", \"My Network/Q-connect/Customer Service Executive\", \"My Network/Microsoft/Data Scientist\", \"My Network/Innominds/Data Scientist- Big Data and Analytics \", \"My Network/BNY Mellon/DevOps Engineer\", \"My Network/ServiceNow/Developer\", \"My Network/ValueLabs/ETL Developer\", \"My Network/FactSet/FIX Certification Engineer\", \"My Network/Kingmaker world org./Founder\", \"My Network/The Trade Guru/Founder and CEO\", \"My Network/Avani.ai/Founder | Data Scientist\", \"My Network/Molecular Connections/Frontend Developer\", \"My Network/Inncircles Technologies Private Limited/Full Stack Developer\", \"My Network/Inncircles Technologies Private Limited/Full-stack Developer\", \"My Network/Accure AI Inc./Graduate Data Science Consultant\", \"My Network/Thalia Labh Group/Graduate Engineering Trainee\", \"My Network/Clemson University/Graduate Research Assistant\", \"My Network/Colorado State University/Graduate Teaching Assistant\", \"My Network/University of Houston-Clear Lake/Graduate Teaching Assistant\", \"My Network/SWAYAM ED-CELL,VCE/Head of Event Management\", \"My Network/Cotiviti/Human Resources Generalist\", \"My Network/Harvard US India Initiative/India Organising Committee at Harvard US-India Initiative\", \"My Network/AIR Worldwide/Intern\", \"My Network/Accolite /Intern\", \"My Network/Amazon/Intern\", \"My Network/Ashoka Builders & Developers - India/Intern\", \"My Network/Caliber Technologies Pvt Ltd/Intern\", \"My Network/Caravel.AI/Intern\", \"My Network/Cashapona Technologies Private Limited/Intern\", \"My Network/Cisco/Intern\", \"My Network/Cognizant/Intern\", \"My Network/Cotiviti/Intern\", \"My Network/Defence Research and Development Laboratory (DRDL) - DRDO/Intern\", \"My Network/Defense Research and Development Laboratory - Ministry of Defense/Intern\", \"My Network/Deloitte Digital/Intern\", \"My Network/EY/Intern\", \"My Network/FactSet/Intern\", \"My Network/Gemba Concepts/Intern\", \"My Network/GreyCampus/Intern\", \"My Network/Hoopy/Intern\", \"My Network/Host Analytics Inc/Intern\", \"My Network/IBI Group/Intern\", \"My Network/Indian Institute of Space Science and Technology/Intern\", \"My Network/Inncircles Technologies Private Limited/Intern\", \"My Network/Intel Corporation/Intern\", \"My Network/NCR Corporation/Intern\", \"My Network/Navaratan Technologies/Intern\", \"My Network/OpenText/Intern\", \"My Network/Oracle/Intern\", \"My Network/Oracle india pvt Ltd /Intern\", \"My Network/RailTel Corporation of India Ltd/Intern\", \"My Network/Silicon Labs/Intern\", \"My Network/Streamline CPQ/Intern\", \"My Network/Tata Consultancy Services/Intern\", \"My Network/Unicorn Industries Company/Intern\", \"My Network/Voltas Limited - A TATA Enterprise/Intern\", \"My Network/WOIR Software India Pvt. Ltd./Intern\", \"My Network/WOMENforINDIA/Intern\", \"My Network/ZestIOT - IOT/AI powered aviation platform/Intern\", \"My Network/Paperpile/JavaScript Engineer\", \"My Network/Paperpile/Javascript Engineer\", \"My Network/Cotiviti/Lead Business Analyst/ Product owner\", \"My Network/Wipro Limited/Lead Consultant\", \"My Network/Cotiviti/Lead UX Designer\", \"My Network/Internshala/Leading Training Content Development (aka Teacher) \", \"My Network/Layer 6 AI/ML Scientist\", \"My Network/Olam/Management Trainee\", \"My Network/LogisoftTechnologies Inc/Manager IT Project Sales\", \"My Network/SWAYAM/Marketing Manager\", \"My Network/SocioHub/Marketing Trainee\", \"My Network/Mk academy/Mathematics Tutor\", \"My Network/Developer Student Clubs/Member\", \"My Network/Microsoft/Mentee\", \"My Network/BACTOLAC Formulations/Microbiologist\", \"My Network/Sri Radhika Tubes/Operations and Customer Relations Supervisor\", \"My Network/Adsiduous Media/Performance Media Buyer\", \"My Network/AMAZON DEVELOPMENT CENTRE (INDIA) PRIVATE LIMITED/Process Associate\", \"My Network/Inncircles Technologies Private Limited/Product Developer\", \"My Network/Cotiviti/Product Owner\", \"My Network/Salesforce/Product Support Engineer\", \"My Network/Inncircles Technologies Private Limited/Product developer intern\", \"My Network/NCR Corporation/Production Supervisor\", \"My Network/Vaasvi College of Engineering/Professor\", \"My Network/Vasavi College of Engineering/Professor Assistant\", \"My Network/Script Foundation/Program Manager\", \"My Network/Qualcomm/Programmer Analyst\", \"My Network/Cognizant/Programmer Analyst Trainee\", \"My Network/Cognizant/Programmer analyst\", \"My Network/www.call2ask.com/Project Business Analyst & Management Head\", \"My Network/Virtual Labs/Project Engineer\", \"My Network/Cotiviti/Project intern\", \"My Network/Oracle/Project intern\", \"My Network/Cotiviti/Recruiter\", \"My Network/Indian Institute of Technology, Roorkee/Research Student\", \"My Network/Cotiviti/SAFe Release Train Engineer and Agile Coach\", \"My Network/Amazon/SDE\", \"My Network/Amazon/SDE 2\", \"My Network/Infopercept Consulting/SOC Analyst\", \"My Network/NCR Corporation/SW Engineer\", \"My Network/SVKM's Narsee Monjee Institute of Management Studies (NMIMS)/Sales And Service Specialist\", \"My Network/Krisow/Sales Executive\", \"My Network/Dell/Scrum Master\", \"My Network/Deloitte India (Offices of the US)/Senior Consultant\", \"My Network/Cognizant/Senior Consultant CRM\", \"My Network/IRIS 2020 - IIM Indore/Senior Coordinator - Drona Event\", \"My Network/Blu/Senior Data Scientist\", \"My Network/Cotiviti Labs/Senior Developer\", \"My Network/Cotiviti/Senior Quality Assurance Engineer\", \"My Network/Accolite/Senior Software Development Engineer\", \"My Network/Delta Dental of Michigan/Senior Software Engineer\", \"My Network/Oracle India Pvt. Ltd/Senior Software Engineer\", \"My Network/Zaloni/Senior Software Engineer\", \"My Network/Infosys/Senior System Engineer\", \"My Network/Bank of America/Senior Tech Associate/ Apprentice\", \"My Network/EduRidge India/Social media associate\", \"My Network/EnergyTech Global/Software Analyst\", \"My Network/Cotiviti/Software Developer\", \"My Network/Oracle/Software Developer\", \"My Network/Tower Research Capital/Software Developer II\", \"My Network/Accolite/Software Developer lntern\", \"My Network/Host Analytics Inc/Software Development Engineer\", \"My Network/Apxor/Software Engineer\", \"My Network/HashedIn/Software Engineer\", \"My Network/JPMorgan Chase & Co./Software Engineer\", \"My Network/NCR Corporation/Software Engineer\", \"My Network/Netcracker Technology/Software Engineer\", \"My Network/OpenText/Software Engineer\", \"My Network/Progress/Software Engineer\", \"My Network/Smartbridge/Software Engineer\", \"My Network/TEKsystems/Software Engineer\", \"My Network/Tata Consultancy Services/Software Engineer\", \"My Network/Turvo Inc./Software Engineer\", \"My Network/UnitedHealth Group/Software Engineer\", \"My Network/University of Florida/Software Engineer\", \"My Network/NCR Corporation/Software Engineer 1\", \"My Network/Microsoft/Software Engineer 2\", \"My Network/CMA Consulting/Sr. Java Developer\", \"My Network/Cotiviti/Sr. Lead Business Analyst\", \"My Network/Amazon/Sr. Manager, Finance\", \"My Network/Teradata/Staff Cloud DevOps Engineer\", \"My Network/Aegis School of Business, Data Science & Telecommunication/Student\", \"My Network/George Mason University/Student\", \"My Network/Self-employed/Student\", \"My Network/Vasavi College of Engg/Student\", \"My Network/Temple University/Student Consultant\", \"My Network/Trainee at TalentSprint WE program/Student and a trainee\", \"My Network/National Institute of Technology Raipur/Studying\", \"My Network/WSP USA/Supervising Travel Demand Modeler\", \"My Network/Infosys/System Engineer - SOC Analyst\", \"My Network/University of North Texas/Teaching Assistant\", \"My Network/Research Centre Imarat (RCI), A Part Of Drdo/Technical Apprentice\", \"My Network/Cotiviti/Technical Architect\", \"My Network/Cotiviti/Technical Lead\", \"My Network/Cotiviti/Technical Team Lead\", \"My Network/Tata Consultancy Services - Bank of America/Technical Team Lead\", \"My Network/Ivy Comptech/Trainee Software Engineer\", \"My Network/Cotiviti/Vice President, Human Resource\", \"My Network/Sahaya Society/Volunteer\", \"My Network/Salesforce/associate success agent\", \"My Network/Terribly Tiny Tales/community curator\", \"My Network/Internshala/internshala\", \"My Network/Oracle/project intern\", \"My Network/Amazon/software development engineer\", \"My Network/Inderprastha Engineering College/student\", \"My Network/AIR Worldwide\", \"My Network/AMAZON DEVELOPMENT CENTRE (INDIA) PRIVATE LIMITED\", \"My Network/AMD\", \"My Network/Accenture\", \"My Network/Accenture in India\", \"My Network/Accolite\", \"My Network/Accolite \", \"My Network/Accure AI Inc.\", \"My Network/Adsiduous Media\", \"My Network/Aegis School of Business, Data Science & Telecommunication\", \"My Network/Amazon\", \"My Network/Apxor\", \"My Network/Areteans\", \"My Network/Ashoka Builders & Developers - India\", \"My Network/Avani.ai\", \"My Network/BACTOLAC Formulations\", \"My Network/BNY Mellon\", \"My Network/Bank of America\", \"My Network/Blu\", \"My Network/BlueBell Educational Tours\", \"My Network/CMA Consulting\", \"My Network/Caliber Technologies Pvt Ltd\", \"My Network/Caravel.AI\", \"My Network/Cashapona Technologies Private Limited\", \"My Network/Cisco\", \"My Network/Clemson University\", \"My Network/Cognizant\", \"My Network/Colorado State University\", \"My Network/Cotiviti\", \"My Network/Cotiviti Labs\", \"My Network/Defence Research and Development Laboratory (DRDL) - DRDO\", \"My Network/Defense Research and Development Laboratory - Ministry of Defense\", \"My Network/Dell\", \"My Network/Deloitte Digital\", \"My Network/Deloitte India (Offices of the US)\", \"My Network/Delta Dental of Michigan\", \"My Network/Developer Student Clubs\", \"My Network/EPAM Systems\", \"My Network/EY\", \"My Network/EduRidge India\", \"My Network/EnergyTech Global\", \"My Network/Entrench Electronics\", \"My Network/Ernst & Young\", \"My Network/FactSet\", \"My Network/G K Builders\", \"My Network/Gemba Concepts\", \"My Network/George Mason University\", \"My Network/GreyCampus\", \"My Network/Halya Agro Technologies Pvt Ltd\", \"My Network/Harvard US India Initiative\", \"My Network/HashedIn\", \"My Network/Hoopy\", \"My Network/Host Analytics Inc\", \"My Network/IBI Group\", \"My Network/IRIS 2020 - IIM Indore\", \"My Network/Inderprastha Engineering College\", \"My Network/Indian Institute of Space Science and Technology\", \"My Network/Indian Institute of Technology, Roorkee\", \"My Network/Infopercept Consulting\", \"My Network/Infosys\", \"My Network/Inncircles Technologies Private Limited\", \"My Network/Innominds\", \"My Network/Intel Corporation\", \"My Network/Internshala\", \"My Network/Ivy Comptech\", \"My Network/JPMorgan Chase & Co.\", \"My Network/Kingmaker world org.\", \"My Network/Krisow\", \"My Network/Layer 6 AI\", \"My Network/LogisoftTechnologies Inc\", \"My Network/MTX Group Inc\", \"My Network/Microsoft\", \"My Network/Mk academy\", \"My Network/Molecular Connections\", \"My Network/NCR Corporation\", \"My Network/National Institute of Technology Raipur\", \"My Network/Navaratan Technologies\", \"My Network/Neo-Hire services\", \"My Network/Netcracker Technology\", \"My Network/Olam\", \"My Network/OpenText\", \"My Network/Oracle\", \"My Network/Oracle India Pvt. Ltd\", \"My Network/Oracle india pvt Ltd \", \"My Network/Paperpile\", \"My Network/Pegasystems\", \"My Network/Progress\", \"My Network/Q-connect\", \"My Network/Qualcomm\", \"My Network/RailTel Corporation of India Ltd\", \"My Network/Research Centre Imarat (RCI), A Part Of Drdo\", \"My Network/SS&C Technologies\", \"My Network/SVKM's Narsee Monjee Institute of Management Studies (NMIMS)\", \"My Network/SWAYAM\", \"My Network/SWAYAM ED-CELL,VCE\", \"My Network/Sahaya Society\", \"My Network/Salesforce\", \"My Network/Script Foundation\", \"My Network/Self-employed\", \"My Network/ServiceNow\", \"My Network/Silicon Labs\", \"My Network/Smartbridge\", \"My Network/SocioHub\", \"My Network/Sri Radhika Tubes\", \"My Network/Streamline CPQ\", \"My Network/Swarajya\", \"My Network/TEKsystems\", \"My Network/TSYS\", \"My Network/Tata Consultancy Services\", \"My Network/Tata Consultancy Services - Bank of America\", \"My Network/Temple University\", \"My Network/Teradata\", \"My Network/Terribly Tiny Tales\", \"My Network/Thalia Labh Group\", \"My Network/The Trade Guru\", \"My Network/Tower Research Capital\", \"My Network/Trainee at TalentSprint WE program\", \"My Network/Turvo Inc.\", \"My Network/Unicorn Industries Company\", \"My Network/UnitedHealth Group\", \"My Network/University of Florida\", \"My Network/University of Houston-Clear Lake\", \"My Network/University of North Texas\", \"My Network/Vaasvi College of Engineering\", \"My Network/ValueLabs\", \"My Network/Vasavi College of Engg\", \"My Network/Vasavi College of Engineering\", \"My Network/Virtual Labs\", \"My Network/Voltas Limited - A TATA Enterprise\", \"My Network/WOIR Software India Pvt. Ltd.\", \"My Network/WOMENforINDIA\", \"My Network/WSP USA\", \"My Network/Wipro Limited\", \"My Network/Zaloni\", \"My Network/ZestIOT - IOT/AI powered aviation platform\", \"My Network/www.call2ask.com\", \"My Network\"], \"labels\": [\"3D Support\", \"Account Manager\", \"Agile Project Manager\", \"Application Developer\", \"Application Development Associate\", \"Apprentice\", \"Apprentice/ Senior Technical Associate\", \"Artificial Intelligence Consultant\", \"Assistant Professor - Dept of ECE\", \"Assistant System Engineer\", \"Assistant Vice President - Enterprise IT Engineering\", \"Associate Application Developer\", \"Associate Business Analyst\", \"Associate Consultant\", \"Associate DevOps Engineer\", \"Associate IT Engineer\", \"Associate Performance Engineer\", \"Associate Software Engineer\", \"Associate Software Engineer\", \"Associate Software Engineer\", \"Associate Software Engineer\", \"Associate Solutions Engineer\", \"Associate System Analyst\", \"Associate Technical Solutions Engineer\", \"Associate success agent\", \"Assosiate PEGA developer\", \"Asst.Professor\", \"Assurance Associate\", \"Assurance Associate\", \"Bachelor of Engineering \", \"Business Analyst II\", \"Business Development Manager\", \"Business Operations Associate\", \"Business Technology Analyst\", \"CTO\", \"Civil Engineer\", \"Cloud DevOps Engineer\", \"Co-Founder\", \"Columnist\", \"Compiler Engineer\", \"Consultant\", \"Consulting Engineer\", \"Customer Service Executive\", \"Data Scientist\", \"Data Scientist- Big Data and Analytics \", \"DevOps Engineer\", \"Developer\", \"ETL Developer\", \"FIX Certification Engineer\", \"Founder\", \"Founder and CEO\", \"Founder | Data Scientist\", \"Frontend Developer\", \"Full Stack Developer\", \"Full-stack Developer\", \"Graduate Data Science Consultant\", \"Graduate Engineering Trainee\", \"Graduate Research Assistant\", \"Graduate Teaching Assistant\", \"Graduate Teaching Assistant\", \"Head of Event Management\", \"Human Resources Generalist\", \"India Organising Committee at Harvard US-India Initiative\", \"Intern\", \"Intern\", \"Intern\", \"Intern\", \"Intern\", \"Intern\", \"Intern\", \"Intern\", \"Intern\", \"Intern\", \"Intern\", \"Intern\", \"Intern\", \"Intern\", \"Intern\", \"Intern\", \"Intern\", \"Intern\", \"Intern\", \"Intern\", \"Intern\", \"Intern\", \"Intern\", \"Intern\", \"Intern\", \"Intern\", \"Intern\", \"Intern\", \"Intern\", \"Intern\", \"Intern\", \"Intern\", \"Intern\", \"Intern\", \"Intern\", \"Intern\", \"Intern\", \"JavaScript Engineer\", \"Javascript Engineer\", \"Lead Business Analyst/ Product owner\", \"Lead Consultant\", \"Lead UX Designer\", \"Leading Training Content Development (aka Teacher) \", \"ML Scientist\", \"Management Trainee\", \"Manager IT Project Sales\", \"Marketing Manager\", \"Marketing Trainee\", \"Mathematics Tutor\", \"Member\", \"Mentee\", \"Microbiologist\", \"Operations and Customer Relations Supervisor\", \"Performance Media Buyer\", \"Process Associate\", \"Product Developer\", \"Product Owner\", \"Product Support Engineer\", \"Product developer intern\", \"Production Supervisor\", \"Professor\", \"Professor Assistant\", \"Program Manager\", \"Programmer Analyst\", \"Programmer Analyst Trainee\", \"Programmer analyst\", \"Project Business Analyst & Management Head\", \"Project Engineer\", \"Project intern\", \"Project intern\", \"Recruiter\", \"Research Student\", \"SAFe Release Train Engineer and Agile Coach\", \"SDE\", \"SDE 2\", \"SOC Analyst\", \"SW Engineer\", \"Sales And Service Specialist\", \"Sales Executive\", \"Scrum Master\", \"Senior Consultant\", \"Senior Consultant CRM\", \"Senior Coordinator - Drona Event\", \"Senior Data Scientist\", \"Senior Developer\", \"Senior Quality Assurance Engineer\", \"Senior Software Development Engineer\", \"Senior Software Engineer\", \"Senior Software Engineer\", \"Senior Software Engineer\", \"Senior System Engineer\", \"Senior Tech Associate/ Apprentice\", \"Social media associate\", \"Software Analyst\", \"Software Developer\", \"Software Developer\", \"Software Developer II\", \"Software Developer lntern\", \"Software Development Engineer\", \"Software Engineer\", \"Software Engineer\", \"Software Engineer\", \"Software Engineer\", \"Software Engineer\", \"Software Engineer\", \"Software Engineer\", \"Software Engineer\", \"Software Engineer\", \"Software Engineer\", \"Software Engineer\", \"Software Engineer\", \"Software Engineer\", \"Software Engineer 1\", \"Software Engineer 2\", \"Sr. Java Developer\", \"Sr. Lead Business Analyst\", \"Sr. Manager, Finance\", \"Staff Cloud DevOps Engineer\", \"Student\", \"Student\", \"Student\", \"Student\", \"Student Consultant\", \"Student and a trainee\", \"Studying\", \"Supervising Travel Demand Modeler\", \"System Engineer - SOC Analyst\", \"Teaching Assistant\", \"Technical Apprentice\", \"Technical Architect\", \"Technical Lead\", \"Technical Team Lead\", \"Technical Team Lead\", \"Trainee Software Engineer\", \"Vice President, Human Resource\", \"Volunteer\", \"associate success agent\", \"community curator\", \"internshala\", \"project intern\", \"software development engineer\", \"student\", \"AIR Worldwide\", \"AMAZON DEVELOPMENT CENTRE (INDIA) PRIVATE LIMITED\", \"AMD\", \"Accenture\", \"Accenture in India\", \"Accolite\", \"Accolite \", \"Accure AI Inc.\", \"Adsiduous Media\", \"Aegis School of Business, Data Science & Telecommunication\", \"Amazon\", \"Apxor\", \"Areteans\", \"Ashoka Builders & Developers - India\", \"Avani.ai\", \"BACTOLAC Formulations\", \"BNY Mellon\", \"Bank of America\", \"Blu\", \"BlueBell Educational Tours\", \"CMA Consulting\", \"Caliber Technologies Pvt Ltd\", \"Caravel.AI\", \"Cashapona Technologies Private Limited\", \"Cisco\", \"Clemson University\", \"Cognizant\", \"Colorado State University\", \"Cotiviti\", \"Cotiviti Labs\", \"Defence Research and Development Laboratory (DRDL) - DRDO\", \"Defense Research and Development Laboratory - Ministry of Defense\", \"Dell\", \"Deloitte Digital\", \"Deloitte India (Offices of the US)\", \"Delta Dental of Michigan\", \"Developer Student Clubs\", \"EPAM Systems\", \"EY\", \"EduRidge India\", \"EnergyTech Global\", \"Entrench Electronics\", \"Ernst & Young\", \"FactSet\", \"G K Builders\", \"Gemba Concepts\", \"George Mason University\", \"GreyCampus\", \"Halya Agro Technologies Pvt Ltd\", \"Harvard US India Initiative\", \"HashedIn\", \"Hoopy\", \"Host Analytics Inc\", \"IBI Group\", \"IRIS 2020 - IIM Indore\", \"Inderprastha Engineering College\", \"Indian Institute of Space Science and Technology\", \"Indian Institute of Technology, Roorkee\", \"Infopercept Consulting\", \"Infosys\", \"Inncircles Technologies Private Limited\", \"Innominds\", \"Intel Corporation\", \"Internshala\", \"Ivy Comptech\", \"JPMorgan Chase & Co.\", \"Kingmaker world org.\", \"Krisow\", \"Layer 6 AI\", \"LogisoftTechnologies Inc\", \"MTX Group Inc\", \"Microsoft\", \"Mk academy\", \"Molecular Connections\", \"NCR Corporation\", \"National Institute of Technology Raipur\", \"Navaratan Technologies\", \"Neo-Hire services\", \"Netcracker Technology\", \"Olam\", \"OpenText\", \"Oracle\", \"Oracle India Pvt. Ltd\", \"Oracle india pvt Ltd \", \"Paperpile\", \"Pegasystems\", \"Progress\", \"Q-connect\", \"Qualcomm\", \"RailTel Corporation of India Ltd\", \"Research Centre Imarat (RCI), A Part Of Drdo\", \"SS&C Technologies\", \"SVKM's Narsee Monjee Institute of Management Studies (NMIMS)\", \"SWAYAM\", \"SWAYAM ED-CELL,VCE\", \"Sahaya Society\", \"Salesforce\", \"Script Foundation\", \"Self-employed\", \"ServiceNow\", \"Silicon Labs\", \"Smartbridge\", \"SocioHub\", \"Sri Radhika Tubes\", \"Streamline CPQ\", \"Swarajya\", \"TEKsystems\", \"TSYS\", \"Tata Consultancy Services\", \"Tata Consultancy Services - Bank of America\", \"Temple University\", \"Teradata\", \"Terribly Tiny Tales\", \"Thalia Labh Group\", \"The Trade Guru\", \"Tower Research Capital\", \"Trainee at TalentSprint WE program\", \"Turvo Inc.\", \"Unicorn Industries Company\", \"UnitedHealth Group\", \"University of Florida\", \"University of Houston-Clear Lake\", \"University of North Texas\", \"Vaasvi College of Engineering\", \"ValueLabs\", \"Vasavi College of Engg\", \"Vasavi College of Engineering\", \"Virtual Labs\", \"Voltas Limited - A TATA Enterprise\", \"WOIR Software India Pvt. Ltd.\", \"WOMENforINDIA\", \"WSP USA\", \"Wipro Limited\", \"Zaloni\", \"ZestIOT - IOT/AI powered aviation platform\", \"www.call2ask.com\", \"My Network\"], \"name\": \"\", \"parents\": [\"My Network/Amazon\", \"My Network/Neo-Hire services\", \"My Network/EPAM Systems\", \"My Network/Oracle\", \"My Network/Accenture\", \"My Network/Bank of America\", \"My Network/Bank of America\", \"My Network/MTX Group Inc\", \"My Network/Vasavi College of Engineering\", \"My Network/Tata Consultancy Services\", \"My Network/Cotiviti\", \"My Network/Accenture in India\", \"My Network/Infosys\", \"My Network/Tata Consultancy Services\", \"My Network/ServiceNow\", \"My Network/Qualcomm\", \"My Network/Oracle\", \"My Network/Accenture\", \"My Network/Cotiviti\", \"My Network/Pegasystems\", \"My Network/ServiceNow\", \"My Network/Pegasystems\", \"My Network/Qualcomm\", \"My Network/Pegasystems\", \"My Network/Salesforce\", \"My Network/Tata Consultancy Services\", \"My Network/Vasavi College of Engineering\", \"My Network/EY\", \"My Network/Ernst & Young\", \"My Network/Vasavi College of Engg\", \"My Network/TSYS\", \"My Network/Entrench Electronics\", \"My Network/SS&C Technologies\", \"My Network/Deloitte India (Offices of the US)\", \"My Network/Halya Agro Technologies Pvt Ltd\", \"My Network/G K Builders\", \"My Network/Oracle india pvt Ltd \", \"My Network/BlueBell Educational Tours\", \"My Network/Swarajya\", \"My Network/AMD\", \"My Network/Areteans\", \"My Network/Cisco\", \"My Network/Q-connect\", \"My Network/Microsoft\", \"My Network/Innominds\", \"My Network/BNY Mellon\", \"My Network/ServiceNow\", \"My Network/ValueLabs\", \"My Network/FactSet\", \"My Network/Kingmaker world org.\", \"My Network/The Trade Guru\", \"My Network/Avani.ai\", \"My Network/Molecular Connections\", \"My Network/Inncircles Technologies Private Limited\", \"My Network/Inncircles Technologies Private Limited\", \"My Network/Accure AI Inc.\", \"My Network/Thalia Labh Group\", \"My Network/Clemson University\", \"My Network/Colorado State University\", \"My Network/University of Houston-Clear Lake\", \"My Network/SWAYAM ED-CELL,VCE\", \"My Network/Cotiviti\", \"My Network/Harvard US India Initiative\", \"My Network/AIR Worldwide\", \"My Network/Accolite \", \"My Network/Amazon\", \"My Network/Ashoka Builders & Developers - India\", \"My Network/Caliber Technologies Pvt Ltd\", \"My Network/Caravel.AI\", \"My Network/Cashapona Technologies Private Limited\", \"My Network/Cisco\", \"My Network/Cognizant\", \"My Network/Cotiviti\", \"My Network/Defence Research and Development Laboratory (DRDL) - DRDO\", \"My Network/Defense Research and Development Laboratory - Ministry of Defense\", \"My Network/Deloitte Digital\", \"My Network/EY\", \"My Network/FactSet\", \"My Network/Gemba Concepts\", \"My Network/GreyCampus\", \"My Network/Hoopy\", \"My Network/Host Analytics Inc\", \"My Network/IBI Group\", \"My Network/Indian Institute of Space Science and Technology\", \"My Network/Inncircles Technologies Private Limited\", \"My Network/Intel Corporation\", \"My Network/NCR Corporation\", \"My Network/Navaratan Technologies\", \"My Network/OpenText\", \"My Network/Oracle\", \"My Network/Oracle india pvt Ltd \", \"My Network/RailTel Corporation of India Ltd\", \"My Network/Silicon Labs\", \"My Network/Streamline CPQ\", \"My Network/Tata Consultancy Services\", \"My Network/Unicorn Industries Company\", \"My Network/Voltas Limited - A TATA Enterprise\", \"My Network/WOIR Software India Pvt. Ltd.\", \"My Network/WOMENforINDIA\", \"My Network/ZestIOT - IOT/AI powered aviation platform\", \"My Network/Paperpile\", \"My Network/Paperpile\", \"My Network/Cotiviti\", \"My Network/Wipro Limited\", \"My Network/Cotiviti\", \"My Network/Internshala\", \"My Network/Layer 6 AI\", \"My Network/Olam\", \"My Network/LogisoftTechnologies Inc\", \"My Network/SWAYAM\", \"My Network/SocioHub\", \"My Network/Mk academy\", \"My Network/Developer Student Clubs\", \"My Network/Microsoft\", \"My Network/BACTOLAC Formulations\", \"My Network/Sri Radhika Tubes\", \"My Network/Adsiduous Media\", \"My Network/AMAZON DEVELOPMENT CENTRE (INDIA) PRIVATE LIMITED\", \"My Network/Inncircles Technologies Private Limited\", \"My Network/Cotiviti\", \"My Network/Salesforce\", \"My Network/Inncircles Technologies Private Limited\", \"My Network/NCR Corporation\", \"My Network/Vaasvi College of Engineering\", \"My Network/Vasavi College of Engineering\", \"My Network/Script Foundation\", \"My Network/Qualcomm\", \"My Network/Cognizant\", \"My Network/Cognizant\", \"My Network/www.call2ask.com\", \"My Network/Virtual Labs\", \"My Network/Cotiviti\", \"My Network/Oracle\", \"My Network/Cotiviti\", \"My Network/Indian Institute of Technology, Roorkee\", \"My Network/Cotiviti\", \"My Network/Amazon\", \"My Network/Amazon\", \"My Network/Infopercept Consulting\", \"My Network/NCR Corporation\", \"My Network/SVKM's Narsee Monjee Institute of Management Studies (NMIMS)\", \"My Network/Krisow\", \"My Network/Dell\", \"My Network/Deloitte India (Offices of the US)\", \"My Network/Cognizant\", \"My Network/IRIS 2020 - IIM Indore\", \"My Network/Blu\", \"My Network/Cotiviti Labs\", \"My Network/Cotiviti\", \"My Network/Accolite\", \"My Network/Delta Dental of Michigan\", \"My Network/Oracle India Pvt. Ltd\", \"My Network/Zaloni\", \"My Network/Infosys\", \"My Network/Bank of America\", \"My Network/EduRidge India\", \"My Network/EnergyTech Global\", \"My Network/Cotiviti\", \"My Network/Oracle\", \"My Network/Tower Research Capital\", \"My Network/Accolite\", \"My Network/Host Analytics Inc\", \"My Network/Apxor\", \"My Network/HashedIn\", \"My Network/JPMorgan Chase & Co.\", \"My Network/NCR Corporation\", \"My Network/Netcracker Technology\", \"My Network/OpenText\", \"My Network/Progress\", \"My Network/Smartbridge\", \"My Network/TEKsystems\", \"My Network/Tata Consultancy Services\", \"My Network/Turvo Inc.\", \"My Network/UnitedHealth Group\", \"My Network/University of Florida\", \"My Network/NCR Corporation\", \"My Network/Microsoft\", \"My Network/CMA Consulting\", \"My Network/Cotiviti\", \"My Network/Amazon\", \"My Network/Teradata\", \"My Network/Aegis School of Business, Data Science & Telecommunication\", \"My Network/George Mason University\", \"My Network/Self-employed\", \"My Network/Vasavi College of Engg\", \"My Network/Temple University\", \"My Network/Trainee at TalentSprint WE program\", \"My Network/National Institute of Technology Raipur\", \"My Network/WSP USA\", \"My Network/Infosys\", \"My Network/University of North Texas\", \"My Network/Research Centre Imarat (RCI), A Part Of Drdo\", \"My Network/Cotiviti\", \"My Network/Cotiviti\", \"My Network/Cotiviti\", \"My Network/Tata Consultancy Services - Bank of America\", \"My Network/Ivy Comptech\", \"My Network/Cotiviti\", \"My Network/Sahaya Society\", \"My Network/Salesforce\", \"My Network/Terribly Tiny Tales\", \"My Network/Internshala\", \"My Network/Oracle\", \"My Network/Amazon\", \"My Network/Inderprastha Engineering College\", \"My Network\", \"My Network\", \"My Network\", \"My Network\", \"My Network\", \"My Network\", \"My Network\", \"My Network\", \"My Network\", \"My Network\", \"My Network\", \"My Network\", \"My Network\", \"My Network\", \"My Network\", \"My Network\", \"My Network\", \"My Network\", \"My Network\", \"My Network\", \"My Network\", \"My Network\", \"My Network\", \"My Network\", \"My Network\", \"My Network\", \"My Network\", \"My Network\", \"My Network\", \"My Network\", \"My Network\", \"My Network\", \"My Network\", \"My Network\", \"My Network\", \"My Network\", \"My Network\", \"My Network\", \"My Network\", \"My Network\", \"My Network\", \"My Network\", \"My Network\", \"My Network\", \"My Network\", \"My Network\", \"My Network\", \"My Network\", \"My Network\", \"My Network\", \"My Network\", \"My Network\", \"My Network\", \"My Network\", \"My Network\", \"My Network\", \"My Network\", \"My Network\", \"My Network\", \"My Network\", \"My Network\", \"My Network\", \"My Network\", \"My Network\", \"My Network\", \"My Network\", \"My Network\", \"My Network\", \"My Network\", \"My Network\", \"My Network\", \"My Network\", \"My Network\", \"My Network\", \"My Network\", \"My Network\", \"My Network\", \"My Network\", \"My Network\", \"My Network\", \"My Network\", \"My Network\", \"My Network\", \"My Network\", \"My Network\", \"My Network\", \"My Network\", \"My Network\", \"My Network\", \"My Network\", \"My Network\", \"My Network\", \"My Network\", \"My Network\", \"My Network\", \"My Network\", \"My Network\", \"My Network\", \"My Network\", \"My Network\", \"My Network\", \"My Network\", \"My Network\", \"My Network\", \"My Network\", \"My Network\", \"My Network\", \"My Network\", \"My Network\", \"My Network\", \"My Network\", \"My Network\", \"My Network\", \"My Network\", \"My Network\", \"My Network\", \"My Network\", \"My Network\", \"My Network\", \"My Network\", \"My Network\", \"My Network\", \"My Network\", \"My Network\", \"My Network\", \"My Network\", \"My Network\", \"My Network\", \"My Network\", \"My Network\", \"My Network\", \"My Network\", \"My Network\", \"My Network\", \"My Network\", \"My Network\", \"\"], \"type\": \"treemap\", \"values\": [1, 1, 1, 2, 1, 1, 1, 1, 1, 1, 1, 1, 2, 1, 1, 1, 1, 1, 1, 2, 4, 1, 2, 1, 1, 1, 1, 2, 1, 1, 1, 1, 1, 6, 1, 1, 1, 1, 1, 1, 1, 1, 1, 1, 1, 1, 1, 1, 1, 1, 1, 1, 1, 1, 1, 1, 1, 1, 1, 1, 1, 1, 1, 2, 1, 2, 1, 1, 1, 1, 3, 1, 3, 1, 1, 1, 1, 1, 1, 1, 1, 1, 1, 1, 1, 1, 9, 2, 1, 11, 1, 1, 1, 1, 2, 1, 1, 1, 1, 1, 1, 1, 1, 1, 1, 1, 1, 1, 1, 1, 1, 1, 1, 1, 1, 1, 1, 1, 1, 1, 1, 1, 1, 1, 1, 1, 1, 1, 1, 1, 1, 1, 1, 1, 1, 1, 2, 1, 1, 1, 1, 1, 1, 1, 1, 1, 1, 1, 1, 1, 1, 1, 1, 1, 1, 1, 1, 1, 1, 1, 1, 1, 1, 1, 1, 2, 1, 1, 1, 1, 1, 1, 1, 1, 1, 1, 1, 1, 1, 1, 1, 1, 1, 1, 1, 1, 1, 1, 1, 1, 1, 1, 1, 2, 1, 1, 1, 1, 1, 1, 1, 1, 1, 1, 1, 2, 1, 1, 2, 1, 2, 1, 1, 1, 1, 8, 1, 1, 1, 1, 1, 1, 3, 1, 1, 1, 1, 1, 1, 4, 1, 4, 1, 20, 1, 1, 1, 1, 1, 7, 1, 1, 1, 3, 1, 1, 1, 1, 2, 1, 1, 1, 1, 1, 1, 1, 1, 2, 1, 1, 1, 1, 1, 1, 4, 5, 1, 1, 2, 1, 1, 1, 1, 1, 1, 1, 3, 1, 1, 14, 1, 2, 1, 1, 1, 2, 17, 1, 2, 2, 4, 1, 1, 4, 1, 1, 1, 1, 1, 1, 1, 3, 1, 1, 6, 1, 1, 1, 1, 1, 1, 1, 1, 6, 1, 1, 1, 1, 1, 1, 1, 1, 1, 1, 1, 1, 1, 1, 1, 1, 2, 3, 1, 1, 1, 1, 1, 1, 1, 1, 1, 247]}],\n",
              "                        {\"height\": 1000, \"legend\": {\"tracegroupgap\": 0}, \"margin\": {\"t\": 60}, \"template\": {\"data\": {\"bar\": [{\"error_x\": {\"color\": \"#2a3f5f\"}, \"error_y\": {\"color\": \"#2a3f5f\"}, \"marker\": {\"line\": {\"color\": \"#E5ECF6\", \"width\": 0.5}}, \"type\": \"bar\"}], \"barpolar\": [{\"marker\": {\"line\": {\"color\": \"#E5ECF6\", \"width\": 0.5}}, \"type\": \"barpolar\"}], \"carpet\": [{\"aaxis\": {\"endlinecolor\": \"#2a3f5f\", \"gridcolor\": \"white\", \"linecolor\": \"white\", \"minorgridcolor\": \"white\", \"startlinecolor\": \"#2a3f5f\"}, \"baxis\": {\"endlinecolor\": \"#2a3f5f\", \"gridcolor\": \"white\", \"linecolor\": \"white\", \"minorgridcolor\": \"white\", \"startlinecolor\": \"#2a3f5f\"}, \"type\": \"carpet\"}], \"choropleth\": [{\"colorbar\": {\"outlinewidth\": 0, \"ticks\": \"\"}, \"type\": \"choropleth\"}], \"contour\": [{\"colorbar\": {\"outlinewidth\": 0, \"ticks\": \"\"}, \"colorscale\": [[0.0, \"#0d0887\"], [0.1111111111111111, \"#46039f\"], [0.2222222222222222, \"#7201a8\"], [0.3333333333333333, \"#9c179e\"], [0.4444444444444444, \"#bd3786\"], [0.5555555555555556, \"#d8576b\"], [0.6666666666666666, \"#ed7953\"], [0.7777777777777778, \"#fb9f3a\"], [0.8888888888888888, \"#fdca26\"], [1.0, \"#f0f921\"]], \"type\": \"contour\"}], \"contourcarpet\": [{\"colorbar\": {\"outlinewidth\": 0, \"ticks\": \"\"}, \"type\": \"contourcarpet\"}], \"heatmap\": [{\"colorbar\": {\"outlinewidth\": 0, \"ticks\": \"\"}, \"colorscale\": [[0.0, \"#0d0887\"], [0.1111111111111111, \"#46039f\"], [0.2222222222222222, \"#7201a8\"], [0.3333333333333333, \"#9c179e\"], [0.4444444444444444, \"#bd3786\"], [0.5555555555555556, \"#d8576b\"], [0.6666666666666666, \"#ed7953\"], [0.7777777777777778, \"#fb9f3a\"], [0.8888888888888888, \"#fdca26\"], [1.0, \"#f0f921\"]], \"type\": \"heatmap\"}], \"heatmapgl\": [{\"colorbar\": {\"outlinewidth\": 0, \"ticks\": \"\"}, \"colorscale\": [[0.0, \"#0d0887\"], [0.1111111111111111, \"#46039f\"], [0.2222222222222222, \"#7201a8\"], [0.3333333333333333, \"#9c179e\"], [0.4444444444444444, \"#bd3786\"], [0.5555555555555556, \"#d8576b\"], [0.6666666666666666, \"#ed7953\"], [0.7777777777777778, \"#fb9f3a\"], [0.8888888888888888, \"#fdca26\"], [1.0, \"#f0f921\"]], \"type\": \"heatmapgl\"}], \"histogram\": [{\"marker\": {\"colorbar\": {\"outlinewidth\": 0, \"ticks\": \"\"}}, \"type\": \"histogram\"}], \"histogram2d\": [{\"colorbar\": {\"outlinewidth\": 0, \"ticks\": \"\"}, \"colorscale\": [[0.0, \"#0d0887\"], [0.1111111111111111, \"#46039f\"], [0.2222222222222222, \"#7201a8\"], [0.3333333333333333, \"#9c179e\"], [0.4444444444444444, \"#bd3786\"], [0.5555555555555556, \"#d8576b\"], [0.6666666666666666, \"#ed7953\"], [0.7777777777777778, \"#fb9f3a\"], [0.8888888888888888, \"#fdca26\"], [1.0, \"#f0f921\"]], \"type\": \"histogram2d\"}], \"histogram2dcontour\": [{\"colorbar\": {\"outlinewidth\": 0, \"ticks\": \"\"}, \"colorscale\": [[0.0, \"#0d0887\"], [0.1111111111111111, \"#46039f\"], [0.2222222222222222, \"#7201a8\"], [0.3333333333333333, \"#9c179e\"], [0.4444444444444444, \"#bd3786\"], [0.5555555555555556, \"#d8576b\"], [0.6666666666666666, \"#ed7953\"], [0.7777777777777778, \"#fb9f3a\"], [0.8888888888888888, \"#fdca26\"], [1.0, \"#f0f921\"]], \"type\": \"histogram2dcontour\"}], \"mesh3d\": [{\"colorbar\": {\"outlinewidth\": 0, \"ticks\": \"\"}, \"type\": \"mesh3d\"}], \"parcoords\": [{\"line\": {\"colorbar\": {\"outlinewidth\": 0, \"ticks\": \"\"}}, \"type\": \"parcoords\"}], \"pie\": [{\"automargin\": true, \"type\": \"pie\"}], \"scatter\": [{\"marker\": {\"colorbar\": {\"outlinewidth\": 0, \"ticks\": \"\"}}, \"type\": \"scatter\"}], \"scatter3d\": [{\"line\": {\"colorbar\": {\"outlinewidth\": 0, \"ticks\": \"\"}}, \"marker\": {\"colorbar\": {\"outlinewidth\": 0, \"ticks\": \"\"}}, \"type\": \"scatter3d\"}], \"scattercarpet\": [{\"marker\": {\"colorbar\": {\"outlinewidth\": 0, \"ticks\": \"\"}}, \"type\": \"scattercarpet\"}], \"scattergeo\": [{\"marker\": {\"colorbar\": {\"outlinewidth\": 0, \"ticks\": \"\"}}, \"type\": \"scattergeo\"}], \"scattergl\": [{\"marker\": {\"colorbar\": {\"outlinewidth\": 0, \"ticks\": \"\"}}, \"type\": \"scattergl\"}], \"scattermapbox\": [{\"marker\": {\"colorbar\": {\"outlinewidth\": 0, \"ticks\": \"\"}}, \"type\": \"scattermapbox\"}], \"scatterpolar\": [{\"marker\": {\"colorbar\": {\"outlinewidth\": 0, \"ticks\": \"\"}}, \"type\": \"scatterpolar\"}], \"scatterpolargl\": [{\"marker\": {\"colorbar\": {\"outlinewidth\": 0, \"ticks\": \"\"}}, \"type\": \"scatterpolargl\"}], \"scatterternary\": [{\"marker\": {\"colorbar\": {\"outlinewidth\": 0, \"ticks\": \"\"}}, \"type\": \"scatterternary\"}], \"surface\": [{\"colorbar\": {\"outlinewidth\": 0, \"ticks\": \"\"}, \"colorscale\": [[0.0, \"#0d0887\"], [0.1111111111111111, \"#46039f\"], [0.2222222222222222, \"#7201a8\"], [0.3333333333333333, \"#9c179e\"], [0.4444444444444444, \"#bd3786\"], [0.5555555555555556, \"#d8576b\"], [0.6666666666666666, \"#ed7953\"], [0.7777777777777778, \"#fb9f3a\"], [0.8888888888888888, \"#fdca26\"], [1.0, \"#f0f921\"]], \"type\": \"surface\"}], \"table\": [{\"cells\": {\"fill\": {\"color\": \"#EBF0F8\"}, \"line\": {\"color\": \"white\"}}, \"header\": {\"fill\": {\"color\": \"#C8D4E3\"}, \"line\": {\"color\": \"white\"}}, \"type\": \"table\"}]}, \"layout\": {\"annotationdefaults\": {\"arrowcolor\": \"#2a3f5f\", \"arrowhead\": 0, \"arrowwidth\": 1}, \"coloraxis\": {\"colorbar\": {\"outlinewidth\": 0, \"ticks\": \"\"}}, \"colorscale\": {\"diverging\": [[0, \"#8e0152\"], [0.1, \"#c51b7d\"], [0.2, \"#de77ae\"], [0.3, \"#f1b6da\"], [0.4, \"#fde0ef\"], [0.5, \"#f7f7f7\"], [0.6, \"#e6f5d0\"], [0.7, \"#b8e186\"], [0.8, \"#7fbc41\"], [0.9, \"#4d9221\"], [1, \"#276419\"]], \"sequential\": [[0.0, \"#0d0887\"], [0.1111111111111111, \"#46039f\"], [0.2222222222222222, \"#7201a8\"], [0.3333333333333333, \"#9c179e\"], [0.4444444444444444, \"#bd3786\"], [0.5555555555555556, \"#d8576b\"], [0.6666666666666666, \"#ed7953\"], [0.7777777777777778, \"#fb9f3a\"], [0.8888888888888888, \"#fdca26\"], [1.0, \"#f0f921\"]], \"sequentialminus\": [[0.0, \"#0d0887\"], [0.1111111111111111, \"#46039f\"], [0.2222222222222222, \"#7201a8\"], [0.3333333333333333, \"#9c179e\"], [0.4444444444444444, \"#bd3786\"], [0.5555555555555556, \"#d8576b\"], [0.6666666666666666, \"#ed7953\"], [0.7777777777777778, \"#fb9f3a\"], [0.8888888888888888, \"#fdca26\"], [1.0, \"#f0f921\"]]}, \"colorway\": [\"#636efa\", \"#EF553B\", \"#00cc96\", \"#ab63fa\", \"#FFA15A\", \"#19d3f3\", \"#FF6692\", \"#B6E880\", \"#FF97FF\", \"#FECB52\"], \"font\": {\"color\": \"#2a3f5f\"}, \"geo\": {\"bgcolor\": \"white\", \"lakecolor\": \"white\", \"landcolor\": \"#E5ECF6\", \"showlakes\": true, \"showland\": true, \"subunitcolor\": \"white\"}, \"hoverlabel\": {\"align\": \"left\"}, \"hovermode\": \"closest\", \"mapbox\": {\"style\": \"light\"}, \"paper_bgcolor\": \"white\", \"plot_bgcolor\": \"#E5ECF6\", \"polar\": {\"angularaxis\": {\"gridcolor\": \"white\", \"linecolor\": \"white\", \"ticks\": \"\"}, \"bgcolor\": \"#E5ECF6\", \"radialaxis\": {\"gridcolor\": \"white\", \"linecolor\": \"white\", \"ticks\": \"\"}}, \"scene\": {\"xaxis\": {\"backgroundcolor\": \"#E5ECF6\", \"gridcolor\": \"white\", \"gridwidth\": 2, \"linecolor\": \"white\", \"showbackground\": true, \"ticks\": \"\", \"zerolinecolor\": \"white\"}, \"yaxis\": {\"backgroundcolor\": \"#E5ECF6\", \"gridcolor\": \"white\", \"gridwidth\": 2, \"linecolor\": \"white\", \"showbackground\": true, \"ticks\": \"\", \"zerolinecolor\": \"white\"}, \"zaxis\": {\"backgroundcolor\": \"#E5ECF6\", \"gridcolor\": \"white\", \"gridwidth\": 2, \"linecolor\": \"white\", \"showbackground\": true, \"ticks\": \"\", \"zerolinecolor\": \"white\"}}, \"shapedefaults\": {\"line\": {\"color\": \"#2a3f5f\"}}, \"ternary\": {\"aaxis\": {\"gridcolor\": \"white\", \"linecolor\": \"white\", \"ticks\": \"\"}, \"baxis\": {\"gridcolor\": \"white\", \"linecolor\": \"white\", \"ticks\": \"\"}, \"bgcolor\": \"#E5ECF6\", \"caxis\": {\"gridcolor\": \"white\", \"linecolor\": \"white\", \"ticks\": \"\"}}, \"title\": {\"x\": 0.05}, \"xaxis\": {\"automargin\": true, \"gridcolor\": \"white\", \"linecolor\": \"white\", \"ticks\": \"\", \"title\": {\"standoff\": 15}, \"zerolinecolor\": \"white\", \"zerolinewidth\": 2}, \"yaxis\": {\"automargin\": true, \"gridcolor\": \"white\", \"linecolor\": \"white\", \"ticks\": \"\", \"title\": {\"standoff\": 15}, \"zerolinecolor\": \"white\", \"zerolinewidth\": 2}}}, \"width\": 1000},\n",
              "                        {\"responsive\": true}\n",
              "                    ).then(function(){\n",
              "                            \n",
              "var gd = document.getElementById('a610ecd6-9311-4754-b3f9-36679e40b64c');\n",
              "var x = new MutationObserver(function (mutations, observer) {{\n",
              "        var display = window.getComputedStyle(gd).display;\n",
              "        if (!display || display === 'none') {{\n",
              "            console.log([gd, 'removed!']);\n",
              "            Plotly.purge(gd);\n",
              "            observer.disconnect();\n",
              "        }}\n",
              "}});\n",
              "\n",
              "// Listen for the removal of the full notebook cells\n",
              "var notebookContainer = gd.closest('#notebook-container');\n",
              "if (notebookContainer) {{\n",
              "    x.observe(notebookContainer, {childList: true});\n",
              "}}\n",
              "\n",
              "// Listen for the clearing of the current output cell\n",
              "var outputEl = gd.closest('.output');\n",
              "if (outputEl) {{\n",
              "    x.observe(outputEl, {childList: true});\n",
              "}}\n",
              "\n",
              "                        })\n",
              "                };\n",
              "                \n",
              "            </script>\n",
              "        </div>\n",
              "</body>\n",
              "</html>"
            ]
          },
          "metadata": {
            "tags": []
          }
        }
      ]
    },
    {
      "cell_type": "code",
      "metadata": {
        "id": "8F_-QiufV-o6",
        "colab_type": "code",
        "outputId": "c7c0f6dc-3384-43be-e6a9-3154045556cf",
        "colab": {
          "base_uri": "https://localhost:8080/",
          "height": 190
        }
      },
      "source": [
        "!pip install chart_studio"
      ],
      "execution_count": 0,
      "outputs": [
        {
          "output_type": "stream",
          "text": [
            "Requirement already satisfied: chart_studio in /usr/local/lib/python3.6/dist-packages (1.1.0)\n",
            "Requirement already satisfied: requests in /usr/local/lib/python3.6/dist-packages (from chart_studio) (2.23.0)\n",
            "Requirement already satisfied: plotly in /usr/local/lib/python3.6/dist-packages (from chart_studio) (4.5.1)\n",
            "Requirement already satisfied: six in /usr/local/lib/python3.6/dist-packages (from chart_studio) (1.12.0)\n",
            "Requirement already satisfied: retrying>=1.3.3 in /usr/local/lib/python3.6/dist-packages (from chart_studio) (1.3.3)\n",
            "Requirement already satisfied: certifi>=2017.4.17 in /usr/local/lib/python3.6/dist-packages (from requests->chart_studio) (2020.4.5.1)\n",
            "Requirement already satisfied: chardet<4,>=3.0.2 in /usr/local/lib/python3.6/dist-packages (from requests->chart_studio) (3.0.4)\n",
            "Requirement already satisfied: urllib3!=1.25.0,!=1.25.1,<1.26,>=1.21.1 in /usr/local/lib/python3.6/dist-packages (from requests->chart_studio) (1.24.3)\n",
            "Requirement already satisfied: idna<3,>=2.5 in /usr/local/lib/python3.6/dist-packages (from requests->chart_studio) (2.9)\n"
          ],
          "name": "stdout"
        }
      ]
    },
    {
      "cell_type": "code",
      "metadata": {
        "id": "jiabx7C3nW4Q",
        "colab_type": "code",
        "colab": {}
      },
      "source": [
        "import chart_studio"
      ],
      "execution_count": 0,
      "outputs": []
    },
    {
      "cell_type": "code",
      "metadata": {
        "id": "GLHcYmuWncMe",
        "colab_type": "code",
        "colab": {}
      },
      "source": [
        "username = 'kurasaiteja' # your username\n",
        "api_key = 'jTMcdRFLTJYTcHWR3Cqp' # your api key - go to profile > settings > regenerate key\n",
        "chart_studio.tools.set_credentials_file(username=username, api_key=api_key)"
      ],
      "execution_count": 0,
      "outputs": []
    },
    {
      "cell_type": "code",
      "metadata": {
        "id": "zlk7vXw_o46h",
        "colab_type": "code",
        "outputId": "f2c063e9-0255-452d-b90e-5e999f7ec26f",
        "colab": {
          "base_uri": "https://localhost:8080/",
          "height": 34
        }
      },
      "source": [
        "import chart_studio.plotly as py\n",
        "py.plot(company_tree_map, filename = 'gdp_per_cap', auto_open=True)"
      ],
      "execution_count": 0,
      "outputs": [
        {
          "output_type": "execute_result",
          "data": {
            "text/plain": [
              "'https://plotly.com/~kurasaiteja/1/'"
            ]
          },
          "metadata": {
            "tags": []
          },
          "execution_count": 56
        }
      ]
    },
    {
      "cell_type": "code",
      "metadata": {
        "id": "RRinI3v-pR24",
        "colab_type": "code",
        "outputId": "6c0f73b0-8dfe-47d0-d21d-0017ed524869",
        "colab": {
          "base_uri": "https://localhost:8080/",
          "height": 34
        }
      },
      "source": [
        "import chart_studio.plotly as py\n",
        "py.plot(connections_line, filename = 'Connections Line Plot', auto_open=True)"
      ],
      "execution_count": 0,
      "outputs": [
        {
          "output_type": "execute_result",
          "data": {
            "text/plain": [
              "'https://plotly.com/~kurasaiteja/6/'"
            ]
          },
          "metadata": {
            "tags": []
          },
          "execution_count": 59
        }
      ]
    },
    {
      "cell_type": "code",
      "metadata": {
        "id": "fm5hXTVtM6sh",
        "colab_type": "code",
        "outputId": "9626235f-1a6d-493f-f0fc-37fa10860aa3",
        "colab": {
          "base_uri": "https://localhost:8080/",
          "height": 34
        }
      },
      "source": [
        "import chart_studio.plotly as py\n",
        "py.plot(hist_company, filename = 'COmpany Histogram', auto_open=True)"
      ],
      "execution_count": 0,
      "outputs": [
        {
          "output_type": "execute_result",
          "data": {
            "text/plain": [
              "'https://plotly.com/~kurasaiteja/15/'"
            ]
          },
          "metadata": {
            "tags": []
          },
          "execution_count": 60
        }
      ]
    },
    {
      "cell_type": "code",
      "metadata": {
        "id": "-ofNwE6zM-HN",
        "colab_type": "code",
        "outputId": "d9ede510-aa28-42fe-e42d-65599b677b4a",
        "colab": {
          "base_uri": "https://localhost:8080/",
          "height": 34
        }
      },
      "source": [
        "import chart_studio.plotly as py\n",
        "py.plot(position_tree_map, filename = 'COmpany Histogram', auto_open=True)\n"
      ],
      "execution_count": 0,
      "outputs": [
        {
          "output_type": "execute_result",
          "data": {
            "text/plain": [
              "'https://plotly.com/~kurasaiteja/15/'"
            ]
          },
          "metadata": {
            "tags": []
          },
          "execution_count": 64
        }
      ]
    }
  ]
}